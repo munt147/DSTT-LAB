{
  "nbformat": 4,
  "nbformat_minor": 0,
  "metadata": {
    "colab": {
      "provenance": []
    },
    "kernelspec": {
      "name": "python3",
      "display_name": "Python 3"
    },
    "language_info": {
      "name": "python"
    }
  },
  "cells": [
    {
      "cell_type": "markdown",
      "source": [
        "1. Định thức và các tính chất"
      ],
      "metadata": {
        "id": "AyvElSjVWeCr"
      }
    },
    {
      "cell_type": "code",
      "execution_count": 1,
      "metadata": {
        "id": "7AOxDZ96UOmG"
      },
      "outputs": [],
      "source": [
        "import numpy as np\n",
        "n = 4\n",
        "X = np.array(range(1,n+1))\n",
        "sigma = np.array([4,3,2,1])"
      ]
    },
    {
      "cell_type": "code",
      "source": [
        "def sgn_by_def(sigma):\n",
        "    ket_qua = 1.0\n",
        "    for i in range(len(X)-1):\n",
        "        for j in range(i+1, len(X)):\n",
        "            ket_qua = ket_qua * ((X[i] - X[j]) / (sigma[i] - sigma[j]))\n",
        "    return int(ket_qua)"
      ],
      "metadata": {
        "id": "ZCrESFioXCjK"
      },
      "execution_count": 3,
      "outputs": []
    },
    {
      "cell_type": "code",
      "source": [
        "sigma = np.array([2,1,3,4])\n",
        "sgn_by_def(sigma)"
      ],
      "metadata": {
        "colab": {
          "base_uri": "https://localhost:8080/"
        },
        "id": "DN8rHWodXEUT",
        "outputId": "433cd958-4c4d-459c-a10b-c175a438895d"
      },
      "execution_count": 4,
      "outputs": [
        {
          "output_type": "execute_result",
          "data": {
            "text/plain": [
              "-1"
            ]
          },
          "metadata": {},
          "execution_count": 4
        }
      ]
    },
    {
      "cell_type": "code",
      "source": [
        "sigma = np.array([1,2,3,4])\n",
        "sgn_by_def(sigma)"
      ],
      "metadata": {
        "colab": {
          "base_uri": "https://localhost:8080/"
        },
        "id": "1NZ3k4YjXFpS",
        "outputId": "82d73f70-7128-4949-fcee-beb5ed690bbf"
      },
      "execution_count": 5,
      "outputs": [
        {
          "output_type": "execute_result",
          "data": {
            "text/plain": [
              "1"
            ]
          },
          "metadata": {},
          "execution_count": 5
        }
      ]
    },
    {
      "cell_type": "code",
      "source": [
        "sigma = np.array([4,3,2,1])\n",
        "sgn_by_def(sigma)"
      ],
      "metadata": {
        "colab": {
          "base_uri": "https://localhost:8080/"
        },
        "id": "UbHZVJY-XF4A",
        "outputId": "150f6ed0-f94f-4490-c78c-9696aa9f60e5"
      },
      "execution_count": 6,
      "outputs": [
        {
          "output_type": "execute_result",
          "data": {
            "text/plain": [
              "1"
            ]
          },
          "metadata": {},
          "execution_count": 6
        }
      ]
    },
    {
      "cell_type": "markdown",
      "source": [
        "Định thức:"
      ],
      "metadata": {
        "id": "8et_wtVoXMuy"
      }
    },
    {
      "cell_type": "markdown",
      "source": [
        "Bước 1:"
      ],
      "metadata": {
        "id": "K2SaZyhwXZsf"
      }
    },
    {
      "cell_type": "code",
      "source": [
        "from itertools import permutations\n",
        "\n",
        "n = 3\n",
        "X = []\n",
        "for i in range(1, n+1):\n",
        "    X.append(i)\n",
        "Sn = list(permutations(X))\n",
        "print(Sn)"
      ],
      "metadata": {
        "colab": {
          "base_uri": "https://localhost:8080/"
        },
        "id": "eyNjQCekXP91",
        "outputId": "7bab955c-cec8-4946-d3e8-6ec8b5adf885"
      },
      "execution_count": 7,
      "outputs": [
        {
          "output_type": "stream",
          "name": "stdout",
          "text": [
            "[(1, 2, 3), (1, 3, 2), (2, 1, 3), (2, 3, 1), (3, 1, 2), (3, 2, 1)]\n"
          ]
        }
      ]
    },
    {
      "cell_type": "markdown",
      "source": [
        "Bước 2:  khởi tạo giá trị ban đầu của định thức"
      ],
      "metadata": {
        "id": "FY7iPlgTXb_v"
      }
    },
    {
      "cell_type": "code",
      "source": [
        "det = 0"
      ],
      "metadata": {
        "id": "kUyCeoT1XYlX"
      },
      "execution_count": 8,
      "outputs": []
    },
    {
      "cell_type": "markdown",
      "source": [
        "Bước 3: Xây dựng hàm tính dấu (sgn) cho tập Sn và giá trị ma trận"
      ],
      "metadata": {
        "id": "uQ5L1N0OXpiU"
      }
    },
    {
      "cell_type": "code",
      "source": [
        "import numpy as np"
      ],
      "metadata": {
        "id": "Dm_0aCc6Yyp6"
      },
      "execution_count": 17,
      "outputs": []
    },
    {
      "cell_type": "markdown",
      "source": [
        "Đoạn code 1:"
      ],
      "metadata": {
        "id": "6CF5CeHibuby"
      }
    },
    {
      "cell_type": "code",
      "source": [
        "def phatsinh_dinhthuc(n):\n",
        "    X = []\n",
        "    for i in range(1, n+1):\n",
        "        X.append(i)\n",
        "    Sn = list(permutations(X))\n",
        "    dinhthuc = \"\"\n",
        "    for sn in Sn:\n",
        "        sigma = np.array([1])\n",
        "        sigma.resize((n,))\n",
        "        product = \"\"\n",
        "        for i in range(1, n+1):\n",
        "            sigma[sn.index(i)] = i\n",
        "            product = product + \"a\" + str(i) + str(sn.index(i)+1)\n",
        "        dau = sgn_by_def(sigma)\n",
        "        if (dau != 1):\n",
        "            product = \" - \" + product\n",
        "        else:\n",
        "            product = \" + \" + product\n",
        "        dinhthuc = dinhthuc + product\n",
        "    return dinhthuc"
      ],
      "metadata": {
        "id": "EasKV_caY89R"
      },
      "execution_count": 22,
      "outputs": []
    },
    {
      "cell_type": "code",
      "source": [
        "print(phatsinh_dinhthuc(2))"
      ],
      "metadata": {
        "colab": {
          "base_uri": "https://localhost:8080/",
          "height": 269
        },
        "id": "k-bP8fEqaIji",
        "outputId": "25d0ed38-ef10-4667-f235-db1c14f4b619"
      },
      "execution_count": 24,
      "outputs": [
        {
          "output_type": "error",
          "ename": "IndexError",
          "evalue": "index 2 is out of bounds for axis 0 with size 2",
          "traceback": [
            "\u001b[0;31m---------------------------------------------------------------------------\u001b[0m",
            "\u001b[0;31mIndexError\u001b[0m                                Traceback (most recent call last)",
            "\u001b[0;32m<ipython-input-24-1159126143>\u001b[0m in \u001b[0;36m<cell line: 0>\u001b[0;34m()\u001b[0m\n\u001b[0;32m----> 1\u001b[0;31m \u001b[0mprint\u001b[0m\u001b[0;34m(\u001b[0m\u001b[0mphatsinh_dinhthuc\u001b[0m\u001b[0;34m(\u001b[0m\u001b[0;36m2\u001b[0m\u001b[0;34m)\u001b[0m\u001b[0;34m)\u001b[0m\u001b[0;34m\u001b[0m\u001b[0;34m\u001b[0m\u001b[0m\n\u001b[0m",
            "\u001b[0;32m<ipython-input-22-2063941928>\u001b[0m in \u001b[0;36mphatsinh_dinhthuc\u001b[0;34m(n)\u001b[0m\n\u001b[1;32m     12\u001b[0m             \u001b[0msigma\u001b[0m\u001b[0;34m[\u001b[0m\u001b[0msn\u001b[0m\u001b[0;34m.\u001b[0m\u001b[0mindex\u001b[0m\u001b[0;34m(\u001b[0m\u001b[0mi\u001b[0m\u001b[0;34m)\u001b[0m\u001b[0;34m]\u001b[0m \u001b[0;34m=\u001b[0m \u001b[0mi\u001b[0m\u001b[0;34m\u001b[0m\u001b[0;34m\u001b[0m\u001b[0m\n\u001b[1;32m     13\u001b[0m             \u001b[0mproduct\u001b[0m \u001b[0;34m=\u001b[0m \u001b[0mproduct\u001b[0m \u001b[0;34m+\u001b[0m \u001b[0;34m\"a\"\u001b[0m \u001b[0;34m+\u001b[0m \u001b[0mstr\u001b[0m\u001b[0;34m(\u001b[0m\u001b[0mi\u001b[0m\u001b[0;34m)\u001b[0m \u001b[0;34m+\u001b[0m \u001b[0mstr\u001b[0m\u001b[0;34m(\u001b[0m\u001b[0msn\u001b[0m\u001b[0;34m.\u001b[0m\u001b[0mindex\u001b[0m\u001b[0;34m(\u001b[0m\u001b[0mi\u001b[0m\u001b[0;34m)\u001b[0m\u001b[0;34m+\u001b[0m\u001b[0;36m1\u001b[0m\u001b[0;34m)\u001b[0m\u001b[0;34m\u001b[0m\u001b[0;34m\u001b[0m\u001b[0m\n\u001b[0;32m---> 14\u001b[0;31m         \u001b[0mdau\u001b[0m \u001b[0;34m=\u001b[0m \u001b[0msgn_by_def\u001b[0m\u001b[0;34m(\u001b[0m\u001b[0msigma\u001b[0m\u001b[0;34m)\u001b[0m\u001b[0;34m\u001b[0m\u001b[0;34m\u001b[0m\u001b[0m\n\u001b[0m\u001b[1;32m     15\u001b[0m         \u001b[0;32mif\u001b[0m \u001b[0;34m(\u001b[0m\u001b[0mdau\u001b[0m \u001b[0;34m!=\u001b[0m \u001b[0;36m1\u001b[0m\u001b[0;34m)\u001b[0m\u001b[0;34m:\u001b[0m\u001b[0;34m\u001b[0m\u001b[0;34m\u001b[0m\u001b[0m\n\u001b[1;32m     16\u001b[0m             \u001b[0mproduct\u001b[0m \u001b[0;34m=\u001b[0m \u001b[0;34m\" - \"\u001b[0m \u001b[0;34m+\u001b[0m \u001b[0mproduct\u001b[0m\u001b[0;34m\u001b[0m\u001b[0;34m\u001b[0m\u001b[0m\n",
            "\u001b[0;32m<ipython-input-3-1939892539>\u001b[0m in \u001b[0;36msgn_by_def\u001b[0;34m(sigma)\u001b[0m\n\u001b[1;32m      3\u001b[0m     \u001b[0;32mfor\u001b[0m \u001b[0mi\u001b[0m \u001b[0;32min\u001b[0m \u001b[0mrange\u001b[0m\u001b[0;34m(\u001b[0m\u001b[0mlen\u001b[0m\u001b[0;34m(\u001b[0m\u001b[0mX\u001b[0m\u001b[0;34m)\u001b[0m\u001b[0;34m-\u001b[0m\u001b[0;36m1\u001b[0m\u001b[0;34m)\u001b[0m\u001b[0;34m:\u001b[0m\u001b[0;34m\u001b[0m\u001b[0;34m\u001b[0m\u001b[0m\n\u001b[1;32m      4\u001b[0m         \u001b[0;32mfor\u001b[0m \u001b[0mj\u001b[0m \u001b[0;32min\u001b[0m \u001b[0mrange\u001b[0m\u001b[0;34m(\u001b[0m\u001b[0mi\u001b[0m\u001b[0;34m+\u001b[0m\u001b[0;36m1\u001b[0m\u001b[0;34m,\u001b[0m \u001b[0mlen\u001b[0m\u001b[0;34m(\u001b[0m\u001b[0mX\u001b[0m\u001b[0;34m)\u001b[0m\u001b[0;34m)\u001b[0m\u001b[0;34m:\u001b[0m\u001b[0;34m\u001b[0m\u001b[0;34m\u001b[0m\u001b[0m\n\u001b[0;32m----> 5\u001b[0;31m             \u001b[0mket_qua\u001b[0m \u001b[0;34m=\u001b[0m \u001b[0mket_qua\u001b[0m \u001b[0;34m*\u001b[0m \u001b[0;34m(\u001b[0m\u001b[0;34m(\u001b[0m\u001b[0mX\u001b[0m\u001b[0;34m[\u001b[0m\u001b[0mi\u001b[0m\u001b[0;34m]\u001b[0m \u001b[0;34m-\u001b[0m \u001b[0mX\u001b[0m\u001b[0;34m[\u001b[0m\u001b[0mj\u001b[0m\u001b[0;34m]\u001b[0m\u001b[0;34m)\u001b[0m \u001b[0;34m/\u001b[0m \u001b[0;34m(\u001b[0m\u001b[0msigma\u001b[0m\u001b[0;34m[\u001b[0m\u001b[0mi\u001b[0m\u001b[0;34m]\u001b[0m \u001b[0;34m-\u001b[0m \u001b[0msigma\u001b[0m\u001b[0;34m[\u001b[0m\u001b[0mj\u001b[0m\u001b[0;34m]\u001b[0m\u001b[0;34m)\u001b[0m\u001b[0;34m)\u001b[0m\u001b[0;34m\u001b[0m\u001b[0;34m\u001b[0m\u001b[0m\n\u001b[0m\u001b[1;32m      6\u001b[0m     \u001b[0;32mreturn\u001b[0m \u001b[0mint\u001b[0m\u001b[0;34m(\u001b[0m\u001b[0mket_qua\u001b[0m\u001b[0;34m)\u001b[0m\u001b[0;34m\u001b[0m\u001b[0;34m\u001b[0m\u001b[0m\n",
            "\u001b[0;31mIndexError\u001b[0m: index 2 is out of bounds for axis 0 with size 2"
          ]
        }
      ]
    },
    {
      "cell_type": "code",
      "source": [
        "phatsinh_dinhthuc(3)"
      ],
      "metadata": {
        "colab": {
          "base_uri": "https://localhost:8080/",
          "height": 36
        },
        "id": "hEPaBHEiazbA",
        "outputId": "30ce8ed9-6143-4194-d8ba-567432e0f0c9"
      },
      "execution_count": 25,
      "outputs": [
        {
          "output_type": "execute_result",
          "data": {
            "text/plain": [
              "' + a11a22a33 - a11a23a32 - a12a21a33 + a13a21a32 + a12a23a31 - a13a22a31'"
            ],
            "application/vnd.google.colaboratory.intrinsic+json": {
              "type": "string"
            }
          },
          "metadata": {},
          "execution_count": 25
        }
      ]
    },
    {
      "cell_type": "markdown",
      "source": [
        "Đoạn code 2:"
      ],
      "metadata": {
        "id": "QooLueQZbwg-"
      }
    },
    {
      "cell_type": "code",
      "source": [
        "def tinhtoan_dinhthuc(A):\n",
        "    X = []\n",
        "    import math\n",
        "    n = int(math.sqrt(A.size))\n",
        "    for i in range(1, n + 1):\n",
        "        X.append(i)\n",
        "    Sn = list(permutations(X))\n",
        "    dinhthuc = 0\n",
        "    for sn in Sn:\n",
        "        sigma = np.array([1])\n",
        "        sigma.resize([n])\n",
        "        product = 1\n",
        "        for i in range(1, n + 1):\n",
        "            sigma[sn.index(i)] = i\n",
        "            product = product * A[i - 1][sn.index(i)]\n",
        "        dau = sgn_by_def(sigma)\n",
        "        if (dau != 1):\n",
        "            product = product * (-1)\n",
        "        dinhthuc = dinhthuc + product\n",
        "    return dinhthuc"
      ],
      "metadata": {
        "id": "cSG66mSXbrBM"
      },
      "execution_count": 26,
      "outputs": []
    },
    {
      "cell_type": "code",
      "source": [
        "matran = np.array([ [3,5,-8], [4, 12, -1], [2,5,3] ])"
      ],
      "metadata": {
        "id": "T7cgXmTdbz-P"
      },
      "execution_count": 29,
      "outputs": []
    },
    {
      "cell_type": "code",
      "source": [
        "tinhtoan_dinhthuc(matran)"
      ],
      "metadata": {
        "colab": {
          "base_uri": "https://localhost:8080/"
        },
        "id": "eoDSKylxb0uu",
        "outputId": "ca08b61c-b02b-4005-9f06-1de6edc3a8e8"
      },
      "execution_count": 31,
      "outputs": [
        {
          "output_type": "execute_result",
          "data": {
            "text/plain": [
              "np.int64(85)"
            ]
          },
          "metadata": {},
          "execution_count": 31
        }
      ]
    },
    {
      "cell_type": "markdown",
      "source": [
        "2. Định thức và ma trận khả nghịch"
      ],
      "metadata": {
        "id": "VK7pvhMrcGOS"
      }
    },
    {
      "cell_type": "markdown",
      "source": [
        "3. Quy tắc Cramer"
      ],
      "metadata": {
        "id": "RhwNE2DhcG00"
      }
    },
    {
      "cell_type": "markdown",
      "source": [
        "Hệ hai phương trình tuyến tính bậc 1:"
      ],
      "metadata": {
        "id": "gMHNWfFicP0i"
      }
    },
    {
      "cell_type": "code",
      "source": [
        "import numpy as np\n",
        "A = np.array([[4, -2],[3, -5]])\n",
        "A1 = np.array([[10, -2],[11, -5]])\n",
        "A2 = np.array([[4, 10],[3, 11]])\n",
        "from scipy import linalg\n",
        "detA = linalg.det(A)\n",
        "detA1 = linalg.det(A1)\n",
        "detA2 = linalg.det(A2)\n",
        "print (detA, detA1, detA2)"
      ],
      "metadata": {
        "colab": {
          "base_uri": "https://localhost:8080/"
        },
        "id": "WvAukdKicKnx",
        "outputId": "9be28988-450e-489e-978d-312a65c52ed7"
      },
      "execution_count": 33,
      "outputs": [
        {
          "output_type": "stream",
          "name": "stdout",
          "text": [
            "-14.0 -28.0 14.000000000000004\n"
          ]
        }
      ]
    },
    {
      "cell_type": "code",
      "source": [
        "if (detA != 0):\n",
        " x1 = detA1 / detA\n",
        " x2 = detA2 / detA\n",
        " print (\"Hai nghiệm của phương trình là: \", x1, x2)"
      ],
      "metadata": {
        "colab": {
          "base_uri": "https://localhost:8080/"
        },
        "id": "tvXbbxBecp8C",
        "outputId": "fad88a39-4d1b-4025-e26b-98903d6648e1"
      },
      "execution_count": 34,
      "outputs": [
        {
          "output_type": "stream",
          "name": "stdout",
          "text": [
            "Hai nghiệm của phương trình là:  2.0 -1.0000000000000002\n"
          ]
        }
      ]
    },
    {
      "cell_type": "markdown",
      "source": [
        "Hệ ba phương trình tuyến tính bậc 1:"
      ],
      "metadata": {
        "id": "0D_39D5peT39"
      }
    },
    {
      "cell_type": "code",
      "source": [
        "import numpy as np\n",
        "A = np.array([[-1, 2, -3],\n",
        "              [2, -2, 1],\n",
        "              [3, -4, 4]])\n",
        "\n",
        "b = np.array([1, 3, 2])\n",
        "\n",
        "rank_A = np.linalg.matrix_rank(A)\n",
        "augmented_matrix = np.column_stack((A, b))\n",
        "rank_augmented = np.linalg.matrix_rank(augmented_matrix)\n",
        "if rank_A == rank_augmented:\n",
        "    if rank_A == A.shape[1]:\n",
        "        solution = np.linalg.solve(A, b)\n",
        "        print(\"Hệ có nghiệm duy nhất:\")\n",
        "        print(f\"a = {solution[0]}\")\n",
        "        print(f\"e = {solution[1]}\")\n",
        "        print(f\"f = {solution[2]}\")\n",
        "    else:\n",
        "        print(\"Hệ có vô số nghiệm\")\n",
        "else:\n",
        "    print(\"Hệ vô nghiệm\")"
      ],
      "metadata": {
        "colab": {
          "base_uri": "https://localhost:8080/"
        },
        "id": "AWq8vv0afYzk",
        "outputId": "9dd13121-975e-48f4-caeb-fe7b7a48d63d"
      },
      "execution_count": 50,
      "outputs": [
        {
          "output_type": "stream",
          "name": "stdout",
          "text": [
            "Hệ có vô số nghiệm\n"
          ]
        }
      ]
    },
    {
      "cell_type": "markdown",
      "source": [
        "4. Bài toán ứng dụng 1: Tính diện tích đa giác, thể tích và các phương trình đường, mặt."
      ],
      "metadata": {
        "id": "RIcoGa9jfp0F"
      }
    },
    {
      "cell_type": "markdown",
      "source": [
        "Ứng dụng 1: Tính diện tích đa giác gồm p điểm (qr\n",
        ", sr):"
      ],
      "metadata": {
        "id": "62pAiTfff0VS"
      }
    },
    {
      "cell_type": "code",
      "source": [
        "import sympy as sp\n",
        "TG = sp.Matrix([[1, 0, 1],[4, 3, 1], [2, 2, 1]])\n",
        "1/2*TG.det()"
      ],
      "metadata": {
        "colab": {
          "base_uri": "https://localhost:8080/",
          "height": 37
        },
        "id": "Nb_cxgdkfqWE",
        "outputId": "2fa1394b-6f16-4ac2-9e71-d578d6eaa4fd"
      },
      "execution_count": 51,
      "outputs": [
        {
          "output_type": "execute_result",
          "data": {
            "text/plain": [
              "1.50000000000000"
            ],
            "text/latex": "$\\displaystyle 1.5$"
          },
          "metadata": {},
          "execution_count": 51
        }
      ]
    },
    {
      "cell_type": "markdown",
      "source": [
        " Ứng dụng 2: Mở rộng bài toán tính diện tích thành thể tích hình tứ diện:"
      ],
      "metadata": {
        "id": "TVDz9Uq6f2Is"
      }
    },
    {
      "cell_type": "code",
      "source": [
        "import sympy as sp\n",
        "M = sp.Matrix([[0, 4, 1, 1], [4, 0, 0, 1], [3, 5, 2, 1], [2, 2,5, 1]])\n",
        "1/6*M.det()"
      ],
      "metadata": {
        "colab": {
          "base_uri": "https://localhost:8080/",
          "height": 37
        },
        "id": "XNRE1GSlf366",
        "outputId": "dc7f6977-74dc-4e34-ecf9-be76f506ad61"
      },
      "execution_count": 54,
      "outputs": [
        {
          "output_type": "execute_result",
          "data": {
            "text/plain": [
              "-12.0000000000000"
            ],
            "text/latex": "$\\displaystyle -12.0$"
          },
          "metadata": {},
          "execution_count": 54
        }
      ]
    },
    {
      "cell_type": "markdown",
      "source": [
        "Ứng dụng 3: Kiểm 4 điểm nằm trên một mặt phẳng trong không gian ba chiều."
      ],
      "metadata": {
        "id": "SCwZGdTAgKb1"
      }
    },
    {
      "cell_type": "code",
      "source": [
        "import sympy as sp\n",
        "M = sp.Matrix([[0, 4, 1, 1], [4, 0, 0, 1], [3, 5, 2, 1], [2, 2,5, 1]])\n",
        "1/6*M.det()"
      ],
      "metadata": {
        "colab": {
          "base_uri": "https://localhost:8080/",
          "height": 37
        },
        "id": "2vgQtt-igLPj",
        "outputId": "4bf3b70b-ebc7-4d36-831f-22b96fe82453"
      },
      "execution_count": 55,
      "outputs": [
        {
          "output_type": "execute_result",
          "data": {
            "text/plain": [
              "-12.0000000000000"
            ],
            "text/latex": "$\\displaystyle -12.0$"
          },
          "metadata": {},
          "execution_count": 55
        }
      ]
    },
    {
      "cell_type": "markdown",
      "source": [
        "Ứng dụng 4: Phương trình mặt phẳng"
      ],
      "metadata": {
        "id": "RrR-mqwGggCs"
      }
    },
    {
      "cell_type": "code",
      "source": [
        "from sympy import *\n",
        "\n",
        "x, y, z = symbols('x y z')\n",
        "\n",
        "MP = Matrix([\n",
        "    [x, y, z, 1],\n",
        "    [-1, 3, 2, 1],\n",
        "    [0, 1, 0, 1],\n",
        "    [-2, 0, 1, 1]\n",
        "])\n",
        "eq = MP.det()\n",
        "print(\"Phương trình mặt phẳng là:\", Eq(eq, 0))"
      ],
      "metadata": {
        "colab": {
          "base_uri": "https://localhost:8080/"
        },
        "id": "sfn3iJ-wgiUK",
        "outputId": "0246d3b6-42b0-4fd8-e840-27f1a7e21b6c"
      },
      "execution_count": 57,
      "outputs": [
        {
          "output_type": "stream",
          "name": "stdout",
          "text": [
            "Phương trình mặt phẳng là: Eq(-4*x + 3*y - 5*z - 3, 0)\n"
          ]
        }
      ]
    },
    {
      "cell_type": "markdown",
      "source": [
        "BÀI TẬP CHƯƠNG 4"
      ],
      "metadata": {
        "id": "0BTkaBrrhFad"
      }
    },
    {
      "cell_type": "markdown",
      "source": [
        "Câu 1:"
      ],
      "metadata": {
        "id": "rVlWhYZ6hIei"
      }
    },
    {
      "cell_type": "code",
      "source": [
        "import sympy as sp\n",
        "\n",
        "A = sp.Matrix([\n",
        "    [1, 2, 3],\n",
        "    [0, 1, 4],\n",
        "    [5, 6, 0]\n",
        "])\n",
        "\n",
        "\n",
        "cofactor_matrix = A.cofactor_matrix()\n",
        "\n",
        "adjoint_matrix = A.adjugate()\n",
        "\n",
        "print(\"Ma trận A:\")\n",
        "sp.pprint(A)\n",
        "\n",
        "print(\"\\nMa trận hệ số kẹp:\")\n",
        "sp.pprint(cofactor_matrix)\n",
        "\n",
        "print(\"\\nMa trận liên hợp:\")\n",
        "sp.pprint(adjoint_matrix)"
      ],
      "metadata": {
        "colab": {
          "base_uri": "https://localhost:8080/"
        },
        "id": "-YjdFmwRhH9w",
        "outputId": "c964dedd-e7b1-4f72-8ec4-d545d62ac6fa"
      },
      "execution_count": 58,
      "outputs": [
        {
          "output_type": "stream",
          "name": "stdout",
          "text": [
            "Ma trận A:\n",
            "⎡1  2  3⎤\n",
            "⎢       ⎥\n",
            "⎢0  1  4⎥\n",
            "⎢       ⎥\n",
            "⎣5  6  0⎦\n",
            "\n",
            "Ma trận hệ số kẹp:\n",
            "⎡-24  20   -5⎤\n",
            "⎢            ⎥\n",
            "⎢18   -15  4 ⎥\n",
            "⎢            ⎥\n",
            "⎣ 5   -4   1 ⎦\n",
            "\n",
            "Ma trận liên hợp:\n",
            "⎡-24  18   5 ⎤\n",
            "⎢            ⎥\n",
            "⎢20   -15  -4⎥\n",
            "⎢            ⎥\n",
            "⎣-5    4   1 ⎦\n"
          ]
        }
      ]
    },
    {
      "cell_type": "markdown",
      "source": [
        "Câu 2:"
      ],
      "metadata": {
        "id": "qo_X52vchYjF"
      }
    },
    {
      "cell_type": "code",
      "source": [
        "import sympy as sp\n",
        "\n",
        "x, y = sp.symbols('x y')\n",
        "x1, y1 = 1, 1\n",
        "x2, y2 = 2, 4\n",
        "x3, y3 = 5, 3\n",
        "\n",
        "M = sp.Matrix([\n",
        "    [x**2 + y**2, x, y, 1],\n",
        "    [x1**2 + y1**2, x1, y1, 1],\n",
        "    [x2**2 + y2**2, x2, y2, 1],\n",
        "    [x3**2 + y3**2, x3, y3, 1]\n",
        "])\n",
        "\n",
        "det = M.det()\n",
        "\n",
        "print(\"Phương trình đường tròn đi qua 3 điểm là:\")\n",
        "sp.pprint(sp.Eq(det, 0))"
      ],
      "metadata": {
        "colab": {
          "base_uri": "https://localhost:8080/"
        },
        "id": "49aqljdnhX_d",
        "outputId": "f0dc05a2-cbe9-439b-d0a0-b2b8ec4562e1"
      },
      "execution_count": 60,
      "outputs": [
        {
          "output_type": "stream",
          "name": "stdout",
          "text": [
            "Phương trình đường tròn đi qua 3 điểm là:\n",
            "      2              2                \n",
            "- 10⋅x  + 60⋅x - 10⋅y  + 40⋅y - 80 = 0\n"
          ]
        }
      ]
    }
  ]
}