{
  "nbformat": 4,
  "nbformat_minor": 0,
  "metadata": {
    "colab": {
      "provenance": []
    },
    "kernelspec": {
      "name": "python3",
      "display_name": "Python 3"
    },
    "language_info": {
      "name": "python"
    }
  },
  "cells": [
    {
      "cell_type": "markdown",
      "source": [
        "CHƯƠNG 6: CÁC KHÁI NIỆM: KHÔNG GIAN VECTOR,\n",
        "TÍCH TRONG VÀ TRỊ RIÊNG, VECTOR RIÊNG"
      ],
      "metadata": {
        "id": "eBUUk9Sncvzf"
      }
    },
    {
      "cell_type": "markdown",
      "source": [
        "1. Khái niệm về không gian vector và tích trong"
      ],
      "metadata": {
        "id": "R09LVQZqczor"
      }
    },
    {
      "cell_type": "markdown",
      "source": [
        "1.1.Tóm tắt lý thuyết"
      ],
      "metadata": {
        "id": "AyT7m0A-c3CA"
      }
    },
    {
      "cell_type": "markdown",
      "source": [
        "1.2.Tích vô hướng, trực giao và ứng dụng"
      ],
      "metadata": {
        "id": "4jFPYFnpdCLn"
      }
    },
    {
      "cell_type": "code",
      "source": [
        "import numpy as np\n",
        "\n",
        "a = np.array([1, 2, 3])\n",
        "b = np.array([4, 5, 6])\n",
        "tich = np.inner(a, b)\n",
        "print(tich)"
      ],
      "metadata": {
        "colab": {
          "base_uri": "https://localhost:8080/"
        },
        "id": "wgGoIu44dLUq",
        "outputId": "b1f22517-f65d-4420-a51f-f3a049132e12"
      },
      "execution_count": 1,
      "outputs": [
        {
          "output_type": "stream",
          "name": "stdout",
          "text": [
            "32\n"
          ]
        }
      ]
    },
    {
      "cell_type": "code",
      "source": [
        "np.dot(a,b)"
      ],
      "metadata": {
        "colab": {
          "base_uri": "https://localhost:8080/"
        },
        "id": "KUSeZJuQdP8i",
        "outputId": "16f14745-3809-412f-935f-5ff7616c70b7"
      },
      "execution_count": 2,
      "outputs": [
        {
          "output_type": "execute_result",
          "data": {
            "text/plain": [
              "np.int64(32)"
            ]
          },
          "metadata": {},
          "execution_count": 2
        }
      ]
    },
    {
      "cell_type": "markdown",
      "source": [
        "- Độ dài/chuẩn của vector:"
      ],
      "metadata": {
        "id": "wbWi2FmhdUpN"
      }
    },
    {
      "cell_type": "code",
      "source": [
        "import numpy as np\n",
        "\n",
        "a = np.array([1, 2, -3])\n",
        "norm = np.linalg.norm(a)\n",
        "print(norm)"
      ],
      "metadata": {
        "colab": {
          "base_uri": "https://localhost:8080/"
        },
        "id": "XJf1nQErdaFg",
        "outputId": "673bc77e-e689-4404-d9c7-265d226e9206"
      },
      "execution_count": 5,
      "outputs": [
        {
          "output_type": "stream",
          "name": "stdout",
          "text": [
            "3.7416573867739413\n"
          ]
        }
      ]
    },
    {
      "cell_type": "code",
      "source": [
        "a = np.array([1, 2, -3])\n",
        "np.linalg.norm(a, 1)"
      ],
      "metadata": {
        "colab": {
          "base_uri": "https://localhost:8080/"
        },
        "id": "U_He1v6fdimj",
        "outputId": "03d52173-56a4-4ff1-af39-f2db5f650bf2"
      },
      "execution_count": 6,
      "outputs": [
        {
          "output_type": "execute_result",
          "data": {
            "text/plain": [
              "np.float64(6.0)"
            ]
          },
          "metadata": {},
          "execution_count": 6
        }
      ]
    },
    {
      "cell_type": "code",
      "source": [
        "import numpy as np\n",
        "def chuan(a, p):\n",
        "    return np.linalg.norm(a, ord=p)\n",
        "a = np.array([1, 2, -3])\n",
        "print(chuan(a, 1))"
      ],
      "metadata": {
        "colab": {
          "base_uri": "https://localhost:8080/"
        },
        "id": "_cLtgOQmehaS",
        "outputId": "b256b28d-8350-4f40-a183-5b568c034b2e"
      },
      "execution_count": 21,
      "outputs": [
        {
          "output_type": "stream",
          "name": "stdout",
          "text": [
            "6.0\n"
          ]
        }
      ]
    },
    {
      "cell_type": "code",
      "source": [
        "np.linalg.norm(a,1)"
      ],
      "metadata": {
        "colab": {
          "base_uri": "https://localhost:8080/"
        },
        "id": "nCxLtljheo96",
        "outputId": "d13c8adf-d041-431d-defb-e5f6f390c6ff"
      },
      "execution_count": 22,
      "outputs": [
        {
          "output_type": "execute_result",
          "data": {
            "text/plain": [
              "np.float64(6.0)"
            ]
          },
          "metadata": {},
          "execution_count": 22
        }
      ]
    },
    {
      "cell_type": "code",
      "source": [
        "chuan(a, 2)"
      ],
      "metadata": {
        "colab": {
          "base_uri": "https://localhost:8080/"
        },
        "id": "rUtRv6cPeqpw",
        "outputId": "01215515-6b09-4605-8fd8-f8f5e5c6ae70"
      },
      "execution_count": 23,
      "outputs": [
        {
          "output_type": "execute_result",
          "data": {
            "text/plain": [
              "np.float64(3.7416573867739413)"
            ]
          },
          "metadata": {},
          "execution_count": 23
        }
      ]
    },
    {
      "cell_type": "code",
      "source": [
        "np.linalg.norm(a,2)"
      ],
      "metadata": {
        "colab": {
          "base_uri": "https://localhost:8080/"
        },
        "id": "8rbNhJuvetId",
        "outputId": "27bc269f-cf6f-45cb-f448-5ee87dbb1d1a"
      },
      "execution_count": 24,
      "outputs": [
        {
          "output_type": "execute_result",
          "data": {
            "text/plain": [
              "np.float64(3.7416573867739413)"
            ]
          },
          "metadata": {},
          "execution_count": 24
        }
      ]
    },
    {
      "cell_type": "code",
      "source": [
        "chuan(a, 3)"
      ],
      "metadata": {
        "colab": {
          "base_uri": "https://localhost:8080/"
        },
        "id": "Kye6E-qGevON",
        "outputId": "cf8526ab-5010-46f4-9f8a-75f843432d71"
      },
      "execution_count": 25,
      "outputs": [
        {
          "output_type": "execute_result",
          "data": {
            "text/plain": [
              "np.float64(3.3019272488946263)"
            ]
          },
          "metadata": {},
          "execution_count": 25
        }
      ]
    },
    {
      "cell_type": "code",
      "source": [
        "np.linalg.norm(a,3)"
      ],
      "metadata": {
        "colab": {
          "base_uri": "https://localhost:8080/"
        },
        "id": "IF4fT_r-ewtO",
        "outputId": "dbd113bf-192e-4264-e57d-70a85072e6ad"
      },
      "execution_count": 26,
      "outputs": [
        {
          "output_type": "execute_result",
          "data": {
            "text/plain": [
              "np.float64(3.3019272488946263)"
            ]
          },
          "metadata": {},
          "execution_count": 26
        }
      ]
    },
    {
      "cell_type": "code",
      "source": [
        "chuan(a, 1000)"
      ],
      "metadata": {
        "colab": {
          "base_uri": "https://localhost:8080/"
        },
        "id": "Uh53eAaCeylR",
        "outputId": "def074e1-de6b-4692-dab9-80410448bf52"
      },
      "execution_count": 27,
      "outputs": [
        {
          "output_type": "stream",
          "name": "stderr",
          "text": [
            "/usr/local/lib/python3.11/dist-packages/numpy/linalg/_linalg.py:2780: RuntimeWarning: overflow encountered in power\n",
            "  absx **= ord\n"
          ]
        },
        {
          "output_type": "execute_result",
          "data": {
            "text/plain": [
              "np.float64(inf)"
            ]
          },
          "metadata": {},
          "execution_count": 27
        }
      ]
    },
    {
      "cell_type": "code",
      "source": [
        "np.linalg.norm(a,1000)"
      ],
      "metadata": {
        "colab": {
          "base_uri": "https://localhost:8080/"
        },
        "id": "fhQYt8Wqe8xK",
        "outputId": "4ca72982-24de-48c8-d9a5-03a472493ddc"
      },
      "execution_count": 28,
      "outputs": [
        {
          "output_type": "stream",
          "name": "stderr",
          "text": [
            "/usr/local/lib/python3.11/dist-packages/numpy/linalg/_linalg.py:2780: RuntimeWarning: overflow encountered in power\n",
            "  absx **= ord\n"
          ]
        },
        {
          "output_type": "execute_result",
          "data": {
            "text/plain": [
              "np.float64(inf)"
            ]
          },
          "metadata": {},
          "execution_count": 28
        }
      ]
    },
    {
      "cell_type": "markdown",
      "source": [
        "Nguyên nhân: Khi tính chuẩn bậc 1000, giá trị quá lớn nên gây tràn số học (overflow). Kết quả trả về là inf (vô cùng)."
      ],
      "metadata": {
        "id": "D2wF9JxtfU1R"
      }
    },
    {
      "cell_type": "code",
      "source": [
        "from scipy import linalg\n",
        "linalg.norm(a)"
      ],
      "metadata": {
        "colab": {
          "base_uri": "https://localhost:8080/"
        },
        "id": "Y0KVgdPKe-6f",
        "outputId": "e47f9b8e-3089-44bb-ed45-e87a71491f69"
      },
      "execution_count": 29,
      "outputs": [
        {
          "output_type": "execute_result",
          "data": {
            "text/plain": [
              "np.float64(3.7416573867739413)"
            ]
          },
          "metadata": {},
          "execution_count": 29
        }
      ]
    },
    {
      "cell_type": "code",
      "source": [
        "linalg.norm(a, 100)"
      ],
      "metadata": {
        "colab": {
          "base_uri": "https://localhost:8080/"
        },
        "id": "CqXe_Vt0fCoP",
        "outputId": "fb27f7e7-0428-4edf-cc2b-94b5222760ad"
      },
      "execution_count": 30,
      "outputs": [
        {
          "output_type": "execute_result",
          "data": {
            "text/plain": [
              "np.float64(3.0)"
            ]
          },
          "metadata": {},
          "execution_count": 30
        }
      ]
    },
    {
      "cell_type": "code",
      "source": [
        "linalg.norm(a, 1000)"
      ],
      "metadata": {
        "colab": {
          "base_uri": "https://localhost:8080/"
        },
        "id": "qo8FrQTefEaJ",
        "outputId": "16fc58a6-0224-4a7e-8da4-6d6cdd50e1c1"
      },
      "execution_count": 31,
      "outputs": [
        {
          "output_type": "stream",
          "name": "stderr",
          "text": [
            "/usr/local/lib/python3.11/dist-packages/numpy/linalg/_linalg.py:2780: RuntimeWarning: overflow encountered in power\n",
            "  absx **= ord\n"
          ]
        },
        {
          "output_type": "execute_result",
          "data": {
            "text/plain": [
              "np.float64(inf)"
            ]
          },
          "metadata": {},
          "execution_count": 31
        }
      ]
    },
    {
      "cell_type": "markdown",
      "source": [
        "2. Đọc thêm: Tổ hợp tuyến tính"
      ],
      "metadata": {
        "id": "kUTWfDvpfarw"
      }
    },
    {
      "cell_type": "code",
      "source": [
        "import numpy as np\n",
        "\n",
        "m = 10\n",
        "v1 = np.array([5, -4, 3])\n",
        "v2 = np.array([4, 3, -2])\n",
        "v3 = np.array([-4, -3, -1])\n",
        "v4 = np.array([-9, 8, 6])\n",
        "mi = np.array([2, 5, 2, 1])\n",
        "M = np.array([v1, v2, v3, v4])\n",
        "MT = M.transpose()\n",
        "MT"
      ],
      "metadata": {
        "colab": {
          "base_uri": "https://localhost:8080/"
        },
        "id": "FPfYPXfufnkf",
        "outputId": "02ff9672-a32e-4111-e868-4983f08e8451"
      },
      "execution_count": 32,
      "outputs": [
        {
          "output_type": "execute_result",
          "data": {
            "text/plain": [
              "array([[ 5,  4, -4, -9],\n",
              "       [-4,  3, -3,  8],\n",
              "       [ 3, -2, -1,  6]])"
            ]
          },
          "metadata": {},
          "execution_count": 32
        }
      ]
    },
    {
      "cell_type": "code",
      "source": [
        "v = (1.0/m)*MT.dot(mi)"
      ],
      "metadata": {
        "id": "TbsqwG_EfqC5"
      },
      "execution_count": 33,
      "outputs": []
    },
    {
      "cell_type": "code",
      "source": [
        "print (v)"
      ],
      "metadata": {
        "colab": {
          "base_uri": "https://localhost:8080/"
        },
        "id": "WkyJBfP9fr8L",
        "outputId": "12817ef0-da7d-4ac1-ec0c-c51e9a489ad2"
      },
      "execution_count": 34,
      "outputs": [
        {
          "output_type": "stream",
          "name": "stdout",
          "text": [
            "[1.3 0.9 0. ]\n"
          ]
        }
      ]
    },
    {
      "cell_type": "markdown",
      "source": [
        "3. Tri riêng, vector riêng của ma trận và ứng dụng"
      ],
      "metadata": {
        "id": "VbHpg_Z1fxDO"
      }
    },
    {
      "cell_type": "markdown",
      "source": [
        "3.1.Bài toán dẫn nhập"
      ],
      "metadata": {
        "id": "h_Lcgb93fyOm"
      }
    },
    {
      "cell_type": "code",
      "source": [
        "import numpy as np\n",
        "A = np.array([[0.998, 0.136],\n",
        "              [0.002, 0.864]])"
      ],
      "metadata": {
        "id": "IEsr9fLJgqdt"
      },
      "execution_count": 36,
      "outputs": []
    },
    {
      "cell_type": "code",
      "source": [
        "v0 = np.array([0.95, 0.05])"
      ],
      "metadata": {
        "id": "hUGq4_dUhBPZ"
      },
      "execution_count": 37,
      "outputs": []
    },
    {
      "cell_type": "code",
      "source": [
        "A_100 = np.linalg.matrix_power(A, 100)"
      ],
      "metadata": {
        "id": "agDCCro1hDSL"
      },
      "execution_count": 38,
      "outputs": []
    },
    {
      "cell_type": "code",
      "source": [
        "v100 = A_100 @ v0"
      ],
      "metadata": {
        "id": "uzfP38SHhFAz"
      },
      "execution_count": 39,
      "outputs": []
    },
    {
      "cell_type": "code",
      "source": [
        "print(v100)"
      ],
      "metadata": {
        "colab": {
          "base_uri": "https://localhost:8080/"
        },
        "id": "uhFUARYwhHZk",
        "outputId": "a59f6a36-a0e9-4102-b620-29519f8168db"
      },
      "execution_count": 40,
      "outputs": [
        {
          "output_type": "stream",
          "name": "stdout",
          "text": [
            "[0.98550723 0.01449277]\n"
          ]
        }
      ]
    },
    {
      "cell_type": "markdown",
      "source": [
        "Trạng thái cân bằng (Markov)"
      ],
      "metadata": {
        "id": "onWIg0wxhKOf"
      }
    },
    {
      "cell_type": "code",
      "source": [
        "import numpy as np\n",
        "\n",
        "A = np.array([[1, -68],\n",
        "              [1,  1]])\n",
        "\n",
        "v = np.array([0, 1])\n",
        "\n",
        "nghiem = np.linalg.solve(A, v)\n",
        "print(nghiem)"
      ],
      "metadata": {
        "colab": {
          "base_uri": "https://localhost:8080/"
        },
        "id": "Ko6GTsJmiYjm",
        "outputId": "ac740d72-2e4b-452f-f3ec-f594091461f2"
      },
      "execution_count": 41,
      "outputs": [
        {
          "output_type": "stream",
          "name": "stdout",
          "text": [
            "[0.98550725 0.01449275]\n"
          ]
        }
      ]
    },
    {
      "cell_type": "code",
      "source": [
        "import sympy as sym\n",
        "x, y = sym.symbols('x y')\n",
        "xy = sym.Matrix([x, y])\n",
        "A = sym.Matrix([[1, -68], [1, 1]])\n",
        "v = sym.Matrix([0, 1])\n",
        "nghiem = sym.solve([A * xy - v])\n",
        "print(sym.pretty(nghiem))"
      ],
      "metadata": {
        "colab": {
          "base_uri": "https://localhost:8080/"
        },
        "id": "MJIH6almjbLz",
        "outputId": "74233a39-ed17-4ca6-a555-ab46ea54d5c6"
      },
      "execution_count": 42,
      "outputs": [
        {
          "output_type": "stream",
          "name": "stdout",
          "text": [
            "⎧   68         ⎫\n",
            "⎨x: ──, y: 1/69⎬\n",
            "⎩   69         ⎭\n"
          ]
        }
      ]
    },
    {
      "cell_type": "markdown",
      "source": [
        "3.2.Trị riêng và vector riêng của ma trận"
      ],
      "metadata": {
        "id": "oTY8uJl7kd2t"
      }
    },
    {
      "cell_type": "code",
      "source": [
        "import sympy as sym\n",
        "\n",
        "A = sym.Matrix([[1, 5],\n",
        "                [6, 2]])\n",
        "\n",
        "u = sym.Matrix([6, -5])\n",
        "\n",
        "ket_qua = A * u\n",
        "so_sanh = -4 * u\n",
        "\n",
        "print(\"Au =\")\n",
        "sym.pprint(ket_qua)\n",
        "print(\"\\n-4u =\")\n",
        "sym.pprint(so_sanh)\n",
        "\n",
        "print(\"\\nKiểm tra Au == -4u:\", ket_qua == so_sanh)"
      ],
      "metadata": {
        "colab": {
          "base_uri": "https://localhost:8080/"
        },
        "id": "RSVaIiidlfG3",
        "outputId": "29beee2b-7636-4cc1-a882-077587bac216"
      },
      "execution_count": 43,
      "outputs": [
        {
          "output_type": "stream",
          "name": "stdout",
          "text": [
            "Au =\n",
            "⎡-19⎤\n",
            "⎢   ⎥\n",
            "⎣26 ⎦\n",
            "\n",
            "-4u =\n",
            "⎡-24⎤\n",
            "⎢   ⎥\n",
            "⎣20 ⎦\n",
            "\n",
            "Kiểm tra Au == -4u: False\n"
          ]
        }
      ]
    },
    {
      "cell_type": "code",
      "source": [
        "import sympy\n",
        "x, y, Lambda = sympy.symbols('x y Lambda')\n",
        "I = sympy.eye(2)\n",
        "A = sympy.Matrix([[2, 3], [3, -6]])\n",
        "phuongtrinh = sympy.Eq(sympy.det(Lambda*I - A), 0)\n",
        "nghiem = sympy.solve(phuongtrinh)\n",
        "print([sympy.N(phantu, 4) for phantu in nghiem])"
      ],
      "metadata": {
        "colab": {
          "base_uri": "https://localhost:8080/"
        },
        "id": "7c92pSCblnHk",
        "outputId": "f934c5ff-7508-419b-fe74-66bc4ef015a0"
      },
      "execution_count": 44,
      "outputs": [
        {
          "output_type": "stream",
          "name": "stdout",
          "text": [
            "[-7.000, 3.000]\n"
          ]
        }
      ]
    },
    {
      "cell_type": "code",
      "source": [
        "print (sympy.pretty(nghiem))"
      ],
      "metadata": {
        "colab": {
          "base_uri": "https://localhost:8080/"
        },
        "id": "T8NjCfT8lpXR",
        "outputId": "ede14fbd-b5ff-4e5e-c63f-e56b223dd858"
      },
      "execution_count": 45,
      "outputs": [
        {
          "output_type": "stream",
          "name": "stdout",
          "text": [
            "[-7, 3]\n"
          ]
        }
      ]
    },
    {
      "cell_type": "code",
      "source": [
        "import sympy as sym\n",
        "\n",
        "x1, x2 = sym.symbols('x1 x2')\n",
        "x = sym.Matrix([x1, x2])\n",
        "A = sym.Matrix([[2, 3], [3, -6]])\n",
        "I = sym.eye(2)\n",
        "lambda_val = 3\n",
        "\n",
        "pt = (A - lambda_val * I) * x\n",
        "nghiem = sym.solve([pt[0], pt[1]], (x1, x2), dict=True)\n",
        "print(nghiem)"
      ],
      "metadata": {
        "colab": {
          "base_uri": "https://localhost:8080/"
        },
        "id": "0JFuVdpTlw7u",
        "outputId": "87bdeace-3d96-4aab-813c-bb4b6f346122"
      },
      "execution_count": 46,
      "outputs": [
        {
          "output_type": "stream",
          "name": "stdout",
          "text": [
            "[{x1: 3*x2}]\n"
          ]
        }
      ]
    },
    {
      "cell_type": "markdown",
      "source": [
        "3.3.Ứng dụng của trị riêng và vector riêng"
      ],
      "metadata": {
        "id": "UEffHaxblzd6"
      }
    },
    {
      "cell_type": "code",
      "source": [
        "import numpy as np\n",
        "from numpy import linalg as LA\n",
        "\n",
        "A = np.array([[2, 3], [3, -6]])\n",
        "D = np.array([[-7, 0], [0, 3]])\n",
        "P = np.array([[-1.0/3, 3], [1, 1]])\n",
        "\n",
        "P1 = LA.inv(P)\n",
        "print(P1)"
      ],
      "metadata": {
        "colab": {
          "base_uri": "https://localhost:8080/"
        },
        "id": "H1FyfNL8l-S0",
        "outputId": "1f3d33ed-d737-4f7d-8194-b25ea0c05bfd"
      },
      "execution_count": 47,
      "outputs": [
        {
          "output_type": "stream",
          "name": "stdout",
          "text": [
            "[[-0.3  0.9]\n",
            " [ 0.3  0.1]]\n"
          ]
        }
      ]
    },
    {
      "cell_type": "code",
      "source": [
        "print(np.dot(A, P))"
      ],
      "metadata": {
        "colab": {
          "base_uri": "https://localhost:8080/"
        },
        "id": "A8XVr1s7mCV9",
        "outputId": "8c5c8bda-98e5-4872-e717-d2eee4ef800f"
      },
      "execution_count": 48,
      "outputs": [
        {
          "output_type": "stream",
          "name": "stdout",
          "text": [
            "[[ 2.33333333  9.        ]\n",
            " [-7.          3.        ]]\n"
          ]
        }
      ]
    },
    {
      "cell_type": "code",
      "source": [
        "print(np.dot(P, D))"
      ],
      "metadata": {
        "colab": {
          "base_uri": "https://localhost:8080/"
        },
        "id": "XKH5nfIVmEQ_",
        "outputId": "4183e6b1-76a6-4f6c-bd0c-5b536908187e"
      },
      "execution_count": 49,
      "outputs": [
        {
          "output_type": "stream",
          "name": "stdout",
          "text": [
            "[[ 2.33333333  9.        ]\n",
            " [-7.          3.        ]]\n"
          ]
        }
      ]
    },
    {
      "cell_type": "code",
      "source": [
        "A1000 = P @ (D ** 1000) @ P1\n",
        "print(A1000)"
      ],
      "metadata": {
        "colab": {
          "base_uri": "https://localhost:8080/"
        },
        "id": "MHOY-FdXmH-a",
        "outputId": "16726ce7-e103-4991-cd66-32b9bdbfdcdd"
      },
      "execution_count": 50,
      "outputs": [
        {
          "output_type": "stream",
          "name": "stdout",
          "text": [
            "[[ 5.03503397e+18  3.50482117e+18]\n",
            " [ 3.50482117e+18 -4.31115581e+18]]\n"
          ]
        }
      ]
    },
    {
      "cell_type": "code",
      "source": [
        "print (D **2)"
      ],
      "metadata": {
        "colab": {
          "base_uri": "https://localhost:8080/"
        },
        "id": "dk2ncNwamdQq",
        "outputId": "94e1fccc-d98a-4a89-fdea-70264d7ac8e0"
      },
      "execution_count": 51,
      "outputs": [
        {
          "output_type": "stream",
          "name": "stdout",
          "text": [
            "[[49  0]\n",
            " [ 0  9]]\n"
          ]
        }
      ]
    },
    {
      "cell_type": "markdown",
      "source": [
        "BÀI TẬP CHƯƠNG 6"
      ],
      "metadata": {
        "id": "UjN29YaSmtSw"
      }
    },
    {
      "cell_type": "markdown",
      "source": [
        "Câu 1"
      ],
      "metadata": {
        "id": "Z4d6GcFZmu_u"
      }
    },
    {
      "cell_type": "code",
      "source": [
        "import numpy as np\n",
        "a = np.array([1,2,3])"
      ],
      "metadata": {
        "id": "ot4CDKlVmwUH"
      },
      "execution_count": 52,
      "outputs": []
    },
    {
      "cell_type": "markdown",
      "source": [
        "câu lệnh được tính chuẩn bậc 2 là a. >>> mag = np.sqrt(a.dot(a))"
      ],
      "metadata": {
        "id": "3cbYUWWqnKSx"
      }
    },
    {
      "cell_type": "markdown",
      "source": [
        "Câu 2:"
      ],
      "metadata": {
        "id": "DjIcSRPpnRNK"
      }
    },
    {
      "cell_type": "markdown",
      "source": [
        "a. Tính khoảng cách giữa 2 vector\n",
        "∥\n",
        "𝑢\n",
        "−\n",
        "𝑣\n",
        "∥\n",
        "∥u−v∥"
      ],
      "metadata": {
        "id": "J2KnMgbTnZNv"
      }
    },
    {
      "cell_type": "code",
      "source": [
        "import numpy as np\n",
        "\n",
        "u = np.array([1, 2, 3])\n",
        "v = np.array([4, 0, -1])\n",
        "\n",
        "distance = np.linalg.norm(u - v)\n",
        "print(\"Khoảng cách:\", distance)"
      ],
      "metadata": {
        "colab": {
          "base_uri": "https://localhost:8080/"
        },
        "id": "ayOPSDz8nTRZ",
        "outputId": "41706982-076c-4896-f17c-028bfc850185"
      },
      "execution_count": 53,
      "outputs": [
        {
          "output_type": "stream",
          "name": "stdout",
          "text": [
            "Khoảng cách: 5.385164807134504\n"
          ]
        }
      ]
    },
    {
      "cell_type": "markdown",
      "source": [
        "b. Tính góc θ giữa 2 vector (đơn vị: radian)"
      ],
      "metadata": {
        "id": "s_UgEP_qndTj"
      }
    },
    {
      "cell_type": "code",
      "source": [
        "dot = np.dot(u, v)\n",
        "norm_u = np.linalg.norm(u)\n",
        "norm_v = np.linalg.norm(v)\n",
        "\n",
        "cos_theta = dot / (norm_u * norm_v)\n",
        "theta = np.arccos(cos_theta)\n",
        "\n",
        "print(\"Góc θ (radian):\", theta)"
      ],
      "metadata": {
        "colab": {
          "base_uri": "https://localhost:8080/"
        },
        "id": "F_HPPXl_nl9g",
        "outputId": "2e3b5157-b276-4e11-b83e-a011b3850310"
      },
      "execution_count": 54,
      "outputs": [
        {
          "output_type": "stream",
          "name": "stdout",
          "text": [
            "Góc θ (radian): 1.5059304759807983\n"
          ]
        }
      ]
    },
    {
      "cell_type": "markdown",
      "source": [
        "c. Phép chiếu trực giao của u lên v"
      ],
      "metadata": {
        "id": "vyG2kkLFnn-0"
      }
    },
    {
      "cell_type": "code",
      "source": [
        "projection = (np.dot(u, v) / np.dot(v, v)) * v\n",
        "print(\"Phép chiếu u lên v:\", projection)"
      ],
      "metadata": {
        "id": "fk472xaQnpZX",
        "outputId": "fe391dd5-9f1a-4a47-e69a-3bc41c9dab4f",
        "colab": {
          "base_uri": "https://localhost:8080/"
        }
      },
      "execution_count": 55,
      "outputs": [
        {
          "output_type": "stream",
          "name": "stdout",
          "text": [
            "Phép chiếu u lên v: [ 0.23529412  0.         -0.05882353]\n"
          ]
        }
      ]
    }
  ]
}