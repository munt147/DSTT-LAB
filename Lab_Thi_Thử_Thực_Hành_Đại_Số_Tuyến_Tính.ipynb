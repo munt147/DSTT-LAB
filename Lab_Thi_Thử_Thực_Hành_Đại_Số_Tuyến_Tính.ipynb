{
  "nbformat": 4,
  "nbformat_minor": 0,
  "metadata": {
    "colab": {
      "provenance": []
    },
    "kernelspec": {
      "name": "python3",
      "display_name": "Python 3"
    },
    "language_info": {
      "name": "python"
    }
  },
  "cells": [
    {
      "cell_type": "markdown",
      "source": [
        "Câu 1: Phép toán cơ bản trên vector và ma trận (15 điểm)"
      ],
      "metadata": {
        "id": "9ajMFHu8hu0q"
      }
    },
    {
      "cell_type": "markdown",
      "source": [
        "a."
      ],
      "metadata": {
        "id": "LDSclepdiL9u"
      }
    },
    {
      "cell_type": "code",
      "execution_count": 1,
      "metadata": {
        "colab": {
          "base_uri": "https://localhost:8080/"
        },
        "id": "hIQrtJOHhm21",
        "outputId": "52699e23-073f-478e-a8ec-911e09042c94"
      },
      "outputs": [
        {
          "output_type": "stream",
          "name": "stdout",
          "text": [
            "a)\n",
            "A + B = [3 3 1 5]\n",
            "3A - 2B = [  4 -11  13 -10]\n"
          ]
        }
      ],
      "source": [
        "import numpy as np\n",
        "\n",
        "A = np.array([2, -1, 3, 0])\n",
        "B = np.array([1, 4, -2, 5])\n",
        "\n",
        "sum_AB = A + B\n",
        "print(\"a)\")\n",
        "print(\"A + B =\", sum_AB)\n",
        "\n",
        "scalar_result = 3 * A - 2 * B\n",
        "print(\"3A - 2B =\", scalar_result)\n"
      ]
    },
    {
      "cell_type": "markdown",
      "source": [
        "b."
      ],
      "metadata": {
        "id": "59RpkyR-i6BC"
      }
    },
    {
      "cell_type": "code",
      "source": [
        "dot_product = np.dot(A, B)\n",
        "norm_A = np.linalg.norm(A)\n",
        "norm_B = np.linalg.norm(B)\n",
        "cos_theta = dot_product / (norm_A * norm_B)\n",
        "angle_deg = np.degrees(np.arccos(cos_theta))\n",
        "\n",
        "print(\"\\nb)\")\n",
        "print(\"A · B =\", dot_product)\n",
        "print(\"Góc giữa A và B (độ) =\", round(angle_deg, 3))"
      ],
      "metadata": {
        "colab": {
          "base_uri": "https://localhost:8080/"
        },
        "id": "xPhb9R6Xi8ry",
        "outputId": "ddedfccf-ec1a-4792-a888-b62cbe0c50ef"
      },
      "execution_count": 2,
      "outputs": [
        {
          "output_type": "stream",
          "name": "stdout",
          "text": [
            "\n",
            "b)\n",
            "A · B = -8\n",
            "Góc giữa A và B (độ) = 108.376\n"
          ]
        }
      ]
    },
    {
      "cell_type": "markdown",
      "source": [
        "c."
      ],
      "metadata": {
        "id": "_a9QUEvCi_3D"
      }
    },
    {
      "cell_type": "code",
      "source": [
        "C = np.array([\n",
        "    [1, 2, -1],\n",
        "    [0, 3, 4],\n",
        "    [2, -1, 0]\n",
        "])\n",
        "\n",
        "C_T = C.T\n",
        "CTC = np.dot(C_T, C)\n",
        "\n",
        "print(\"\\nc)\")\n",
        "print(\"C^T * C =\\n\", CTC)"
      ],
      "metadata": {
        "colab": {
          "base_uri": "https://localhost:8080/"
        },
        "id": "DwCDjkeEjAt1",
        "outputId": "fbdfa933-6b10-4996-9499-196f9161a6e7"
      },
      "execution_count": 3,
      "outputs": [
        {
          "output_type": "stream",
          "name": "stdout",
          "text": [
            "\n",
            "c)\n",
            "C^T * C =\n",
            " [[ 5  0 -1]\n",
            " [ 0 14 10]\n",
            " [-1 10 17]]\n"
          ]
        }
      ]
    },
    {
      "cell_type": "markdown",
      "source": [
        "Câu 2: Nhân ma trận, định thức và hạng ma trận (20 điểm)"
      ],
      "metadata": {
        "id": "AnDNh03UjPAz"
      }
    },
    {
      "cell_type": "markdown",
      "source": [
        "a."
      ],
      "metadata": {
        "id": "qaVeD5rrjS4D"
      }
    },
    {
      "cell_type": "code",
      "source": [
        "import numpy as np\n",
        "\n",
        "M = np.array([\n",
        "    [1, 2, 3, 0],\n",
        "    [4, 5, 6, 1],\n",
        "    [7, 8, 9, 2],\n",
        "    [0, 1, 1, 0]\n",
        "])\n",
        "\n",
        "N = np.array([\n",
        "    [0, 1, 2, 3],\n",
        "    [4, 5, 6, 7],\n",
        "    [8, 9, 10, 11],\n",
        "    [12, 13, 14, 15]\n",
        "])\n",
        "\n",
        "product = np.dot(M, N)\n",
        "print(\"a)\")\n",
        "print(\"M × N =\\n\", product)"
      ],
      "metadata": {
        "colab": {
          "base_uri": "https://localhost:8080/"
        },
        "id": "3JsrTrn8jSFh",
        "outputId": "91d413c4-9393-4219-d4bf-51378eea7893"
      },
      "execution_count": 4,
      "outputs": [
        {
          "output_type": "stream",
          "name": "stdout",
          "text": [
            "a)\n",
            "M × N =\n",
            " [[ 32  38  44  50]\n",
            " [ 80  96 112 128]\n",
            " [128 154 180 206]\n",
            " [ 12  14  16  18]]\n"
          ]
        }
      ]
    },
    {
      "cell_type": "markdown",
      "source": [
        "b."
      ],
      "metadata": {
        "id": "6S8wupiHjXVW"
      }
    },
    {
      "cell_type": "code",
      "source": [
        "if M.shape[0] == M.shape[1]:\n",
        "    det_M = np.linalg.det(M)\n",
        "    print(\"\\nb)\")\n",
        "    print(\"Định thức của M =\", round(det_M, 3))\n",
        "else:\n",
        "    print(\"\\nb)\")\n",
        "    print(\"Không thể tính định thức vì M không phải là ma trận vuông.\")\n"
      ],
      "metadata": {
        "colab": {
          "base_uri": "https://localhost:8080/"
        },
        "id": "pCACnkDTjd8h",
        "outputId": "9a09f257-b375-4f30-a7b3-0f0693ed4f1d"
      },
      "execution_count": 5,
      "outputs": [
        {
          "output_type": "stream",
          "name": "stdout",
          "text": [
            "\n",
            "b)\n",
            "Định thức của M = 0.0\n"
          ]
        }
      ]
    },
    {
      "cell_type": "markdown",
      "source": [
        "c."
      ],
      "metadata": {
        "id": "-iaeGECcjgmN"
      }
    },
    {
      "cell_type": "code",
      "source": [
        "rank_N = np.linalg.matrix_rank(N)\n",
        "print(\"\\nc)\")\n",
        "print(\"Hạng của ma trận N =\", rank_N)\n"
      ],
      "metadata": {
        "colab": {
          "base_uri": "https://localhost:8080/"
        },
        "id": "L8E1OXRLjha5",
        "outputId": "e8dfed43-a2f8-4f5b-d6b5-cd5a02a364c2"
      },
      "execution_count": 6,
      "outputs": [
        {
          "output_type": "stream",
          "name": "stdout",
          "text": [
            "\n",
            "c)\n",
            "Hạng của ma trận N = 2\n"
          ]
        }
      ]
    },
    {
      "cell_type": "markdown",
      "source": [
        "Câu 3: Nghịch đảo ma trận và giải hệ phương trình (25 điểm)"
      ],
      "metadata": {
        "id": "WBnvOE9ojn-8"
      }
    },
    {
      "cell_type": "markdown",
      "source": [
        "a."
      ],
      "metadata": {
        "id": "bPUoICjQj1b-"
      }
    },
    {
      "cell_type": "code",
      "source": [
        "import numpy as np\n",
        "\n",
        "P = np.array([\n",
        "    [2, 1, 0, 1],\n",
        "    [0, 3, 1, -1],\n",
        "    [1, 0, 4, 2],\n",
        "    [0, 1, 0, 3]\n",
        "])\n",
        "\n",
        "try:\n",
        "    P_inv = np.linalg.inv(P)\n",
        "    print(\"a)\")\n",
        "    print(\"Ma trận nghịch đảo của P là:\\n\", P_inv)\n",
        "except np.linalg.LinAlgError:\n",
        "    print(\"a)\")\n",
        "    print(\"Ma trận P không khả nghịch (không có ma trận nghịch đảo).\")"
      ],
      "metadata": {
        "colab": {
          "base_uri": "https://localhost:8080/"
        },
        "id": "PUZGttyVj2CR",
        "outputId": "4bdf6c97-7a69-4c24-b864-61ed41cd1734"
      },
      "execution_count": 7,
      "outputs": [
        {
          "output_type": "stream",
          "name": "stdout",
          "text": [
            "a)\n",
            "Ma trận nghịch đảo của P là:\n",
            " [[ 0.48837209 -0.09302326  0.02325581 -0.20930233]\n",
            " [ 0.03488372  0.27906977 -0.06976744  0.12790698]\n",
            " [-0.11627907  0.06976744  0.23255814 -0.09302326]\n",
            " [-0.01162791 -0.09302326  0.02325581  0.29069767]]\n"
          ]
        }
      ]
    },
    {
      "cell_type": "markdown",
      "source": [
        "b."
      ],
      "metadata": {
        "id": "19VT19Ppj3p7"
      }
    },
    {
      "cell_type": "code",
      "source": [
        "b = np.array([4, 7, 9, 5])\n",
        "x = np.dot(P_inv, b)\n",
        "print(\"\\nb)\")\n",
        "print(\"Nghiệm của hệ phương trình là:\\n\", x)"
      ],
      "metadata": {
        "colab": {
          "base_uri": "https://localhost:8080/"
        },
        "id": "fZfiKH1Zj5Io",
        "outputId": "b6d3eb5a-2d23-4d47-baad-447424db4171"
      },
      "execution_count": 8,
      "outputs": [
        {
          "output_type": "stream",
          "name": "stdout",
          "text": [
            "\n",
            "b)\n",
            "Nghiệm của hệ phương trình là:\n",
            " [0.46511628 2.10465116 1.65116279 0.96511628]\n"
          ]
        }
      ]
    },
    {
      "cell_type": "markdown",
      "source": [
        "c."
      ],
      "metadata": {
        "id": "c2PhKqmDj7aK"
      }
    },
    {
      "cell_type": "code",
      "source": [
        "check = np.dot(P, x)\n",
        "print(\"\\nc)\")\n",
        "print(\"Kiểm tra P * x =\\n\", check)\n",
        "print(\"Vector hằng số b =\", b)"
      ],
      "metadata": {
        "colab": {
          "base_uri": "https://localhost:8080/"
        },
        "id": "hl5RE-Erj8Es",
        "outputId": "389d116b-aac6-4ae9-9aed-ac6c5dc38ed8"
      },
      "execution_count": 9,
      "outputs": [
        {
          "output_type": "stream",
          "name": "stdout",
          "text": [
            "\n",
            "c)\n",
            "Kiểm tra P * x =\n",
            " [4. 7. 9. 5.]\n",
            "Vector hằng số b = [4 7 9 5]\n"
          ]
        }
      ]
    },
    {
      "cell_type": "markdown",
      "source": [
        "Câu 4: Giá trị riêng, vector riêng và chuẩn hóa (20 điểm)"
      ],
      "metadata": {
        "id": "u_sJGKWjj_Y0"
      }
    },
    {
      "cell_type": "markdown",
      "source": [
        "a."
      ],
      "metadata": {
        "id": "ZXj3JaepkFhQ"
      }
    },
    {
      "cell_type": "code",
      "source": [
        "import numpy as np\n",
        "\n",
        "Q = np.array([\n",
        "    [4, -1, 0],\n",
        "    [1, 3, -2],\n",
        "    [0, 1, 2]\n",
        "])\n",
        "\n",
        "eigenvalues, eigenvectors = np.linalg.eig(Q)\n",
        "\n",
        "print(\"a)\")\n",
        "print(\"Các giá trị riêng của Q là:\\n\", eigenvalues)"
      ],
      "metadata": {
        "colab": {
          "base_uri": "https://localhost:8080/"
        },
        "id": "w49IxaHNkGLV",
        "outputId": "ade88a5d-b783-402b-b056-02546e7dc10d"
      },
      "execution_count": 10,
      "outputs": [
        {
          "output_type": "stream",
          "name": "stdout",
          "text": [
            "a)\n",
            "Các giá trị riêng của Q là:\n",
            " [3.45339765+0.j         2.77330117+1.46771151j 2.77330117-1.46771151j]\n"
          ]
        }
      ]
    },
    {
      "cell_type": "markdown",
      "source": [
        "b."
      ],
      "metadata": {
        "id": "fWHpDN2ZkHXx"
      }
    },
    {
      "cell_type": "code",
      "source": [
        "print(\"\\nb)\")\n",
        "print(\"Các vector riêng (cột) tương ứng với các giá trị riêng là:\\n\", eigenvectors)"
      ],
      "metadata": {
        "colab": {
          "base_uri": "https://localhost:8080/"
        },
        "id": "kumBkntckJA6",
        "outputId": "1e5d3406-c1e3-4f0c-e57c-1a803d29201c"
      },
      "execution_count": 11,
      "outputs": [
        {
          "output_type": "stream",
          "name": "stdout",
          "text": [
            "\n",
            "b)\n",
            "Các vector riêng (cột) tương ứng với các giá trị riêng là:\n",
            " [[ 0.83327121+0.j         -0.26206044-0.31354813j -0.26206044+0.31354813j]\n",
            " [ 0.455468  +0.j         -0.78166743+0.j         -0.78166743-0.j        ]\n",
            " [ 0.31338154+0.j         -0.21963176+0.41685708j -0.21963176-0.41685708j]]\n"
          ]
        }
      ]
    },
    {
      "cell_type": "markdown",
      "source": [
        "c."
      ],
      "metadata": {
        "id": "b0Y-h9LhkKit"
      }
    },
    {
      "cell_type": "code",
      "source": [
        "normed_vectors = eigenvectors / np.linalg.norm(eigenvectors, axis=0)\n",
        "\n",
        "print(\"\\nc)\")\n",
        "print(\"Các vector riêng sau khi chuẩn hóa là:\\n\", normed_vectors)"
      ],
      "metadata": {
        "colab": {
          "base_uri": "https://localhost:8080/"
        },
        "id": "VdAC4Dg_kO4J",
        "outputId": "ec4977cf-97ce-4015-cb01-9caf86fd6b3b"
      },
      "execution_count": 13,
      "outputs": [
        {
          "output_type": "stream",
          "name": "stdout",
          "text": [
            "\n",
            "c)\n",
            "Các vector riêng sau khi chuẩn hóa là:\n",
            " [[ 0.83327121+0.j         -0.26206044-0.31354813j -0.26206044+0.31354813j]\n",
            " [ 0.455468  +0.j         -0.78166743+0.j         -0.78166743+0.j        ]\n",
            " [ 0.31338154+0.j         -0.21963176+0.41685708j -0.21963176-0.41685708j]]\n"
          ]
        }
      ]
    },
    {
      "cell_type": "markdown",
      "source": [
        "Câu 5: Ứng dụng thực tế - Hệ phương trình và phân tích (20\n",
        "điểm)"
      ],
      "metadata": {
        "id": "1D9RdWz1kY8F"
      }
    },
    {
      "cell_type": "markdown",
      "source": [
        "a."
      ],
      "metadata": {
        "id": "4e1-JAFHkaeY"
      }
    },
    {
      "cell_type": "code",
      "source": [
        "import numpy as np\n",
        "\n",
        "R = np.array([\n",
        "    [1, -2, 3],\n",
        "    [2, 0, 1],\n",
        "    [-1, 1, 4]\n",
        "])\n",
        "\n",
        "b = np.array([10, 8, 7])\n",
        "\n",
        "x = np.linalg.solve(R, b)\n",
        "print(\"a)\")\n",
        "print(\"Nghiệm x của hệ phương trình là:\\n\", x)"
      ],
      "metadata": {
        "colab": {
          "base_uri": "https://localhost:8080/"
        },
        "id": "Ye3ZcrJSkbI3",
        "outputId": "55f9eb89-55be-4f41-e862-26b9995a13bb"
      },
      "execution_count": 15,
      "outputs": [
        {
          "output_type": "stream",
          "name": "stdout",
          "text": [
            "a)\n",
            "Nghiệm x của hệ phương trình là:\n",
            " [2.7826087  0.04347826 2.43478261]\n"
          ]
        }
      ]
    },
    {
      "cell_type": "markdown",
      "source": [
        "b."
      ],
      "metadata": {
        "id": "maqRZfzakc5s"
      }
    },
    {
      "cell_type": "code",
      "source": [
        "if np.linalg.det(R) != 0:\n",
        "    R_inv = np.linalg.inv(R)\n",
        "    x2 = np.dot(R_inv, b)\n",
        "    print(\"\\nb)\")\n",
        "    print(\"Ma trận R khả nghịch.\")\n",
        "    print(\"Nghiệm x tính bằng R⁻¹ * b là:\\n\", x2)\n",
        "else:\n",
        "    print(\"\\nb)\")\n",
        "    print(\"Ma trận R không khả nghịch.\")"
      ],
      "metadata": {
        "colab": {
          "base_uri": "https://localhost:8080/"
        },
        "id": "o12kvhagkdjD",
        "outputId": "a5342052-421f-42db-f281-23ddcf682030"
      },
      "execution_count": 16,
      "outputs": [
        {
          "output_type": "stream",
          "name": "stdout",
          "text": [
            "\n",
            "b)\n",
            "Ma trận R khả nghịch.\n",
            "Nghiệm x tính bằng R⁻¹ * b là:\n",
            " [2.7826087  0.04347826 2.43478261]\n"
          ]
        }
      ]
    },
    {
      "cell_type": "markdown",
      "source": [
        "c."
      ],
      "metadata": {
        "id": "_CybxlNAkfQx"
      }
    },
    {
      "cell_type": "code",
      "source": [
        "fro_norm = np.linalg.norm(R, ord='fro')\n",
        "print(\"\\nc)\")\n",
        "print(\"Chuẩn Frobenius của R là:\", round(fro_norm, 3))"
      ],
      "metadata": {
        "id": "TsgjY6UYkhLX",
        "outputId": "f219ba63-6c82-425c-fdfe-55460bebd675",
        "colab": {
          "base_uri": "https://localhost:8080/"
        }
      },
      "execution_count": 17,
      "outputs": [
        {
          "output_type": "stream",
          "name": "stdout",
          "text": [
            "\n",
            "c)\n",
            "Chuẩn Frobenius của R là: 6.083\n"
          ]
        }
      ]
    }
  ]
}