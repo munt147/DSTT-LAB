{
  "nbformat": 4,
  "nbformat_minor": 0,
  "metadata": {
    "colab": {
      "provenance": []
    },
    "kernelspec": {
      "name": "python3",
      "display_name": "Python 3"
    },
    "language_info": {
      "name": "python"
    }
  },
  "cells": [
    {
      "cell_type": "markdown",
      "source": [
        "1.2.1"
      ],
      "metadata": {
        "id": "Uo4We7dIWujm"
      }
    },
    {
      "cell_type": "code",
      "source": [
        "danhsach1 = [1., 3.]\n",
        "danhsach2 = [5., 7.]\n",
        "danhsach = danhsach1 + danhsach2\n",
        "danhsach"
      ],
      "metadata": {
        "colab": {
          "base_uri": "https://localhost:8080/"
        },
        "id": "J-jAJ1EqWKX5",
        "outputId": "c4561624-4393-4054-cee6-dc3182c601c6"
      },
      "execution_count": 1,
      "outputs": [
        {
          "output_type": "execute_result",
          "data": {
            "text/plain": [
              "[1.0, 3.0, 5.0, 7.0]"
            ]
          },
          "metadata": {},
          "execution_count": 1
        }
      ]
    },
    {
      "cell_type": "code",
      "source": [
        "danhsach_gapdoi = 2 * danhsach\n",
        "danhsach_gapdoi"
      ],
      "metadata": {
        "colab": {
          "base_uri": "https://localhost:8080/"
        },
        "id": "xUpLPyxuWy6l",
        "outputId": "e643fb21-6b2e-488e-e4cc-4d774ae3fc95"
      },
      "execution_count": 2,
      "outputs": [
        {
          "output_type": "execute_result",
          "data": {
            "text/plain": [
              "[1.0, 3.0, 5.0, 7.0, 1.0, 3.0, 5.0, 7.0]"
            ]
          },
          "metadata": {},
          "execution_count": 2
        }
      ]
    },
    {
      "cell_type": "code",
      "source": [
        "danhsach * 2"
      ],
      "metadata": {
        "colab": {
          "base_uri": "https://localhost:8080/"
        },
        "id": "13WGYtYYW2f4",
        "outputId": "b754f1e5-25d3-4bb9-f57f-1e3f67a9410f"
      },
      "execution_count": 3,
      "outputs": [
        {
          "output_type": "execute_result",
          "data": {
            "text/plain": [
              "[1.0, 3.0, 5.0, 7.0, 1.0, 3.0, 5.0, 7.0]"
            ]
          },
          "metadata": {},
          "execution_count": 3
        }
      ]
    },
    {
      "cell_type": "code",
      "source": [
        "danhsach / 2"
      ],
      "metadata": {
        "colab": {
          "base_uri": "https://localhost:8080/",
          "height": 141
        },
        "id": "3Vg0Srj5W5Gk",
        "outputId": "7423ef0d-c1f6-4f9a-97aa-eb9797663545"
      },
      "execution_count": 4,
      "outputs": [
        {
          "output_type": "error",
          "ename": "TypeError",
          "evalue": "unsupported operand type(s) for /: 'list' and 'int'",
          "traceback": [
            "\u001b[0;31m---------------------------------------------------------------------------\u001b[0m",
            "\u001b[0;31mTypeError\u001b[0m                                 Traceback (most recent call last)",
            "\u001b[0;32m<ipython-input-4-a2ca6e9d299a>\u001b[0m in \u001b[0;36m<cell line: 0>\u001b[0;34m()\u001b[0m\n\u001b[0;32m----> 1\u001b[0;31m \u001b[0mdanhsach\u001b[0m \u001b[0;34m/\u001b[0m \u001b[0;36m2\u001b[0m\u001b[0;34m\u001b[0m\u001b[0;34m\u001b[0m\u001b[0m\n\u001b[0m",
            "\u001b[0;31mTypeError\u001b[0m: unsupported operand type(s) for /: 'list' and 'int'"
          ]
        }
      ]
    },
    {
      "cell_type": "code",
      "source": [
        "mon_hoc = [\"ToanCC\", \"DSTT\", \"ToanRR\", \"LaptrinhCB\"]\n",
        "thu_tu = [2, 3, 4, 1]\n",
        "diem_so = [10, 9, 8, 7]\n",
        "anh_xa = zip(thu_tu, mon_hoc, diem_so)\n",
        "anh_xa"
      ],
      "metadata": {
        "colab": {
          "base_uri": "https://localhost:8080/"
        },
        "id": "xk57AS-IW_8r",
        "outputId": "7f2f5353-47e6-4fb8-f2fc-ac0168f7f224"
      },
      "execution_count": 5,
      "outputs": [
        {
          "output_type": "execute_result",
          "data": {
            "text/plain": [
              "<zip at 0x7dd227344a80>"
            ]
          },
          "metadata": {},
          "execution_count": 5
        }
      ]
    },
    {
      "cell_type": "code",
      "source": [
        "tap_hop = set(anh_xa)\n",
        "tap_hop"
      ],
      "metadata": {
        "colab": {
          "base_uri": "https://localhost:8080/"
        },
        "id": "VxfoXoMHXC86",
        "outputId": "a4a4e552-cae4-43fa-c7c5-3cb455300ca2"
      },
      "execution_count": 6,
      "outputs": [
        {
          "output_type": "execute_result",
          "data": {
            "text/plain": [
              "{(1, 'LaptrinhCB', 7), (2, 'ToanCC', 10), (3, 'DSTT', 9), (4, 'ToanRR', 8)}"
            ]
          },
          "metadata": {},
          "execution_count": 6
        }
      ]
    },
    {
      "cell_type": "code",
      "source": [
        "anh_xa = zip(thu_tu, mon_hoc, diem_so)\n",
        "lay_TT, lay_monhoc, lay_diem = zip(*anh_xa)\n",
        "lay_monhoc"
      ],
      "metadata": {
        "colab": {
          "base_uri": "https://localhost:8080/"
        },
        "id": "o4M_fSTMXGsE",
        "outputId": "f57092c3-3257-44a0-8653-35f7ea6e83ad"
      },
      "execution_count": 7,
      "outputs": [
        {
          "output_type": "execute_result",
          "data": {
            "text/plain": [
              "('ToanCC', 'DSTT', 'ToanRR', 'LaptrinhCB')"
            ]
          },
          "metadata": {},
          "execution_count": 7
        }
      ]
    },
    {
      "cell_type": "code",
      "source": [
        "ds = [1, 2, 3, 4]"
      ],
      "metadata": {
        "id": "3LYiqSCLXQOE"
      },
      "execution_count": 8,
      "outputs": []
    },
    {
      "cell_type": "code",
      "source": [
        "ds = []\n",
        "ds.append(1)\n",
        "ds.append(2)\n",
        "ds"
      ],
      "metadata": {
        "colab": {
          "base_uri": "https://localhost:8080/"
        },
        "id": "5ey19tU3XWX1",
        "outputId": "feb19e89-1cc9-463b-cadf-cfb53f05b044"
      },
      "execution_count": 9,
      "outputs": [
        {
          "output_type": "execute_result",
          "data": {
            "text/plain": [
              "[1, 2]"
            ]
          },
          "metadata": {},
          "execution_count": 9
        }
      ]
    },
    {
      "cell_type": "code",
      "source": [
        "ds = [x**2 for x in range(5)]\n",
        "ds"
      ],
      "metadata": {
        "colab": {
          "base_uri": "https://localhost:8080/"
        },
        "id": "09zfGrhsXZPW",
        "outputId": "3a9f1549-1ca9-4236-a8d8-ec508be5a67a"
      },
      "execution_count": 10,
      "outputs": [
        {
          "output_type": "execute_result",
          "data": {
            "text/plain": [
              "[0, 1, 4, 9, 16]"
            ]
          },
          "metadata": {},
          "execution_count": 10
        }
      ]
    },
    {
      "cell_type": "code",
      "source": [
        "ds = list(range(5))\n",
        "ds"
      ],
      "metadata": {
        "colab": {
          "base_uri": "https://localhost:8080/"
        },
        "id": "U9XOMVDRXbAj",
        "outputId": "264bbcd1-6cde-4c8b-ba4d-dbaf0d03cfec"
      },
      "execution_count": 11,
      "outputs": [
        {
          "output_type": "execute_result",
          "data": {
            "text/plain": [
              "[0, 1, 2, 3, 4]"
            ]
          },
          "metadata": {},
          "execution_count": 11
        }
      ]
    },
    {
      "cell_type": "code",
      "source": [
        "list(zip(range(4), range(7, 12), reversed(range(11))))"
      ],
      "metadata": {
        "colab": {
          "base_uri": "https://localhost:8080/"
        },
        "id": "CMf60idsXcCf",
        "outputId": "ea17fa54-4611-46ed-f441-121cdca73c15"
      },
      "execution_count": 12,
      "outputs": [
        {
          "output_type": "execute_result",
          "data": {
            "text/plain": [
              "[(0, 7, 10), (1, 8, 9), (2, 9, 8), (3, 10, 7)]"
            ]
          },
          "metadata": {},
          "execution_count": 12
        }
      ]
    },
    {
      "cell_type": "markdown",
      "source": [
        "1.2.2"
      ],
      "metadata": {
        "id": "TK401MgDXiPM"
      }
    },
    {
      "cell_type": "code",
      "source": [
        "a = 10\n",
        "b = 20\n",
        "c = a + b\n",
        "mylist.append(c)\n",
        "print(\"Trong thucthi1.py:\", a, b, c, mylist)"
      ],
      "metadata": {
        "colab": {
          "base_uri": "https://localhost:8080/"
        },
        "id": "GsYDyf2eXj5i",
        "outputId": "8b8344c8-b19e-41af-95a3-c3378b1398ce"
      },
      "execution_count": 14,
      "outputs": [
        {
          "output_type": "stream",
          "name": "stdout",
          "text": [
            "Trong thucthi1.py: 10 20 30 [30]\n"
          ]
        }
      ]
    },
    {
      "cell_type": "markdown",
      "source": [
        "2.1"
      ],
      "metadata": {
        "id": "rgtJqK_lYcIi"
      }
    },
    {
      "cell_type": "code",
      "source": [
        "from sympy import Symbol\n",
        "x = Symbol('x')\n",
        "f = x + x + x + 2\n",
        "f"
      ],
      "metadata": {
        "colab": {
          "base_uri": "https://localhost:8080/",
          "height": 38
        },
        "id": "cp4IbBfxYdqB",
        "outputId": "460e8111-ad12-419e-a467-24fe4ad6a9fc"
      },
      "execution_count": 17,
      "outputs": [
        {
          "output_type": "execute_result",
          "data": {
            "text/plain": [
              "3*x + 2"
            ],
            "text/latex": "$\\displaystyle 3 x + 2$"
          },
          "metadata": {},
          "execution_count": 17
        }
      ]
    },
    {
      "cell_type": "code",
      "source": [
        "a = Symbol('Noi')\n",
        "b = Symbol('Chim')\n",
        "3*b + 7*a"
      ],
      "metadata": {
        "colab": {
          "base_uri": "https://localhost:8080/",
          "height": 38
        },
        "id": "ic_FA_UnYiC2",
        "outputId": "5c1983ca-197d-46ac-c125-999131edf7a9"
      },
      "execution_count": 18,
      "outputs": [
        {
          "output_type": "execute_result",
          "data": {
            "text/plain": [
              "3*Chim + 7*Noi"
            ],
            "text/latex": "$\\displaystyle 3 Chim + 7 Noi$"
          },
          "metadata": {},
          "execution_count": 18
        }
      ]
    },
    {
      "cell_type": "code",
      "source": [
        "a = Symbol('Noi')\n",
        "b = Symbol('Chim')\n",
        "a.name"
      ],
      "metadata": {
        "colab": {
          "base_uri": "https://localhost:8080/",
          "height": 35
        },
        "id": "0U3phNHWYj95",
        "outputId": "ed3c60f7-0c36-4599-d62e-93740cddd226"
      },
      "execution_count": 19,
      "outputs": [
        {
          "output_type": "execute_result",
          "data": {
            "text/plain": [
              "'Noi'"
            ],
            "application/vnd.google.colaboratory.intrinsic+json": {
              "type": "string"
            }
          },
          "metadata": {},
          "execution_count": 19
        }
      ]
    },
    {
      "cell_type": "code",
      "source": [
        "b.name"
      ],
      "metadata": {
        "colab": {
          "base_uri": "https://localhost:8080/",
          "height": 35
        },
        "id": "fC-Dd1SZYpDf",
        "outputId": "ffcf166e-3a2d-456f-eab9-d1c5cf0d2584"
      },
      "execution_count": 20,
      "outputs": [
        {
          "output_type": "execute_result",
          "data": {
            "text/plain": [
              "'Chim'"
            ],
            "application/vnd.google.colaboratory.intrinsic+json": {
              "type": "string"
            }
          },
          "metadata": {},
          "execution_count": 20
        }
      ]
    },
    {
      "cell_type": "code",
      "source": [
        "from sympy import Symbol\n",
        "x = Symbol('x')\n",
        "y = Symbol('y')\n",
        "s = x*y + y*x\n",
        "s"
      ],
      "metadata": {
        "colab": {
          "base_uri": "https://localhost:8080/",
          "height": 38
        },
        "id": "Z4gGZHqZYupi",
        "outputId": "f5836a47-b0be-49d7-910c-e98426780dbf"
      },
      "execution_count": 21,
      "outputs": [
        {
          "output_type": "execute_result",
          "data": {
            "text/plain": [
              "2*x*y"
            ],
            "text/latex": "$\\displaystyle 2 x y$"
          },
          "metadata": {},
          "execution_count": 21
        }
      ]
    },
    {
      "cell_type": "code",
      "source": [
        "p = x*(x + 2*x)\n",
        "p"
      ],
      "metadata": {
        "colab": {
          "base_uri": "https://localhost:8080/",
          "height": 38
        },
        "id": "CmCXwVxbYwg8",
        "outputId": "e1eb115a-5cbe-4a11-f831-937f616575e3"
      },
      "execution_count": 22,
      "outputs": [
        {
          "output_type": "execute_result",
          "data": {
            "text/plain": [
              "3*x**2"
            ],
            "text/latex": "$\\displaystyle 3 x^{2}$"
          },
          "metadata": {},
          "execution_count": 22
        }
      ]
    },
    {
      "cell_type": "code",
      "source": [
        "p = (x + 2)*(y + 3)\n",
        "p"
      ],
      "metadata": {
        "colab": {
          "base_uri": "https://localhost:8080/",
          "height": 38
        },
        "id": "k9dNbu-qY5Hb",
        "outputId": "2c5a2182-b94c-45bc-a68b-823ec80da0c8"
      },
      "execution_count": 23,
      "outputs": [
        {
          "output_type": "execute_result",
          "data": {
            "text/plain": [
              "(x + 2)*(y + 3)"
            ],
            "text/latex": "$\\displaystyle \\left(x + 2\\right) \\left(y + 3\\right)$"
          },
          "metadata": {},
          "execution_count": 23
        }
      ]
    },
    {
      "cell_type": "code",
      "source": [
        "p = (x + 2)*(y + 3) + (x + 2)*(x - 3)\n",
        "p"
      ],
      "metadata": {
        "colab": {
          "base_uri": "https://localhost:8080/",
          "height": 38
        },
        "id": "4lM7-aeBY7w9",
        "outputId": "f3e13a8d-3f45-4f8f-94ca-e606cf1abf29"
      },
      "execution_count": 24,
      "outputs": [
        {
          "output_type": "execute_result",
          "data": {
            "text/plain": [
              "(x - 3)*(x + 2) + (x + 2)*(y + 3)"
            ],
            "text/latex": "$\\displaystyle \\left(x - 3\\right) \\left(x + 2\\right) + \\left(x + 2\\right) \\left(y + 3\\right)$"
          },
          "metadata": {},
          "execution_count": 24
        }
      ]
    },
    {
      "cell_type": "code",
      "source": [
        "p = x*(-x + 2*x - x)\n",
        "p"
      ],
      "metadata": {
        "colab": {
          "base_uri": "https://localhost:8080/",
          "height": 37
        },
        "id": "wT6BsLU9ZCR6",
        "outputId": "7b007dde-509b-4a39-d7c6-de03a548e9b7"
      },
      "execution_count": 25,
      "outputs": [
        {
          "output_type": "execute_result",
          "data": {
            "text/plain": [
              "0"
            ],
            "text/latex": "$\\displaystyle 0$"
          },
          "metadata": {},
          "execution_count": 25
        }
      ]
    },
    {
      "cell_type": "code",
      "source": [
        "p = (x + 2)*(y + 3)\n",
        "p.expand()"
      ],
      "metadata": {
        "colab": {
          "base_uri": "https://localhost:8080/",
          "height": 38
        },
        "id": "4WFVehidZCKA",
        "outputId": "c88fe457-c416-4c0b-eae9-c2711ecab59e"
      },
      "execution_count": 26,
      "outputs": [
        {
          "output_type": "execute_result",
          "data": {
            "text/plain": [
              "x*y + 3*x + 2*y + 6"
            ],
            "text/latex": "$\\displaystyle x y + 3 x + 2 y + 6$"
          },
          "metadata": {},
          "execution_count": 26
        }
      ]
    },
    {
      "cell_type": "markdown",
      "source": [
        "2.2.1"
      ],
      "metadata": {
        "id": "8pKMolnkZRY-"
      }
    },
    {
      "cell_type": "code",
      "source": [
        "from sympy import Symbol, factor, expand\n",
        "\n",
        "x = Symbol('x')\n",
        "y = Symbol('y')\n",
        "\n",
        "bieuthuc = x**3 - y**3\n",
        "factor(bieuthuc)"
      ],
      "metadata": {
        "colab": {
          "base_uri": "https://localhost:8080/",
          "height": 38
        },
        "id": "G2WLDZzRZPCP",
        "outputId": "b572dea7-c6a0-4a77-8b24-e470177721b5"
      },
      "execution_count": 27,
      "outputs": [
        {
          "output_type": "execute_result",
          "data": {
            "text/plain": [
              "(x - y)*(x**2 + x*y + y**2)"
            ],
            "text/latex": "$\\displaystyle \\left(x - y\\right) \\left(x^{2} + x y + y^{2}\\right)$"
          },
          "metadata": {},
          "execution_count": 27
        }
      ]
    },
    {
      "cell_type": "code",
      "source": [
        "bieuthuc = (x - y)*(x**2 + x*y + y**2)\n",
        "expand(bieuthuc)"
      ],
      "metadata": {
        "colab": {
          "base_uri": "https://localhost:8080/",
          "height": 38
        },
        "id": "vXYHg1PzZbSm",
        "outputId": "47bdd44c-3377-4af2-b2e6-cbb4723d0bed"
      },
      "execution_count": 28,
      "outputs": [
        {
          "output_type": "execute_result",
          "data": {
            "text/plain": [
              "x**3 - y**3"
            ],
            "text/latex": "$\\displaystyle x^{3} - y^{3}$"
          },
          "metadata": {},
          "execution_count": 28
        }
      ]
    },
    {
      "cell_type": "markdown",
      "source": [
        "2.2.3"
      ],
      "metadata": {
        "id": "XmedqLc-ZuG_"
      }
    },
    {
      "cell_type": "code",
      "source": [
        "from sympy import Symbol\n",
        "x = Symbol('x')\n",
        "y = Symbol('y')\n",
        "bieuthuc = x*x - x*y + y*y\n",
        "bieuthuc"
      ],
      "metadata": {
        "colab": {
          "base_uri": "https://localhost:8080/",
          "height": 38
        },
        "id": "6Cqdn2nTZxHA",
        "outputId": "e49fb7c4-1fa2-4077-e5ff-2958112eff4c"
      },
      "execution_count": 29,
      "outputs": [
        {
          "output_type": "execute_result",
          "data": {
            "text/plain": [
              "x**2 - x*y + y**2"
            ],
            "text/latex": "$\\displaystyle x^{2} - x y + y^{2}$"
          },
          "metadata": {},
          "execution_count": 29
        }
      ]
    },
    {
      "cell_type": "code",
      "source": [
        "giatri = bieuthuc.subs({x:3, y:2})\n",
        "giatri"
      ],
      "metadata": {
        "colab": {
          "base_uri": "https://localhost:8080/",
          "height": 37
        },
        "id": "88q-RPyuZv9x",
        "outputId": "ee2bc3f8-065c-45db-f047-5360202d9ad0"
      },
      "execution_count": 30,
      "outputs": [
        {
          "output_type": "execute_result",
          "data": {
            "text/plain": [
              "7"
            ],
            "text/latex": "$\\displaystyle 7$"
          },
          "metadata": {},
          "execution_count": 30
        }
      ]
    },
    {
      "cell_type": "code",
      "source": [
        "x"
      ],
      "metadata": {
        "colab": {
          "base_uri": "https://localhost:8080/",
          "height": 38
        },
        "id": "NDCDSeOaZ0wl",
        "outputId": "3c29e960-2a8e-43c8-c8cd-b4f8cdb03bf9"
      },
      "execution_count": 31,
      "outputs": [
        {
          "output_type": "execute_result",
          "data": {
            "text/plain": [
              "x"
            ],
            "text/latex": "$\\displaystyle x$"
          },
          "metadata": {},
          "execution_count": 31
        }
      ]
    },
    {
      "cell_type": "code",
      "source": [
        "y"
      ],
      "metadata": {
        "colab": {
          "base_uri": "https://localhost:8080/",
          "height": 38
        },
        "id": "eB25sdmrZ5B1",
        "outputId": "34359f0b-66ee-44d2-c761-5dfcdd656001"
      },
      "execution_count": 32,
      "outputs": [
        {
          "output_type": "execute_result",
          "data": {
            "text/plain": [
              "y"
            ],
            "text/latex": "$\\displaystyle y$"
          },
          "metadata": {},
          "execution_count": 32
        }
      ]
    },
    {
      "cell_type": "markdown",
      "source": [
        "tình huống 1"
      ],
      "metadata": {
        "id": "SA57a0DraAZU"
      }
    },
    {
      "cell_type": "code",
      "source": [
        "giatri = bieuthuc.subs({x:3, y:x})\n",
        "giatri"
      ],
      "metadata": {
        "colab": {
          "base_uri": "https://localhost:8080/",
          "height": 38
        },
        "id": "zlFyQ2jUZ7Dt",
        "outputId": "e342bb2f-5447-4e45-eb4d-32019a5c81d9"
      },
      "execution_count": 33,
      "outputs": [
        {
          "output_type": "execute_result",
          "data": {
            "text/plain": [
              "x**2 - 3*x + 9"
            ],
            "text/latex": "$\\displaystyle x^{2} - 3 x + 9$"
          },
          "metadata": {},
          "execution_count": 33
        }
      ]
    },
    {
      "cell_type": "markdown",
      "source": [
        "tình huống 2"
      ],
      "metadata": {
        "id": "uy7o8QWpaGvH"
      }
    },
    {
      "cell_type": "code",
      "source": [
        "giatri = bieuthuc.subs({x:y, y:3})\n",
        "giatri"
      ],
      "metadata": {
        "colab": {
          "base_uri": "https://localhost:8080/",
          "height": 37
        },
        "id": "hx3kh8qlaCsT",
        "outputId": "eec9cefc-7047-42bd-c7a8-ea45bcdb619d"
      },
      "execution_count": 34,
      "outputs": [
        {
          "output_type": "execute_result",
          "data": {
            "text/plain": [
              "9"
            ],
            "text/latex": "$\\displaystyle 9$"
          },
          "metadata": {},
          "execution_count": 34
        }
      ]
    },
    {
      "cell_type": "markdown",
      "source": [
        "tình huống 3"
      ],
      "metadata": {
        "id": "4edavofdaLKy"
      }
    },
    {
      "cell_type": "code",
      "source": [
        "giatri = bieuthuc.subs({y:x}).subs({x:3})\n",
        "giatri"
      ],
      "metadata": {
        "colab": {
          "base_uri": "https://localhost:8080/",
          "height": 37
        },
        "id": "zvNBu5RpaKTD",
        "outputId": "bd50669b-5e44-4ee3-d61e-bd3abe282a3f"
      },
      "execution_count": 35,
      "outputs": [
        {
          "output_type": "execute_result",
          "data": {
            "text/plain": [
              "9"
            ],
            "text/latex": "$\\displaystyle 9$"
          },
          "metadata": {},
          "execution_count": 35
        }
      ]
    },
    {
      "cell_type": "code",
      "source": [
        "from sympy import Symbol\n",
        "x = Symbol('x')\n",
        "y = Symbol('y')\n",
        "bieuthuc = x*x - x*y + y*y\n",
        "bieuthuc"
      ],
      "metadata": {
        "colab": {
          "base_uri": "https://localhost:8080/",
          "height": 38
        },
        "id": "fK1HVAJvaR6i",
        "outputId": "cac24ca2-6762-4a3a-fe8d-af6e5d0e26ce"
      },
      "execution_count": 36,
      "outputs": [
        {
          "output_type": "execute_result",
          "data": {
            "text/plain": [
              "x**2 - x*y + y**2"
            ],
            "text/latex": "$\\displaystyle x^{2} - x y + y^{2}$"
          },
          "metadata": {},
          "execution_count": 36
        }
      ]
    },
    {
      "cell_type": "code",
      "source": [
        "bieuthuc_moi = bieuthuc.subs({x:1 - y})\n",
        "bieuthuc_moi"
      ],
      "metadata": {
        "colab": {
          "base_uri": "https://localhost:8080/",
          "height": 39
        },
        "id": "be0pVqfIaU8V",
        "outputId": "b462b4fc-a7dc-418d-a14f-0fda3b3bf411"
      },
      "execution_count": 37,
      "outputs": [
        {
          "output_type": "execute_result",
          "data": {
            "text/plain": [
              "y**2 - y*(1 - y) + (1 - y)**2"
            ],
            "text/latex": "$\\displaystyle y^{2} - y \\left(1 - y\\right) + \\left(1 - y\\right)^{2}$"
          },
          "metadata": {},
          "execution_count": 37
        }
      ]
    },
    {
      "cell_type": "code",
      "source": [
        "from sympy import simplify\n",
        "dongian = simplify(bieuthuc_moi)\n",
        "dongian"
      ],
      "metadata": {
        "colab": {
          "base_uri": "https://localhost:8080/",
          "height": 38
        },
        "id": "9tVm7FTSaYWw",
        "outputId": "927af310-d446-4743-c6f0-235562d55440"
      },
      "execution_count": 38,
      "outputs": [
        {
          "output_type": "execute_result",
          "data": {
            "text/plain": [
              "3*y**2 - 3*y + 1"
            ],
            "text/latex": "$\\displaystyle 3 y^{2} - 3 y + 1$"
          },
          "metadata": {},
          "execution_count": 38
        }
      ]
    },
    {
      "cell_type": "code",
      "source": [
        "from sympy import Symbol, sin, cos, simplify\n",
        "x = Symbol('x')\n",
        "y = Symbol('y')\n",
        "bt = sin(x)*cos(y) + cos(x)*sin(y)\n",
        "bt_moi = simplify(bt)\n",
        "bt_moi"
      ],
      "metadata": {
        "colab": {
          "base_uri": "https://localhost:8080/",
          "height": 38
        },
        "id": "XpcWvmURafdO",
        "outputId": "eb8e1ab1-e4a0-4542-cee8-8593844d5d48"
      },
      "execution_count": 40,
      "outputs": [
        {
          "output_type": "execute_result",
          "data": {
            "text/plain": [
              "sin(x + y)"
            ],
            "text/latex": "$\\displaystyle \\sin{\\left(x + y \\right)}$"
          },
          "metadata": {},
          "execution_count": 40
        }
      ]
    },
    {
      "cell_type": "markdown",
      "source": [
        "3.1"
      ],
      "metadata": {
        "id": "Kr0ZyB8Bas79"
      }
    },
    {
      "cell_type": "code",
      "source": [
        "import numpy as np"
      ],
      "metadata": {
        "id": "v3a3yjURat96"
      },
      "execution_count": 41,
      "outputs": []
    },
    {
      "cell_type": "code",
      "source": [
        "from numpy import *"
      ],
      "metadata": {
        "id": "3UBbqBGWav-9"
      },
      "execution_count": 42,
      "outputs": []
    },
    {
      "cell_type": "markdown",
      "source": [
        "3.2"
      ],
      "metadata": {
        "id": "rGLzEMy7azWy"
      }
    },
    {
      "cell_type": "code",
      "source": [
        "vec1 = np.array([1., 3., 5.])\n",
        "vec1 * 2"
      ],
      "metadata": {
        "colab": {
          "base_uri": "https://localhost:8080/"
        },
        "id": "YCgzPN3ia1DZ",
        "outputId": "5ed65362-9e33-41ca-ee08-fe7adf5d9588"
      },
      "execution_count": 43,
      "outputs": [
        {
          "output_type": "execute_result",
          "data": {
            "text/plain": [
              "array([ 2.,  6., 10.])"
            ]
          },
          "metadata": {},
          "execution_count": 43
        }
      ]
    },
    {
      "cell_type": "code",
      "source": [
        "vec1 * vec1"
      ],
      "metadata": {
        "colab": {
          "base_uri": "https://localhost:8080/"
        },
        "id": "2C7EfI8HbU-q",
        "outputId": "a21100b0-830c-4c22-c7b1-97b188a28e78"
      },
      "execution_count": 44,
      "outputs": [
        {
          "output_type": "execute_result",
          "data": {
            "text/plain": [
              "array([ 1.,  9., 25.])"
            ]
          },
          "metadata": {},
          "execution_count": 44
        }
      ]
    },
    {
      "cell_type": "code",
      "source": [
        "vec1 /2"
      ],
      "metadata": {
        "colab": {
          "base_uri": "https://localhost:8080/"
        },
        "id": "PgHcmQDObXOu",
        "outputId": "bdd8114e-e545-485c-a0a3-a55d7bfecbab"
      },
      "execution_count": 45,
      "outputs": [
        {
          "output_type": "execute_result",
          "data": {
            "text/plain": [
              "array([0.5, 1.5, 2.5])"
            ]
          },
          "metadata": {},
          "execution_count": 45
        }
      ]
    },
    {
      "cell_type": "code",
      "source": [
        "vec1 + vec1"
      ],
      "metadata": {
        "colab": {
          "base_uri": "https://localhost:8080/"
        },
        "id": "mjZmlWJ3bYfh",
        "outputId": "a4891204-3932-41b8-e0b9-1f49c892b4aa"
      },
      "execution_count": 46,
      "outputs": [
        {
          "output_type": "execute_result",
          "data": {
            "text/plain": [
              "array([ 2.,  6., 10.])"
            ]
          },
          "metadata": {},
          "execution_count": 46
        }
      ]
    },
    {
      "cell_type": "code",
      "source": [
        "vec2 = array([2., 4.])\n",
        "vec1 + vec2"
      ],
      "metadata": {
        "colab": {
          "base_uri": "https://localhost:8080/",
          "height": 159
        },
        "id": "1sfsBA2JbY7G",
        "outputId": "313d0be7-8d5b-4dab-d744-aef7ff1688d5"
      },
      "execution_count": 49,
      "outputs": [
        {
          "output_type": "error",
          "ename": "ValueError",
          "evalue": "operands could not be broadcast together with shapes (3,) (2,) ",
          "traceback": [
            "\u001b[0;31m---------------------------------------------------------------------------\u001b[0m",
            "\u001b[0;31mValueError\u001b[0m                                Traceback (most recent call last)",
            "\u001b[0;32m<ipython-input-49-e750ae85c3b7>\u001b[0m in \u001b[0;36m<cell line: 0>\u001b[0;34m()\u001b[0m\n\u001b[1;32m      1\u001b[0m \u001b[0mvec2\u001b[0m \u001b[0;34m=\u001b[0m \u001b[0marray\u001b[0m\u001b[0;34m(\u001b[0m\u001b[0;34m[\u001b[0m\u001b[0;36m2.\u001b[0m\u001b[0;34m,\u001b[0m \u001b[0;36m4.\u001b[0m\u001b[0;34m]\u001b[0m\u001b[0;34m)\u001b[0m\u001b[0;34m\u001b[0m\u001b[0;34m\u001b[0m\u001b[0m\n\u001b[0;32m----> 2\u001b[0;31m \u001b[0mvec1\u001b[0m \u001b[0;34m+\u001b[0m \u001b[0mvec2\u001b[0m\u001b[0;34m\u001b[0m\u001b[0;34m\u001b[0m\u001b[0m\n\u001b[0m",
            "\u001b[0;31mValueError\u001b[0m: operands could not be broadcast together with shapes (3,) (2,) "
          ]
        }
      ]
    },
    {
      "cell_type": "code",
      "source": [
        "vec3 = array([2., 4., 6.])\n",
        "vec1 + vec3"
      ],
      "metadata": {
        "colab": {
          "base_uri": "https://localhost:8080/"
        },
        "id": "lM4NG5hdcSsr",
        "outputId": "5816ddcf-9405-4fcc-caae-db4ca7271f45"
      },
      "execution_count": 50,
      "outputs": [
        {
          "output_type": "execute_result",
          "data": {
            "text/plain": [
              "array([ 3.,  7., 11.])"
            ]
          },
          "metadata": {},
          "execution_count": 50
        }
      ]
    },
    {
      "cell_type": "code",
      "source": [
        "vec1 / vec3"
      ],
      "metadata": {
        "colab": {
          "base_uri": "https://localhost:8080/"
        },
        "id": "L6vKmZCVcY-U",
        "outputId": "473fdbc3-01f5-475b-8b40-412135232ca8"
      },
      "execution_count": 51,
      "outputs": [
        {
          "output_type": "execute_result",
          "data": {
            "text/plain": [
              "array([0.5       , 0.75      , 0.83333333])"
            ]
          },
          "metadata": {},
          "execution_count": 51
        }
      ]
    },
    {
      "cell_type": "code",
      "source": [
        "vec1 * vec3"
      ],
      "metadata": {
        "colab": {
          "base_uri": "https://localhost:8080/"
        },
        "id": "SHSny-e_ckOn",
        "outputId": "6b9a8edf-6845-4674-aa29-a06ad5e7eec5"
      },
      "execution_count": 52,
      "outputs": [
        {
          "output_type": "execute_result",
          "data": {
            "text/plain": [
              "array([ 2., 12., 30.])"
            ]
          },
          "metadata": {},
          "execution_count": 52
        }
      ]
    },
    {
      "cell_type": "code",
      "source": [
        "2 * vec1 + 5 * vec3"
      ],
      "metadata": {
        "colab": {
          "base_uri": "https://localhost:8080/"
        },
        "id": "w_ZoZJ8Lck0a",
        "outputId": "16857a9b-7b12-4c52-e3f4-6ba4885a14f5"
      },
      "execution_count": 53,
      "outputs": [
        {
          "output_type": "execute_result",
          "data": {
            "text/plain": [
              "array([12., 26., 40.])"
            ]
          },
          "metadata": {},
          "execution_count": 53
        }
      ]
    },
    {
      "cell_type": "code",
      "source": [
        "vec3[2]"
      ],
      "metadata": {
        "colab": {
          "base_uri": "https://localhost:8080/"
        },
        "id": "RHzOZoJPcmL6",
        "outputId": "02bc18a3-0127-4000-d9ba-d534e35e9925"
      },
      "execution_count": 54,
      "outputs": [
        {
          "output_type": "execute_result",
          "data": {
            "text/plain": [
              "np.float64(6.0)"
            ]
          },
          "metadata": {},
          "execution_count": 54
        }
      ]
    },
    {
      "cell_type": "code",
      "source": [
        "vec4 = np.linspace(0, 20, 5)\n",
        "vec4"
      ],
      "metadata": {
        "colab": {
          "base_uri": "https://localhost:8080/"
        },
        "id": "p_j4YKRkdFbl",
        "outputId": "521b8a92-aff0-460c-f033-69f72081e480"
      },
      "execution_count": 55,
      "outputs": [
        {
          "output_type": "execute_result",
          "data": {
            "text/plain": [
              "array([ 0.,  5., 10., 15., 20.])"
            ]
          },
          "metadata": {},
          "execution_count": 55
        }
      ]
    },
    {
      "cell_type": "code",
      "source": [
        "vec5 = np.zeros(5)"
      ],
      "metadata": {
        "id": "xZZ2dm7edN1q"
      },
      "execution_count": 59,
      "outputs": []
    },
    {
      "cell_type": "code",
      "source": [
        "vec6 = np.ones(5)"
      ],
      "metadata": {
        "id": "QsS3AqX2dPvi"
      },
      "execution_count": 60,
      "outputs": []
    },
    {
      "cell_type": "code",
      "source": [
        "vec7 = np.empty(5)"
      ],
      "metadata": {
        "id": "TtGiwG97dRTu"
      },
      "execution_count": 61,
      "outputs": []
    },
    {
      "cell_type": "code",
      "source": [
        "np.random.random(5)"
      ],
      "metadata": {
        "colab": {
          "base_uri": "https://localhost:8080/"
        },
        "id": "6rRsSGpwdWFu",
        "outputId": "d543caf0-c3ba-42fb-ffda-83c0de6c6b6f"
      },
      "execution_count": 62,
      "outputs": [
        {
          "output_type": "execute_result",
          "data": {
            "text/plain": [
              "array([0.07520208, 0.11830259, 0.7257498 , 0.53141985, 0.36434631])"
            ]
          },
          "metadata": {},
          "execution_count": 62
        }
      ]
    },
    {
      "cell_type": "code",
      "source": [
        "v = np.array([1., 3., 5.])"
      ],
      "metadata": {
        "id": "Gt7kz0ULdW15"
      },
      "execution_count": 63,
      "outputs": []
    },
    {
      "cell_type": "code",
      "source": [
        "np.sum(v)"
      ],
      "metadata": {
        "colab": {
          "base_uri": "https://localhost:8080/"
        },
        "id": "acY87HD4dYsq",
        "outputId": "d2fa0392-d1c0-4cea-b544-623c6bf52c4d"
      },
      "execution_count": 64,
      "outputs": [
        {
          "output_type": "execute_result",
          "data": {
            "text/plain": [
              "np.float64(9.0)"
            ]
          },
          "metadata": {},
          "execution_count": 64
        }
      ]
    },
    {
      "cell_type": "code",
      "source": [
        "v.shape"
      ],
      "metadata": {
        "colab": {
          "base_uri": "https://localhost:8080/"
        },
        "id": "2PkImUACdaT7",
        "outputId": "eb2a5487-638b-4bae-839a-e9d780872c8d"
      },
      "execution_count": 65,
      "outputs": [
        {
          "output_type": "execute_result",
          "data": {
            "text/plain": [
              "(3,)"
            ]
          },
          "metadata": {},
          "execution_count": 65
        }
      ]
    },
    {
      "cell_type": "code",
      "source": [
        "v.transpose()"
      ],
      "metadata": {
        "colab": {
          "base_uri": "https://localhost:8080/"
        },
        "id": "iu2w1rtgdcV8",
        "outputId": "b95b5797-3574-4d84-a7bb-576fcac41824"
      },
      "execution_count": 66,
      "outputs": [
        {
          "output_type": "execute_result",
          "data": {
            "text/plain": [
              "array([1., 3., 5.])"
            ]
          },
          "metadata": {},
          "execution_count": 66
        }
      ]
    },
    {
      "cell_type": "code",
      "source": [
        "v1 = v[:2]\n",
        "v1"
      ],
      "metadata": {
        "colab": {
          "base_uri": "https://localhost:8080/"
        },
        "id": "Yy9GUj2HddIu",
        "outputId": "6022e5aa-b8ca-4c29-d992-e3e67c7a06c5"
      },
      "execution_count": 67,
      "outputs": [
        {
          "output_type": "execute_result",
          "data": {
            "text/plain": [
              "array([1., 3.])"
            ]
          },
          "metadata": {},
          "execution_count": 67
        }
      ]
    },
    {
      "cell_type": "code",
      "source": [
        "v[0] = 5\n",
        "v"
      ],
      "metadata": {
        "colab": {
          "base_uri": "https://localhost:8080/"
        },
        "id": "038QHKjmdeog",
        "outputId": "61821522-4be6-484b-e645-9e099c98ba2b"
      },
      "execution_count": 68,
      "outputs": [
        {
          "output_type": "execute_result",
          "data": {
            "text/plain": [
              "array([5., 3., 5.])"
            ]
          },
          "metadata": {},
          "execution_count": 68
        }
      ]
    },
    {
      "cell_type": "code",
      "source": [
        "v1[:2] = [1., 2., 3.]"
      ],
      "metadata": {
        "colab": {
          "base_uri": "https://localhost:8080/",
          "height": 141
        },
        "id": "joeqBeKodgnm",
        "outputId": "195bad9e-1bd4-46d9-c76c-43fdcce985ff"
      },
      "execution_count": 69,
      "outputs": [
        {
          "output_type": "error",
          "ename": "ValueError",
          "evalue": "could not broadcast input array from shape (3,) into shape (2,)",
          "traceback": [
            "\u001b[0;31m---------------------------------------------------------------------------\u001b[0m",
            "\u001b[0;31mValueError\u001b[0m                                Traceback (most recent call last)",
            "\u001b[0;32m<ipython-input-69-9a489f108699>\u001b[0m in \u001b[0;36m<cell line: 0>\u001b[0;34m()\u001b[0m\n\u001b[0;32m----> 1\u001b[0;31m \u001b[0mv1\u001b[0m\u001b[0;34m[\u001b[0m\u001b[0;34m:\u001b[0m\u001b[0;36m2\u001b[0m\u001b[0;34m]\u001b[0m \u001b[0;34m=\u001b[0m \u001b[0;34m[\u001b[0m\u001b[0;36m1.\u001b[0m\u001b[0;34m,\u001b[0m \u001b[0;36m2.\u001b[0m\u001b[0;34m,\u001b[0m \u001b[0;36m3.\u001b[0m\u001b[0;34m]\u001b[0m\u001b[0;34m\u001b[0m\u001b[0;34m\u001b[0m\u001b[0m\n\u001b[0m",
            "\u001b[0;31mValueError\u001b[0m: could not broadcast input array from shape (3,) into shape (2,)"
          ]
        }
      ]
    },
    {
      "cell_type": "code",
      "source": [
        "v1[:2] = [1., 2]\n",
        "v"
      ],
      "metadata": {
        "colab": {
          "base_uri": "https://localhost:8080/"
        },
        "id": "C-3SJKFvdiEi",
        "outputId": "72641601-9b9a-41a1-a5b5-13704b7f0f02"
      },
      "execution_count": 70,
      "outputs": [
        {
          "output_type": "execute_result",
          "data": {
            "text/plain": [
              "array([1., 2., 5.])"
            ]
          },
          "metadata": {},
          "execution_count": 70
        }
      ]
    },
    {
      "cell_type": "code",
      "source": [
        "v3 = 2 * v[:2] + v1 * 3"
      ],
      "metadata": {
        "colab": {
          "base_uri": "https://localhost:8080/",
          "height": 141
        },
        "id": "ary9nFyxdlf6",
        "outputId": "b2f2c64b-c49e-41d8-e7f5-ee4facbb5e52"
      },
      "execution_count": 73,
      "outputs": [
        {
          "output_type": "error",
          "ename": "ValueError",
          "evalue": "operands could not be broadcast together with shapes (2,) (6,) ",
          "traceback": [
            "\u001b[0;31m---------------------------------------------------------------------------\u001b[0m",
            "\u001b[0;31mValueError\u001b[0m                                Traceback (most recent call last)",
            "\u001b[0;32m<ipython-input-73-24a00374c500>\u001b[0m in \u001b[0;36m<cell line: 0>\u001b[0;34m()\u001b[0m\n\u001b[0;32m----> 1\u001b[0;31m \u001b[0mv3\u001b[0m \u001b[0;34m=\u001b[0m \u001b[0;36m2\u001b[0m \u001b[0;34m*\u001b[0m \u001b[0mv\u001b[0m\u001b[0;34m[\u001b[0m\u001b[0;34m:\u001b[0m\u001b[0;36m2\u001b[0m\u001b[0;34m]\u001b[0m \u001b[0;34m+\u001b[0m \u001b[0mv1\u001b[0m \u001b[0;34m*\u001b[0m \u001b[0;36m3\u001b[0m\u001b[0;34m\u001b[0m\u001b[0;34m\u001b[0m\u001b[0m\n\u001b[0m",
            "\u001b[0;31mValueError\u001b[0m: operands could not be broadcast together with shapes (2,) (6,) "
          ]
        }
      ]
    },
    {
      "cell_type": "code",
      "source": [
        "v1 = [4, 6]\n",
        "v3"
      ],
      "metadata": {
        "colab": {
          "base_uri": "https://localhost:8080/"
        },
        "id": "5-iSZKQvdpEK",
        "outputId": "c0a7a9d7-ecef-431e-cc0e-50bcf2c4cc59"
      },
      "execution_count": 72,
      "outputs": [
        {
          "output_type": "execute_result",
          "data": {
            "text/plain": [
              "array([ 5., 10.])"
            ]
          },
          "metadata": {},
          "execution_count": 72
        }
      ]
    },
    {
      "cell_type": "code",
      "source": [
        "v"
      ],
      "metadata": {
        "colab": {
          "base_uri": "https://localhost:8080/"
        },
        "id": "wGRb4ThVdsdV",
        "outputId": "b3e1c09e-9246-43b3-d1f3-05ada5edc3a7"
      },
      "execution_count": 74,
      "outputs": [
        {
          "output_type": "execute_result",
          "data": {
            "text/plain": [
              "array([1., 2., 5.])"
            ]
          },
          "metadata": {},
          "execution_count": 74
        }
      ]
    },
    {
      "cell_type": "code",
      "source": [
        "v + 10.0"
      ],
      "metadata": {
        "colab": {
          "base_uri": "https://localhost:8080/"
        },
        "id": "z0B4hgnRdtSj",
        "outputId": "ead058f7-4523-4190-8554-3091e1dec344"
      },
      "execution_count": 75,
      "outputs": [
        {
          "output_type": "execute_result",
          "data": {
            "text/plain": [
              "array([11., 12., 15.])"
            ]
          },
          "metadata": {},
          "execution_count": 75
        }
      ]
    },
    {
      "cell_type": "code",
      "source": [
        "np.sqrt(v)"
      ],
      "metadata": {
        "colab": {
          "base_uri": "https://localhost:8080/"
        },
        "id": "BQ7hcy5gdx4s",
        "outputId": "ec51ad0e-45c8-46d9-905d-4942a9090f97"
      },
      "execution_count": 76,
      "outputs": [
        {
          "output_type": "execute_result",
          "data": {
            "text/plain": [
              "array([1.        , 1.41421356, 2.23606798])"
            ]
          },
          "metadata": {},
          "execution_count": 76
        }
      ]
    },
    {
      "cell_type": "code",
      "source": [
        "np.cos(v)"
      ],
      "metadata": {
        "colab": {
          "base_uri": "https://localhost:8080/"
        },
        "id": "H1TqL_TNdzb4",
        "outputId": "6f8ebf0c-4a33-41ce-cc77-3144ced2f329"
      },
      "execution_count": 77,
      "outputs": [
        {
          "output_type": "execute_result",
          "data": {
            "text/plain": [
              "array([ 0.54030231, -0.41614684,  0.28366219])"
            ]
          },
          "metadata": {},
          "execution_count": 77
        }
      ]
    },
    {
      "cell_type": "code",
      "source": [
        "np.sin(v)"
      ],
      "metadata": {
        "colab": {
          "base_uri": "https://localhost:8080/"
        },
        "id": "XY7Wu-RYd0Pu",
        "outputId": "4c89359b-08da-4c3b-acca-1f6ce099af49"
      },
      "execution_count": 78,
      "outputs": [
        {
          "output_type": "execute_result",
          "data": {
            "text/plain": [
              "array([ 0.84147098,  0.90929743, -0.95892427])"
            ]
          },
          "metadata": {},
          "execution_count": 78
        }
      ]
    },
    {
      "cell_type": "code",
      "source": [
        "np.dot(v1, v3)"
      ],
      "metadata": {
        "colab": {
          "base_uri": "https://localhost:8080/"
        },
        "id": "2XlJCAa0d3SX",
        "outputId": "19879e06-16e8-4fc0-a352-a687ce4cdf97"
      },
      "execution_count": 82,
      "outputs": [
        {
          "output_type": "execute_result",
          "data": {
            "text/plain": [
              "np.float64(80.0)"
            ]
          },
          "metadata": {},
          "execution_count": 82
        }
      ]
    },
    {
      "cell_type": "code",
      "source": [
        "v1.dot(v3)"
      ],
      "metadata": {
        "colab": {
          "base_uri": "https://localhost:8080/"
        },
        "id": "_jxLsQPGesEv",
        "outputId": "6f084e5a-3e6a-4d8d-d30f-3346e8fc1621"
      },
      "execution_count": 87,
      "outputs": [
        {
          "output_type": "execute_result",
          "data": {
            "text/plain": [
              "np.float64(125.0)"
            ]
          },
          "metadata": {},
          "execution_count": 87
        }
      ]
    },
    {
      "cell_type": "code",
      "source": [
        "v3.dot(v1)"
      ],
      "metadata": {
        "colab": {
          "base_uri": "https://localhost:8080/"
        },
        "id": "uJErzNtYfGiB",
        "outputId": "177cf020-4e9e-4042-a2c9-3a00da734b8e"
      },
      "execution_count": 88,
      "outputs": [
        {
          "output_type": "execute_result",
          "data": {
            "text/plain": [
              "np.float64(125.0)"
            ]
          },
          "metadata": {},
          "execution_count": 88
        }
      ]
    },
    {
      "cell_type": "markdown",
      "source": [
        "Bài tập 1"
      ],
      "metadata": {
        "id": "zKYUZCxxfK2C"
      }
    },
    {
      "cell_type": "code",
      "source": [
        "from sympy import Symbol, solve\n",
        "x = Symbol('x')\n",
        "bieuthuc = x + 3 - 5\n",
        "solve(bieuthuc)"
      ],
      "metadata": {
        "colab": {
          "base_uri": "https://localhost:8080/"
        },
        "id": "w8a37xpmfMLy",
        "outputId": "0a8886e2-dba2-4039-b800-87de5e50cc79"
      },
      "execution_count": 89,
      "outputs": [
        {
          "output_type": "execute_result",
          "data": {
            "text/plain": [
              "[2]"
            ]
          },
          "metadata": {},
          "execution_count": 89
        }
      ]
    },
    {
      "cell_type": "code",
      "source": [
        "bieuthuc = x**2 + 3 - 5\n",
        "nghiemx = solve(bieuthuc)\n",
        "nghiemx"
      ],
      "metadata": {
        "colab": {
          "base_uri": "https://localhost:8080/"
        },
        "id": "JyETuRqtfSqM",
        "outputId": "0e148d05-20f7-43f1-c5c2-975c0644a57a"
      },
      "execution_count": 90,
      "outputs": [
        {
          "output_type": "execute_result",
          "data": {
            "text/plain": [
              "[-sqrt(2), sqrt(2)]"
            ]
          },
          "metadata": {},
          "execution_count": 90
        }
      ]
    },
    {
      "cell_type": "code",
      "source": [
        "nghiemx[0]"
      ],
      "metadata": {
        "colab": {
          "base_uri": "https://localhost:8080/",
          "height": 39
        },
        "id": "R9Xx64i9fUbm",
        "outputId": "8533e56f-ba50-47fa-f5ed-9f6129d54e21"
      },
      "execution_count": 91,
      "outputs": [
        {
          "output_type": "execute_result",
          "data": {
            "text/plain": [
              "-sqrt(2)"
            ],
            "text/latex": "$\\displaystyle - \\sqrt{2}$"
          },
          "metadata": {},
          "execution_count": 91
        }
      ]
    },
    {
      "cell_type": "code",
      "source": [
        "nghiemx[1]"
      ],
      "metadata": {
        "colab": {
          "base_uri": "https://localhost:8080/",
          "height": 39
        },
        "id": "_6c2dSgxfZd5",
        "outputId": "5d30513a-c2c0-4c43-91de-ed7c0527378e"
      },
      "execution_count": 92,
      "outputs": [
        {
          "output_type": "execute_result",
          "data": {
            "text/plain": [
              "sqrt(2)"
            ],
            "text/latex": "$\\displaystyle \\sqrt{2}$"
          },
          "metadata": {},
          "execution_count": 92
        }
      ]
    },
    {
      "cell_type": "markdown",
      "source": [
        "Bài tập 2"
      ],
      "metadata": {
        "id": "QLM1hzNBfd0H"
      }
    },
    {
      "cell_type": "code",
      "source": [
        "from sympy import Symbol, solve\n",
        "x = Symbol('x')\n",
        "ptb2 = x**2 + 9*x + 8\n",
        "solve(ptb2, dict=True)"
      ],
      "metadata": {
        "colab": {
          "base_uri": "https://localhost:8080/"
        },
        "id": "sH9citoDfhZL",
        "outputId": "a225a6da-0217-4793-c7fa-234ee64abfe9"
      },
      "execution_count": 93,
      "outputs": [
        {
          "output_type": "execute_result",
          "data": {
            "text/plain": [
              "[{x: -8}, {x: -1}]"
            ]
          },
          "metadata": {},
          "execution_count": 93
        }
      ]
    },
    {
      "cell_type": "code",
      "source": [
        "ptb2 = x**2 + x + 10\n",
        "nghiemx = solve(ptb2, dict=True)\n",
        "nghiemx"
      ],
      "metadata": {
        "colab": {
          "base_uri": "https://localhost:8080/"
        },
        "id": "EBMucMr9fxqf",
        "outputId": "b94d23b2-69b7-4a28-8818-385f072392e4"
      },
      "execution_count": 94,
      "outputs": [
        {
          "output_type": "execute_result",
          "data": {
            "text/plain": [
              "[{x: -1/2 - sqrt(39)*I/2}, {x: -1/2 + sqrt(39)*I/2}]"
            ]
          },
          "metadata": {},
          "execution_count": 94
        }
      ]
    },
    {
      "cell_type": "markdown",
      "source": [
        "Bài tập 3"
      ],
      "metadata": {
        "id": "CtNTFUhdgHS7"
      }
    },
    {
      "cell_type": "code",
      "source": [
        "from sympy import Symbol, solve\n",
        "\n",
        "x = Symbol('x')\n",
        "a = Symbol('a')\n",
        "b = Symbol('b')\n",
        "c = Symbol('c')\n",
        "\n",
        "ptb2 = a*x**2 + b*x + c\n",
        "nghiem = solve(ptb2, x, dict=True)\n",
        "nghiem"
      ],
      "metadata": {
        "colab": {
          "base_uri": "https://localhost:8080/"
        },
        "id": "KcG4EZb6gI1p",
        "outputId": "bb053695-2266-40e8-bb0c-972a182ca972"
      },
      "execution_count": 95,
      "outputs": [
        {
          "output_type": "execute_result",
          "data": {
            "text/plain": [
              "[{x: (-b - sqrt(-4*a*c + b**2))/(2*a)}, {x: (-b + sqrt(-4*a*c + b**2))/(2*a)}]"
            ]
          },
          "metadata": {},
          "execution_count": 95
        }
      ]
    },
    {
      "cell_type": "code",
      "source": [
        "from sympy import Symbol, solve\n",
        "\n",
        "x = Symbol('x')\n",
        "y = Symbol('y')\n",
        "pt1 = 2*x + 3*y - 12\n",
        "pt2 = 3*x - 2*y - 5\n",
        "solve((pt1, pt2), dict=True)"
      ],
      "metadata": {
        "colab": {
          "base_uri": "https://localhost:8080/"
        },
        "id": "kOO4L9vVgLHs",
        "outputId": "56e76cf6-13eb-4cf6-a766-7cf168190398"
      },
      "execution_count": 96,
      "outputs": [
        {
          "output_type": "execute_result",
          "data": {
            "text/plain": [
              "[{x: 3, y: 2}]"
            ]
          },
          "metadata": {},
          "execution_count": 96
        }
      ]
    },
    {
      "cell_type": "code",
      "source": [
        "nghiem = solve((pt1, pt2), dict=True)\n",
        "nghiem = nghiem[0]\n",
        "pt1.subs({x:nghiem[x], y:nghiem[y]})"
      ],
      "metadata": {
        "colab": {
          "base_uri": "https://localhost:8080/",
          "height": 37
        },
        "id": "hxtN0Bh9gwCA",
        "outputId": "aacf18a7-0464-4953-eb45-9a88a80455b1"
      },
      "execution_count": 97,
      "outputs": [
        {
          "output_type": "execute_result",
          "data": {
            "text/plain": [
              "0"
            ],
            "text/latex": "$\\displaystyle 0$"
          },
          "metadata": {},
          "execution_count": 97
        }
      ]
    },
    {
      "cell_type": "code",
      "source": [
        "pt2.subs({x:nghiem[x], y:nghiem[y]})"
      ],
      "metadata": {
        "colab": {
          "base_uri": "https://localhost:8080/",
          "height": 37
        },
        "id": "9rLJ0uFogxFr",
        "outputId": "7d3c88f2-d168-4ffe-e59c-77ce30210cbb"
      },
      "execution_count": 98,
      "outputs": [
        {
          "output_type": "execute_result",
          "data": {
            "text/plain": [
              "0"
            ],
            "text/latex": "$\\displaystyle 0$"
          },
          "metadata": {},
          "execution_count": 98
        }
      ]
    },
    {
      "cell_type": "markdown",
      "source": [
        "Bài tập 5"
      ],
      "metadata": {
        "id": "Q6-dtSs7g8bO"
      }
    },
    {
      "cell_type": "code",
      "source": [
        "M1 = np.array([[9, 12], [23, 30]])\n",
        "u = np.array([2, 1])\n",
        "tichM1u = M1.dot(u)\n",
        "print(tichM1u)"
      ],
      "metadata": {
        "colab": {
          "base_uri": "https://localhost:8080/"
        },
        "id": "cqGA7-Reg92A",
        "outputId": "fb4a09d7-de02-4d13-b3c5-918378ac7927"
      },
      "execution_count": 99,
      "outputs": [
        {
          "output_type": "stream",
          "name": "stdout",
          "text": [
            "[30 76]\n"
          ]
        }
      ]
    },
    {
      "cell_type": "code",
      "source": [
        "tichuM1 = u.dot(M1)\n",
        "print(tichuM1)"
      ],
      "metadata": {
        "colab": {
          "base_uri": "https://localhost:8080/"
        },
        "id": "eQug5Co9hZM2",
        "outputId": "89c8203d-1d86-454b-aaac-0371541d5e49"
      },
      "execution_count": 100,
      "outputs": [
        {
          "output_type": "stream",
          "name": "stdout",
          "text": [
            "[41 54]\n"
          ]
        }
      ]
    },
    {
      "cell_type": "code",
      "source": [
        "np.dot(M1, u)"
      ],
      "metadata": {
        "colab": {
          "base_uri": "https://localhost:8080/"
        },
        "id": "WyHzE0cMhbbz",
        "outputId": "947c75ad-435b-4322-9a01-c67fe6fd41d7"
      },
      "execution_count": 101,
      "outputs": [
        {
          "output_type": "execute_result",
          "data": {
            "text/plain": [
              "array([30, 76])"
            ]
          },
          "metadata": {},
          "execution_count": 101
        }
      ]
    },
    {
      "cell_type": "code",
      "source": [
        "np.dot(u, M1)"
      ],
      "metadata": {
        "colab": {
          "base_uri": "https://localhost:8080/"
        },
        "id": "AfktWtuBhc4s",
        "outputId": "01446e11-3937-426d-f6a7-cc5a1e62e201"
      },
      "execution_count": 102,
      "outputs": [
        {
          "output_type": "execute_result",
          "data": {
            "text/plain": [
              "array([41, 54])"
            ]
          },
          "metadata": {},
          "execution_count": 102
        }
      ]
    },
    {
      "cell_type": "code",
      "source": [
        "mat1 = np.zeros([5, 5])"
      ],
      "metadata": {
        "id": "X3CAf22-heF4"
      },
      "execution_count": 106,
      "outputs": []
    },
    {
      "cell_type": "code",
      "source": [
        "mat2 = np.ones([5, 5])\n"
      ],
      "metadata": {
        "id": "JqTFVPplhhi0"
      },
      "execution_count": 107,
      "outputs": []
    },
    {
      "cell_type": "code",
      "source": [
        "mat3 = mat1 + 2 * mat2"
      ],
      "metadata": {
        "id": "xiUU12QShkVS"
      },
      "execution_count": 108,
      "outputs": []
    },
    {
      "cell_type": "code",
      "source": [
        "mat4 = mat3\n",
        "mat3[3][2] = 10"
      ],
      "metadata": {
        "id": "WwkdzKyyhnMq"
      },
      "execution_count": 109,
      "outputs": []
    },
    {
      "cell_type": "code",
      "source": [
        "mat5 = np.copy(mat3)\n",
        "mat3[3][2] = 10"
      ],
      "metadata": {
        "id": "iDv8746-hoTB"
      },
      "execution_count": 110,
      "outputs": []
    },
    {
      "cell_type": "code",
      "source": [
        "mat6 = np.empty([4, 5])"
      ],
      "metadata": {
        "id": "sy8JhFjyhrSJ"
      },
      "execution_count": 112,
      "outputs": []
    },
    {
      "cell_type": "code",
      "source": [
        "mat7 = np.identity(4)"
      ],
      "metadata": {
        "id": "v6Ji69FNhtpm"
      },
      "execution_count": 113,
      "outputs": []
    },
    {
      "cell_type": "code",
      "source": [
        "mat8 = np.random.random([4, 5])"
      ],
      "metadata": {
        "id": "jV7cq9yPhvfl"
      },
      "execution_count": 114,
      "outputs": []
    },
    {
      "cell_type": "markdown",
      "source": [
        "Bài tập 6"
      ],
      "metadata": {
        "id": "dK5ysIhtiDpr"
      }
    },
    {
      "cell_type": "code",
      "source": [
        "import numpy as np\n",
        "\n",
        "# Lưới A: Cháy rừng\n",
        "A = np.array([\n",
        "    [0, 1, 1, 3, 1],\n",
        "    [0, 0, 1, 0, 1],\n",
        "    [1, 5, 2, 2, 0],\n",
        "    [0, 1, 2, 1, 2]\n",
        "])\n",
        "\n",
        "# Lưới B: Lũ quét\n",
        "B = np.array([\n",
        "    [1, 1, 2, 2, 2],\n",
        "    [2, 2, 1, 2, 0],\n",
        "    [2, 4, 2, 1, 2],\n",
        "    [2, 2, 2, 2, 2]\n",
        "])\n",
        "\n",
        "# Lưới C: Sạt lở núi\n",
        "C = np.array([\n",
        "    [0, 5, 0, 1, 1],\n",
        "    [1, 1, 1, 1, 3],\n",
        "    [1, 3, 0, 1, 1],\n",
        "    [3, 3, 0, 2, 2]\n",
        "])\n",
        "\n",
        "# Lưới D: Bệnh dịch\n",
        "D = np.array([\n",
        "    [3, 1, 5, 0, 1],\n",
        "    [0, 1, 0, 3, 7],\n",
        "    [7, 0, 5, 0, 0],\n",
        "    [3, 5, 3, 5, 3]\n",
        "])\n",
        "\n",
        "# Lưới E: Lộ bí mật\n",
        "E = np.array([\n",
        "    [1, 0, 0, 0, 0],\n",
        "    [0, 10, 0, 15, 0],\n",
        "    [0, 5, 0, 20, 15],\n",
        "    [5, 0, 0, 5, 0]\n",
        "])"
      ],
      "metadata": {
        "id": "_EFkaXDYiFhj"
      },
      "execution_count": 116,
      "outputs": []
    },
    {
      "cell_type": "code",
      "source": [
        "def map_diem(loai, grid):\n",
        "    \"\"\"Chuyển đổi lưới cấp độ thành điểm nguy cơ\"\"\"\n",
        "    if loai == \"A\":  # Cháy rừng\n",
        "        return np.select([grid==0, grid==1, grid==2, grid==3, grid==5],\n",
        "                         [0, 1, 2, 3, 5])\n",
        "    elif loai == \"B\":  # Lũ quét\n",
        "        return np.select([grid==0, grid==1, grid==2, grid==4, grid==8],\n",
        "                         [0, 1, 2, 4, 8])\n",
        "    elif loai == \"C\":  # Sạt lở núi\n",
        "        return np.select([grid==0, grid==1, grid==3, grid==5, grid==9],\n",
        "                         [0, 1, 3, 5, 9])\n",
        "    elif loai == \"D\":  # Bệnh dịch\n",
        "        return np.select([grid==0, grid==1, grid==3, grid==5, grid==7],\n",
        "                         [0, 1, 3, 5, 7])\n",
        "    elif loai == \"E\":  # Lộ bí mật\n",
        "        return np.select([grid==0, grid==5, grid==10, grid==15, grid==20],\n",
        "                         [0, 5, 10, 15, 20])\n"
      ],
      "metadata": {
        "id": "lpe6qmmqivI2"
      },
      "execution_count": 117,
      "outputs": []
    },
    {
      "cell_type": "code",
      "source": [
        "A_diem = map_diem(\"A\", A)\n",
        "B_diem = map_diem(\"B\", B)\n",
        "C_diem = map_diem(\"C\", C)\n",
        "D_diem = map_diem(\"D\", D)\n",
        "E_diem = map_diem(\"E\", E)"
      ],
      "metadata": {
        "id": "8QFbRK7ZixOL"
      },
      "execution_count": 118,
      "outputs": []
    },
    {
      "cell_type": "code",
      "source": [
        "NGUONG = 5"
      ],
      "metadata": {
        "id": "CQh1lau_i0ay"
      },
      "execution_count": 120,
      "outputs": []
    },
    {
      "cell_type": "code",
      "source": [
        "tong_a = E_diem\n",
        "an_toan_a = tong_a <= NGUONG"
      ],
      "metadata": {
        "id": "wMUv6BIji2dg"
      },
      "execution_count": 121,
      "outputs": []
    },
    {
      "cell_type": "code",
      "source": [
        "tong_c = A_diem + D_diem\n",
        "an_toan_c = tong_c <= NGUONG"
      ],
      "metadata": {
        "id": "Kx3xSXlUi5OB"
      },
      "execution_count": 122,
      "outputs": []
    },
    {
      "cell_type": "code",
      "source": [
        "tong_e = A_diem + B_diem + C_diem + D_diem + E_diem\n",
        "an_toan_e = tong_e <= NGUONG"
      ],
      "metadata": {
        "id": "cihh57bSi6x4"
      },
      "execution_count": 123,
      "outputs": []
    },
    {
      "cell_type": "code",
      "source": [
        "print(\"Vùng an toàn cho chiến dịch ngắn hạn (a):\")\n",
        "print(an_toan_a.astype(int))  # Chuyển True/False thành 1/0"
      ],
      "metadata": {
        "colab": {
          "base_uri": "https://localhost:8080/"
        },
        "id": "4r49PA8yjG6_",
        "outputId": "e2daabb6-4a5b-4af2-97b5-e15e4c35579f"
      },
      "execution_count": 126,
      "outputs": [
        {
          "output_type": "stream",
          "name": "stdout",
          "text": [
            "Vùng an toàn cho chiến dịch ngắn hạn (a):\n",
            "[[1 1 1 1 1]\n",
            " [1 0 1 0 1]\n",
            " [1 1 1 0 0]\n",
            " [1 1 1 1 1]]\n"
          ]
        }
      ]
    }
  ]
}