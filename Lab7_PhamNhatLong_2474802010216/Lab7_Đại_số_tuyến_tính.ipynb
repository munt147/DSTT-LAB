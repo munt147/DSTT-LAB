{
  "nbformat": 4,
  "nbformat_minor": 0,
  "metadata": {
    "colab": {
      "provenance": []
    },
    "kernelspec": {
      "name": "python3",
      "display_name": "Python 3"
    },
    "language_info": {
      "name": "python"
    }
  },
  "cells": [
    {
      "cell_type": "markdown",
      "source": [
        "CHƯƠNG 7: KHÔNG GIAN VECTOR VÀ ÁNH XẠ TUYẾN TÍNH\n",
        "(PHẦN 1)"
      ],
      "metadata": {
        "id": "pmeS3s7If8_S"
      }
    },
    {
      "cell_type": "markdown",
      "source": [
        "1. Giới thiệu một số ứng dụng của tích vector (dot product)"
      ],
      "metadata": {
        "id": "TuPvh-eRgJaO"
      }
    },
    {
      "cell_type": "code",
      "source": [
        "import numpy as np\n",
        "signals = np.array([[1,2],[3,4],[10,0]])\n",
        "sample = np.array([3,-1])\n",
        "np.inner(signals, sample)"
      ],
      "metadata": {
        "colab": {
          "base_uri": "https://localhost:8080/"
        },
        "id": "2BPEuX5qggSD",
        "outputId": "010fd2c1-dc22-4395-da8f-3b2d8fef2fa8"
      },
      "execution_count": 1,
      "outputs": [
        {
          "output_type": "execute_result",
          "data": {
            "text/plain": [
              "array([ 1,  5, 30])"
            ]
          },
          "metadata": {},
          "execution_count": 1
        }
      ]
    },
    {
      "cell_type": "markdown",
      "source": [
        "1.1.Ứng dụng 1 – Nguyên lý tìm nốt nhạc trong chuỗi âm thanh (Audio search)"
      ],
      "metadata": {
        "id": "ln2d1Jb0gnqs"
      }
    },
    {
      "cell_type": "code",
      "source": [
        "import numpy as np\n",
        "A = np.array([0,0,-1,2,3,-1,0,1,-1,-1])\n",
        "search_vector = np.array([0,1,-1])\n",
        "len(A), len(search_vector) # nghĩa là = (10, 3)"
      ],
      "metadata": {
        "colab": {
          "base_uri": "https://localhost:8080/"
        },
        "id": "yexRDcw0g1Lh",
        "outputId": "c1d9dabc-649a-4376-8d39-51a18cafc520"
      },
      "execution_count": 2,
      "outputs": [
        {
          "output_type": "execute_result",
          "data": {
            "text/plain": [
              "(10, 3)"
            ]
          },
          "metadata": {},
          "execution_count": 2
        }
      ]
    },
    {
      "cell_type": "code",
      "source": [
        "B = np.array([1])\n",
        "B = np.resize(B, (len(A)-len(search_vector)+1, len(search_vector)))\n",
        "B = np.asmatrix(B)\n",
        "for i in range(len(A)-len(search_vector)+1): # so dong\n",
        "    for j in range(len(search_vector)): # so cot\n",
        "        B[i,j] = A[i+j]"
      ],
      "metadata": {
        "id": "kgcp38fug8Zv"
      },
      "execution_count": 3,
      "outputs": []
    },
    {
      "cell_type": "code",
      "source": [
        "C = np.inner(B, search_vector)\n",
        "for i in range(len(A)-len(search_vector)+1):\n",
        "    if ( C[0,i] == np.inner(search_vector, search_vector) ):\n",
        "     print (i, B[i])"
      ],
      "metadata": {
        "colab": {
          "base_uri": "https://localhost:8080/"
        },
        "id": "1fNTA1FThhJ7",
        "outputId": "9fa2decb-f3f7-425b-93c5-1ba845ca141f"
      },
      "execution_count": 4,
      "outputs": [
        {
          "output_type": "stream",
          "name": "stdout",
          "text": [
            "6 [[ 0  1 -1]]\n"
          ]
        }
      ]
    },
    {
      "cell_type": "markdown",
      "source": [
        "1.2.Ứng dụng 2 – Tạo ảnh mẫu và làm mờ ảnh"
      ],
      "metadata": {
        "id": "aTDhb_Mxhn6W"
      }
    },
    {
      "cell_type": "code",
      "source": [],
      "metadata": {
        "id": "UttoYPLTk0HS"
      },
      "execution_count": null,
      "outputs": []
    },
    {
      "cell_type": "markdown",
      "source": [
        "Resize ảnh bằng PIL"
      ],
      "metadata": {
        "id": "YSD8kZMokp_s"
      }
    },
    {
      "cell_type": "code",
      "source": [
        "from PIL import Image\n",
        "import requests\n",
        "from io import BytesIO\n",
        "\n",
        "# Load a sample image from a different URL\n",
        "url = \"https://www.python.org/static/community_logos/python-logo-master-v3-TM.png\"\n",
        "response = requests.get(url)\n",
        "img = Image.open(BytesIO(response.content))\n",
        "\n",
        "img = img.convert(\"RGB\")\n",
        "new_width = int(img.width / 2)\n",
        "new_height = int(img.height / 2)\n",
        "new_img = img.resize((new_width, new_height), Image.Resampling.LANCZOS) # Use LANCZOS for resizing\n",
        "new_img.save('python_logo_small.PNG')\n",
        "\n",
        "print(\"Image resized and saved as 'python_logo_small.PNG'\")"
      ],
      "metadata": {
        "colab": {
          "base_uri": "https://localhost:8080/"
        },
        "id": "BvVOwXs8kq8H",
        "outputId": "af078b3d-2323-43f6-88c4-6856a22fe398"
      },
      "execution_count": 9,
      "outputs": [
        {
          "output_type": "stream",
          "name": "stdout",
          "text": [
            "Image resized and saved as 'python_logo_small.PNG'\n"
          ]
        }
      ]
    },
    {
      "cell_type": "markdown",
      "source": [
        "Làm mờ ảnh bằng kernel trung bình"
      ],
      "metadata": {
        "id": "JoFlJJq2kraA"
      }
    },
    {
      "cell_type": "code",
      "source": [
        "from PIL import Image, ImageDraw\n",
        "\n",
        "input_image = Image.open('python_logo_small.PNG')\n",
        "input_pixels = input_image.load()\n",
        "\n",
        "box_kernel = [[1/9, 1/9, 1/9],\n",
        "                [1/9, 1/9, 1/9],\n",
        "                [1/9, 1/9, 1/9]]\n",
        "\n",
        "kernel = box_kernel\n",
        "offset = len(kernel) // 2\n",
        "\n",
        "output_image = Image.new(\"RGB\", input_image.size)\n",
        "draw = ImageDraw.Draw(output_image)\n",
        "\n",
        "for x in range(offset, input_image.width - offset):\n",
        "    for y in range(offset, input_image.height - offset):\n",
        "        acc = [0, 0, 0]\n",
        "        for a in range(len(kernel)):\n",
        "            for b in range(len(kernel)):\n",
        "                xn = x + a - offset\n",
        "                yn = y + b - offset\n",
        "                pixel = input_pixels[xn, yn]\n",
        "                acc[0] += pixel[0] * kernel[a][b]\n",
        "                acc[1] += pixel[1] * kernel[a][b]\n",
        "                acc[2] += pixel[2] * kernel[a][b]\n",
        "        draw.point((x, y), (int(acc[0]), int(acc[1]), int(acc[2])))\n",
        "\n",
        "output_image.save('python_logo_small_blurred.PNG')\n",
        "\n",
        "print(\"Image blurred and saved as 'python_logo_small_blurred.PNG'\")"
      ],
      "metadata": {
        "colab": {
          "base_uri": "https://localhost:8080/"
        },
        "id": "ceq35j_WkvjN",
        "outputId": "fe2f4dd5-713a-475b-b570-5dd05a4ec834"
      },
      "execution_count": 11,
      "outputs": [
        {
          "output_type": "stream",
          "name": "stdout",
          "text": [
            "Image blurred and saved as 'python_logo_small_blurred.PNG'\n"
          ]
        }
      ]
    },
    {
      "cell_type": "markdown",
      "source": [
        "Xử lý ảnh với matplotlib và skimage"
      ],
      "metadata": {
        "id": "aVIEJeXvkxnc"
      }
    },
    {
      "cell_type": "code",
      "source": [
        "import matplotlib.pyplot as plt\n",
        "from skimage import data, color\n",
        "from skimage.transform import rescale, resize, downscale_local_mean\n",
        "\n",
        "image = color.rgb2gray(data.astronaut())\n",
        "image_rescaled = rescale(image, 1.0 / 4.0)\n",
        "image_resized = resize(image, (image.shape[0] // 4, image.shape[1] // 4))\n",
        "image_downscaled = downscale_local_mean(image, (4, 3))\n",
        "\n",
        "fig, axes = plt.subplots(nrows=2, ncols=2)\n",
        "ax = axes.ravel()\n",
        "\n",
        "ax[0].imshow(image, cmap='gray')\n",
        "ax[0].set_title(\"Ảnh gốc\")\n",
        "\n",
        "ax[1].imshow(image_rescaled, cmap='gray')\n",
        "ax[1].set_title(\"Ảnh đã scale\")\n",
        "\n",
        "ax[2].imshow(image_resized, cmap='gray')\n",
        "ax[2].set_title(\"Ảnh co resize kích thước (no aliasing)\")\n",
        "\n",
        "ax[3].imshow(image_downscaled, cmap='gray')\n",
        "ax[3].set_title(\"Ảnh giảm tỉ lệ (no aliasing)\")\n",
        "\n",
        "for a in ax:\n",
        "    a.set_xlim(0, 512)\n",
        "    a.set_ylim(512, 0)\n",
        "\n",
        "plt.tight_layout()\n",
        "plt.show()"
      ],
      "metadata": {
        "colab": {
          "base_uri": "https://localhost:8080/",
          "height": 487
        },
        "id": "5iwpGApOkyWZ",
        "outputId": "083bb966-56e5-49ec-cc9f-693d484ff510"
      },
      "execution_count": 12,
      "outputs": [
        {
          "output_type": "display_data",
          "data": {
            "text/plain": [
              "<Figure size 640x480 with 4 Axes>"
            ],
            "image/png": "[encoded data removed]"
          },
          "metadata": {}
        }
      ]
    },
    {
      "cell_type": "markdown",
      "source": [
        "2. ứng dụng: xếp hạng các tragf web với trị riêng và vector riêng"
      ],
      "metadata": {
        "id": "sM3SIecalOxS"
      }
    },
    {
      "cell_type": "markdown",
      "source": [
        "2.1.Đơn giản hóa thuật toán Pagerank"
      ],
      "metadata": {
        "id": "V4-8KlJQlZiw"
      }
    },
    {
      "cell_type": "code",
      "source": [
        "import numpy as np\n",
        "A = np.array([[0,0,1.0/2, 1.0/2],\n",
        " [1.0/3,0,0,0],\n",
        " [1.0/3,0,0,1.0/2],\n",
        " [1.0/3,1.0,1.0/2,0]])\n",
        "x = np.array([1,1,1,1])"
      ],
      "metadata": {
        "id": "caaNGmIpliwF"
      },
      "execution_count": 13,
      "outputs": []
    },
    {
      "cell_type": "markdown",
      "source": [
        "Thực hành"
      ],
      "metadata": {
        "id": "hUKO8OxTlrVy"
      }
    },
    {
      "cell_type": "code",
      "source": [
        "x = np.dot(A, x)\n",
        "print (x)"
      ],
      "metadata": {
        "colab": {
          "base_uri": "https://localhost:8080/"
        },
        "id": "_Tbek-TqlnTB",
        "outputId": "41a286ee-eca4-4574-fbc7-0fae0777bcfb"
      },
      "execution_count": 14,
      "outputs": [
        {
          "output_type": "stream",
          "name": "stdout",
          "text": [
            "[1.         0.33333333 0.83333333 1.83333333]\n"
          ]
        }
      ]
    },
    {
      "cell_type": "code",
      "source": [
        "x = np.array([1.0, 1.0, 1.0, 1.0])\n",
        "for i in range(10):\n",
        " x = np.dot(A, x)\n",
        " print (i+1, x)"
      ],
      "metadata": {
        "colab": {
          "base_uri": "https://localhost:8080/"
        },
        "id": "NXh2D6sLltDY",
        "outputId": "70d36d8d-cca6-412f-9b0b-11e12f400f94"
      },
      "execution_count": 15,
      "outputs": [
        {
          "output_type": "stream",
          "name": "stdout",
          "text": [
            "1 [1.         0.33333333 0.83333333 1.83333333]\n",
            "2 [1.33333333 0.33333333 1.25       1.08333333]\n",
            "3 [1.16666667 0.44444444 0.98611111 1.40277778]\n",
            "4 [1.19444444 0.38888889 1.09027778 1.32638889]\n",
            "5 [1.20833333 0.39814815 1.06134259 1.33217593]\n",
            "6 [1.19675926 0.40277778 1.06886574 1.33159722]\n",
            "7 [1.20023148 0.39891975 1.06471836 1.3361304 ]\n",
            "8 [1.20042438 0.40007716 1.06814236 1.3313561 ]\n",
            "9 [1.19974923 0.40014146 1.06581951 1.3342898 ]\n",
            "10 [1.20005466 0.39991641 1.06706131 1.33296762]\n"
          ]
        }
      ]
    },
    {
      "cell_type": "markdown",
      "source": [
        "2.2. [Đọc thêm] Xử lý dangling node trong thuật toán Pagerank"
      ],
      "metadata": {
        "id": "REF3VFOAlx9m"
      }
    },
    {
      "cell_type": "code",
      "source": [
        "A = np.array([[0,0,1.0/2, 0.0],\n",
        " [1.0/3,0,0,0],\n",
        " [1.0/3,0,0,0.0],\n",
        " [1.0/3,1.0,1.0/2,0]])\n",
        "for i in range(5):\n",
        " x = np.dot(A, x)\n",
        " print (i+1, x)"
      ],
      "metadata": {
        "colab": {
          "base_uri": "https://localhost:8080/"
        },
        "id": "PBVsdDsOl933",
        "outputId": "52c36985-7380-4e76-d418-1d97d48c96bf"
      },
      "execution_count": 16,
      "outputs": [
        {
          "output_type": "stream",
          "name": "stdout",
          "text": [
            "1 [0.53353066 0.40001822 0.40001822 1.33346528]\n",
            "2 [0.20000911 0.17784355 0.17784355 0.77787088]\n",
            "3 [0.08892178 0.0666697  0.0666697  0.33343503]\n",
            "4 [0.03333485 0.02964059 0.02964059 0.12964515]\n",
            "5 [0.0148203  0.01111162 0.01111162 0.05557251]\n"
          ]
        }
      ]
    },
    {
      "cell_type": "code",
      "source": [
        "x = np.array([1.0, 1.0, 1.0, 1.0])\n",
        "A = np.array([[0,0,1.0/2, 1/4.0],\n",
        " [1.0/3,0,0,1/4.0],\n",
        " [1.0/3,0,0,1/4.0],\n",
        " [1.0/3,1.0,1.0/2,1/4.0]])\n",
        "for i in range(7):\n",
        " x = np.dot(A, x)\n",
        " print (i+1, x)"
      ],
      "metadata": {
        "colab": {
          "base_uri": "https://localhost:8080/"
        },
        "id": "ngUc57HNmBq1",
        "outputId": "cd424a35-ad33-4a19-e84a-a1b0cdacbbf3"
      },
      "execution_count": 17,
      "outputs": [
        {
          "output_type": "stream",
          "name": "stdout",
          "text": [
            "1 [0.75       0.58333333 0.58333333 2.08333333]\n",
            "2 [0.8125     0.77083333 0.77083333 1.64583333]\n",
            "3 [0.796875   0.68229167 0.68229167 1.83854167]\n",
            "4 [0.80078125 0.72526042 0.72526042 1.74869792]\n",
            "5 [0.79980469 0.70410156 0.70410156 1.79199219]\n",
            "6 [0.80004883 0.71459961 0.71459961 1.77075195]\n",
            "7 [0.79998779 0.70937093 0.70937093 1.78127035]\n"
          ]
        }
      ]
    },
    {
      "cell_type": "code",
      "source": [
        "np.max(x)"
      ],
      "metadata": {
        "colab": {
          "base_uri": "https://localhost:8080/"
        },
        "id": "bThYbQ1XmHKz",
        "outputId": "f642ebd2-c785-4d45-cfc6-3e97598d3857"
      },
      "execution_count": 18,
      "outputs": [
        {
          "output_type": "execute_result",
          "data": {
            "text/plain": [
              "np.float64(1.7812703450520826)"
            ]
          },
          "metadata": {},
          "execution_count": 18
        }
      ]
    },
    {
      "cell_type": "markdown",
      "source": [
        "2.3. [Đọc thêm] Xử lý nhánh web reducible"
      ],
      "metadata": {
        "id": "8R8bXlTmmIu-"
      }
    },
    {
      "cell_type": "code",
      "source": [
        "A = np.array([[0.0, 0.0, 1/2.0, 0.0, 0.0, 0.0, 0.0, 0.0],\n",
        " [1.0/3, 0.0, 1/2.0, 0.0, 0.0, 0.0, 0.0, 0.0],\n",
        " [1/3.0, 0.0, 0.0, 0.0, 0.0, 0.0, 0.0, 0.0],\n",
        " [1.0/3,1/2.0,1/2.0, 0.0, 0.0, 0.0, 0.0, 0.0],\n",
        " [0.0 ,1/2.0, 0.0, 0.0, 0.0,1/2.0, 0.0,0.0],\n",
        " [0.0, 0.0, 0.0,0.0, 0.0, 0.0, 1.0,1/2.0],\n",
        " [0.0, 0.0, 0.0,1/2.0, 1.0, 0.0, 0.0, 1/2.0],\n",
        " [0.0, 0.0, 0.0,0.0, 0.0,1/2.0, 0.0, 0.0]])\n",
        "N = 8\n",
        "x = np.array([1.0/N, 1.0/N, 1.0/N, 1.0/N, 1.0/N, 1.0/N, 1.0/N, 1.0/N])\n",
        "17\n",
        "for i in range(7):\n",
        " x = np.dot(A, x)\n",
        " print (i+1, x)"
      ],
      "metadata": {
        "colab": {
          "base_uri": "https://localhost:8080/"
        },
        "id": "fkq0dStpmMEI",
        "outputId": "a87016aa-c88d-4f1f-88a6-6073a620f646"
      },
      "execution_count": 19,
      "outputs": [
        {
          "output_type": "stream",
          "name": "stdout",
          "text": [
            "1 [0.0625     0.10416667 0.04166667 0.16666667 0.125      0.1875\n",
            " 0.25       0.0625    ]\n",
            "2 [0.02083333 0.04166667 0.02083333 0.09375    0.14583333 0.28125\n",
            " 0.23958333 0.09375   ]\n",
            "3 [0.01041667 0.01736111 0.00694444 0.03819444 0.16145833 0.28645833\n",
            " 0.23958333 0.140625  ]\n",
            "4 [0.00347222 0.00694444 0.00347222 0.015625   0.15190972 0.30989583\n",
            " 0.25086806 0.14322917]\n",
            "5 [0.00173611 0.00289352 0.00115741 0.00636574 0.15842014 0.32248264\n",
            " 0.23133681 0.15494792]\n",
            "6 [0.0005787  0.00115741 0.0005787  0.00260417 0.16268808 0.30881076\n",
            " 0.23907697 0.16124132]\n",
            "7 [2.89351852e-04 4.82253086e-04 1.92901235e-04 1.06095679e-03\n",
            " 1.54984086e-01 3.19697627e-01 2.44610822e-01 1.54405382e-01]\n"
          ]
        }
      ]
    },
    {
      "cell_type": "code",
      "source": [
        "d = 0.85\n",
        "N = 8\n",
        "x = np.array([1.0/N, 1.0/N, 1.0/N, 1.0/N, 1.0/N, 1.0/N, 1.0/N, 1.0/N])\n",
        "A = np.array([[0.0, 0.0, 1/2.0, 0.0, 0.0, 0.0, 0.0, 0.0],\n",
        " [1.0/3, 0.0, 1/2.0, 0.0, 0.0, 0.0, 0.0, 0.0],\n",
        " [1/3.0, 0.0, 0.0, 0.0, 0.0, 0.0, 0.0, 0.0],\n",
        " [1.0/3,1/2.0,1/2.0, 0.0, 0.0, 0.0, 0.0, 0.0],\n",
        " [0.0 ,1/2.0, 0.0, 0.0, 0.0,1/2.0, 0.0,0.0],\n",
        " [0.0, 0.0, 0.0,0.0, 0.0, 0.0, 1.0,1/2.0],\n",
        " [0.0, 0.0, 0.0,1/2.0, 1.0, 0.0, 0.0, 1/2.0],\n",
        " [0.0, 0.0, 0.0,0.0, 0.0,1/2.0, 0.0, 0.0]])\n",
        "M = d*A + ((1-d)/N)* np.ones([N,N])"
      ],
      "metadata": {
        "id": "ZUCrMJxQmTp4"
      },
      "execution_count": 21,
      "outputs": []
    },
    {
      "cell_type": "code",
      "source": [
        "for i in range(7):\n",
        " x = np.dot(A, x)\n",
        " print (i+1, x)"
      ],
      "metadata": {
        "colab": {
          "base_uri": "https://localhost:8080/"
        },
        "id": "9V1pPSdPmgwC",
        "outputId": "df967a2b-ba83-4506-aab1-4f40e59ad1cd"
      },
      "execution_count": 22,
      "outputs": [
        {
          "output_type": "stream",
          "name": "stdout",
          "text": [
            "1 [0.0625     0.10416667 0.04166667 0.16666667 0.125      0.1875\n",
            " 0.25       0.0625    ]\n",
            "2 [0.02083333 0.04166667 0.02083333 0.09375    0.14583333 0.28125\n",
            " 0.23958333 0.09375   ]\n",
            "3 [0.01041667 0.01736111 0.00694444 0.03819444 0.16145833 0.28645833\n",
            " 0.23958333 0.140625  ]\n",
            "4 [0.00347222 0.00694444 0.00347222 0.015625   0.15190972 0.30989583\n",
            " 0.25086806 0.14322917]\n",
            "5 [0.00173611 0.00289352 0.00115741 0.00636574 0.15842014 0.32248264\n",
            " 0.23133681 0.15494792]\n",
            "6 [0.0005787  0.00115741 0.0005787  0.00260417 0.16268808 0.30881076\n",
            " 0.23907697 0.16124132]\n",
            "7 [2.89351852e-04 4.82253086e-04 1.92901235e-04 1.06095679e-03\n",
            " 1.54984086e-01 3.19697627e-01 2.44610822e-01 1.54405382e-01]\n"
          ]
        }
      ]
    },
    {
      "cell_type": "markdown",
      "source": [
        "BÀI TẬP CHƯƠNG 7"
      ],
      "metadata": {
        "id": "ibgDOEOnmpDd"
      }
    },
    {
      "cell_type": "markdown",
      "source": [
        "Câu 1:"
      ],
      "metadata": {
        "id": "bvJX_5aWmq3J"
      }
    },
    {
      "cell_type": "code",
      "source": [
        "from PIL import Image, ImageDraw\n",
        "import numpy as np\n",
        "gauss_kernel = np.array([\n",
        "    [1,  4,  6,  4, 1],\n",
        "    [4, 16, 24, 16, 4],\n",
        "    [6, 24, 36, 24, 6],\n",
        "    [4, 16, 24, 16, 4],\n",
        "    [1,  4,  6,  4, 1]\n",
        "], dtype=np.float32) / 256\n",
        "\n",
        "kernel = gauss_kernel\n",
        "offset = len(kernel) // 2\n",
        "\n",
        "input_image = Image.open(\"python_logo_small.PNG\").convert(\"RGB\")\n",
        "input_pixels = input_image.load()\n",
        "\n",
        "output_image = Image.new(\"RGB\", input_image.size)\n",
        "draw = ImageDraw.Draw(output_image)\n",
        "\n",
        "for x in range(offset, input_image.width - offset):\n",
        "    for y in range(offset, input_image.height - offset):\n",
        "        acc = [0, 0, 0]\n",
        "        for a in range(len(kernel)):\n",
        "            for b in range(len(kernel)):\n",
        "                xn = x + a - offset\n",
        "                yn = y + b - offset\n",
        "                pixel = input_pixels[xn, yn]\n",
        "                acc[0] += pixel[0] * kernel[a][b]\n",
        "                acc[1] += pixel[1] * kernel[a][b]\n",
        "                acc[2] += pixel[2] * kernel[a][b]\n",
        "        draw.point((x, y), (int(acc[0]), int(acc[1]), int(acc[2])))\n",
        "\n",
        "output_image.save(\"python_logo_small_gauss_blur.PNG\")\n",
        "print(\"Image blurred with Gaussian kernel and saved as 'python_logo_small_gauss_blur.PNG'\")"
      ],
      "metadata": {
        "colab": {
          "base_uri": "https://localhost:8080/"
        },
        "id": "yHA31AN4mwsZ",
        "outputId": "a2c2a555-3da7-482b-8f5f-358f0b919a7b"
      },
      "execution_count": 29,
      "outputs": [
        {
          "output_type": "stream",
          "name": "stdout",
          "text": [
            "Image blurred with Gaussian kernel and saved as 'python_logo_small_gauss_blur.PNG'\n"
          ]
        }
      ]
    },
    {
      "cell_type": "markdown",
      "source": [
        "Câu 2:"
      ],
      "metadata": {
        "id": "YbeA3naTm5ky"
      }
    },
    {
      "cell_type": "markdown",
      "source": [
        "a. Kernel Sobel-like"
      ],
      "metadata": {
        "id": "-cQusoAznCl1"
      }
    },
    {
      "cell_type": "code",
      "source": [
        "from PIL import Image, ImageDraw\n",
        "import numpy as np\n",
        "\n",
        "kernel = np.array([\n",
        "    [ 0, -1,  0],\n",
        "    [-1,  4, -1],\n",
        "    [ 0, -1,  0]\n",
        "], dtype=np.float32)\n",
        "\n",
        "offset = len(kernel) // 2\n",
        "input_image = Image.open(\"python_logo_small.PNG\").convert(\"L\")\n",
        "input_pixels = input_image.load()\n",
        "\n",
        "output_image = Image.new(\"L\", input_image.size)\n",
        "draw = ImageDraw.Draw(output_image)\n",
        "\n",
        "for x in range(offset, input_image.width - offset):\n",
        "    for y in range(offset, input_image.height - offset):\n",
        "        acc = 0\n",
        "        for a in range(len(kernel)):\n",
        "            for b in range(len(kernel)):\n",
        "                xn = x + a - offset\n",
        "                yn = y + b - offset\n",
        "                acc += input_pixels[xn, yn] * kernel[a][b]\n",
        "        draw.point((x, y), int(min(max(acc, 0), 255)))\n",
        "\n",
        "output_image.save(\"python_logo_small_edge_a.PNG\")\n",
        "print(\"Image processed with edge detection kernel and saved as 'python_logo_small_edge_a.PNG'\")"
      ],
      "metadata": {
        "colab": {
          "base_uri": "https://localhost:8080/"
        },
        "id": "bVRuz2J7m67A",
        "outputId": "73f10717-19d7-4fc2-a6c8-434ad54777bd"
      },
      "execution_count": 30,
      "outputs": [
        {
          "output_type": "stream",
          "name": "stdout",
          "text": [
            "Image processed with edge detection kernel and saved as 'python_logo_small_edge_a.PNG'\n"
          ]
        }
      ]
    },
    {
      "cell_type": "markdown",
      "source": [
        "b. Kernel Laplacian-like"
      ],
      "metadata": {
        "id": "h-Ra3BiWnDeJ"
      }
    },
    {
      "cell_type": "code",
      "source": [
        "kernel = np.array([\n",
        "    [-1, -1, -1],\n",
        "    [-1,  8, -1],\n",
        "    [-1, -1, -1]\n",
        "], dtype=np.float32)\n"
      ],
      "metadata": {
        "id": "8aDsgqfMnKSZ"
      },
      "execution_count": 31,
      "outputs": []
    }
  ]
}