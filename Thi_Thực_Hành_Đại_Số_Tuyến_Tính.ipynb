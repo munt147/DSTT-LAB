{
  "nbformat": 4,
  "nbformat_minor": 0,
  "metadata": {
    "colab": {
      "provenance": []
    },
    "kernelspec": {
      "name": "python3",
      "display_name": "Python 3"
    },
    "language_info": {
      "name": "python"
    }
  },
  "cells": [
    {
      "cell_type": "markdown",
      "source": [
        "Đề Thi Thực Hành Đại Số Tuyến Tính"
      ],
      "metadata": {
        "id": "B_n95c8ooWPi"
      }
    },
    {
      "cell_type": "markdown",
      "source": [
        "Câu 1: Phép toán cơ bản trên vector và ma trận (15 điểm)"
      ],
      "metadata": {
        "id": "2rbXfvFpnE6S"
      }
    },
    {
      "cell_type": "code",
      "execution_count": 1,
      "metadata": {
        "colab": {
          "base_uri": "https://localhost:8080/"
        },
        "id": "DARYPJgrmUeO",
        "outputId": "59f76ac7-1935-4bdf-ddbc-ca7492ca38f1"
      },
      "outputs": [
        {
          "output_type": "stream",
          "name": "stdout",
          "text": [
            "a)\n",
            "A + B = [2 3 1 6]\n",
            "2A + 3B = [ 3 11  2 14]\n",
            "\n",
            "b)\n",
            "A · B = -5\n",
            "Góc giữa A và B (độ) ≈ 99.594\n",
            "\n",
            "c)\n",
            "Ma trận CC^T =\n",
            "[[14 -8 13]\n",
            " [-8 21 -2]\n",
            " [13 -2 29]]\n"
          ]
        }
      ],
      "source": [
        "import numpy as np\n",
        "from math import acos, degrees\n",
        "A = np.array([3, -2, 1, 4])\n",
        "B = np.array([-1, 5, 0, 2])\n",
        "C = np.array([[2, -1, 3],\n",
        "              [1, 4, -2],\n",
        "              [0, 2, 5]])\n",
        "sum_AB = A + B\n",
        "linear_combo = 2 * A + 3 * B\n",
        "print(\"a)\")\n",
        "print(\"A + B =\", sum_AB)\n",
        "print(\"2A + 3B =\", linear_combo)\n",
        "dot_product = np.dot(A, B)\n",
        "norm_A = np.linalg.norm(A)\n",
        "norm_B = np.linalg.norm(B)\n",
        "cos_theta = dot_product / (norm_A * norm_B)\n",
        "angle_deg = degrees(acos(cos_theta))\n",
        "print(\"\\nb)\")\n",
        "print(\"A · B =\", dot_product)\n",
        "print(\"Góc giữa A và B (độ) ≈\", round(angle_deg, 3))\n",
        "CCT = C @ C.T\n",
        "print(\"\\nc)\")\n",
        "print(\"Ma trận CC^T =\")\n",
        "print(CCT)"
      ]
    },
    {
      "cell_type": "markdown",
      "source": [
        "Câu 2: Nhân ma trận, định thức và hạng ma trận (20 điểm)"
      ],
      "metadata": {
        "id": "aYPj432onR6e"
      }
    },
    {
      "cell_type": "code",
      "source": [
        "import numpy as np\n",
        "M = np.array([[2, -1, 3, 0],\n",
        "              [1, 4, -2, 5],\n",
        "              [0, 2, 6, -3],\n",
        "              [-1, 0, 1, 4]])\n",
        "N = np.array([[1, 3, -2, 0],\n",
        "              [4, -1, 5, 2],\n",
        "              [0, 2, 3, -1],\n",
        "              [-3, 1, 0, 4]])\n",
        "MN = M @ N\n",
        "print(\"a)\")\n",
        "print(\"M × N =\")\n",
        "print(MN)\n",
        "try:\n",
        "    det_M = np.linalg.det(M)\n",
        "    print(\"\\nb)\")\n",
        "    print(\"Định thức của M =\", round(det_M, 3))\n",
        "except np.linalg.LinAlgError:\n",
        "    print(\"\\nb)\")\n",
        "    print(\"Không thể tính định thức của M (ma trận không vuông)\")\n",
        "rank_N = np.linalg.matrix_rank(N)\n",
        "print(\"\\nc)\")\n",
        "print(\"Hạng của ma trận N =\", rank_N)"
      ],
      "metadata": {
        "colab": {
          "base_uri": "https://localhost:8080/"
        },
        "id": "KBPf4tmunWaa",
        "outputId": "40a67c89-e2df-4529-f699-c6dfc2ac3dfb"
      },
      "execution_count": 2,
      "outputs": [
        {
          "output_type": "stream",
          "name": "stdout",
          "text": [
            "a)\n",
            "M × N =\n",
            "[[ -2  13   0  -5]\n",
            " [  2   0  12  30]\n",
            " [ 17   7  28 -14]\n",
            " [-13   3   5  15]]\n",
            "\n",
            "b)\n",
            "Định thức của M = 409.0\n",
            "\n",
            "c)\n",
            "Hạng của ma trận N = 4\n"
          ]
        }
      ]
    },
    {
      "cell_type": "markdown",
      "source": [
        "Câu 3: Nghịch đảo ma trận và giải hệ phương trình (25 điểm)"
      ],
      "metadata": {
        "id": "K2cXHgrnneQ7"
      }
    },
    {
      "cell_type": "code",
      "source": [
        "import numpy as np\n",
        "P = np.array([[3, -1, 0, 2],\n",
        "              [1, 4, -2, 0],\n",
        "              [0, 1, 5, -1],\n",
        "              [2, 0, 1, 3]])\n",
        "b = np.array([6, 8, 3, 7])\n",
        "try:\n",
        "    P_inv = np.linalg.inv(P)\n",
        "    print(\"a)\")\n",
        "    print(\"Nghịch đảo của P:\")\n",
        "    print(np.round(P_inv, 3))\n",
        "except np.linalg.LinAlgError:\n",
        "    print(\"a)\")\n",
        "    print(\"Ma trận P không khả nghịch.\")\n",
        "x = P_inv @ b\n",
        "print(\"\\nb)\")\n",
        "print(\"Nghiệm của hệ phương trình:\")\n",
        "print(np.round(x, 3))\n",
        "check = P @ x\n",
        "print(\"\\nc)\")\n",
        "print(\"P @ x =\")\n",
        "print(np.round(check, 3))\n",
        "print(\"So với vector hằng số b:\")\n",
        "print(b)"
      ],
      "metadata": {
        "colab": {
          "base_uri": "https://localhost:8080/"
        },
        "id": "J5YGPsh6njSe",
        "outputId": "f5ec94a8-39e3-45c0-aad5-875545ac695b"
      },
      "execution_count": 3,
      "outputs": [
        {
          "output_type": "stream",
          "name": "stdout",
          "text": [
            "a)\n",
            "Nghịch đảo của P:\n",
            "[[ 0.5    0.1    0.1   -0.3  ]\n",
            " [-0.143  0.2    0.057  0.114]\n",
            " [-0.036 -0.05   0.164  0.079]\n",
            " [-0.321 -0.05  -0.121  0.507]]\n",
            "\n",
            "b)\n",
            "Nghiệm của hệ phương trình:\n",
            "[2.    1.714 0.429 0.857]\n",
            "\n",
            "c)\n",
            "P @ x =\n",
            "[6. 8. 3. 7.]\n",
            "So với vector hằng số b:\n",
            "[6 8 3 7]\n"
          ]
        }
      ]
    },
    {
      "cell_type": "markdown",
      "source": [
        "Câu 4: Giá trị riêng, vector riêng và chuẩn hóa (20 điểm)"
      ],
      "metadata": {
        "id": "t82W_R3NnpJj"
      }
    },
    {
      "cell_type": "code",
      "source": [
        "import numpy as np\n",
        "Q = np.array([[5, -2, 1],\n",
        "              [0, 3, -1],\n",
        "              [2, 0, 4]])\n",
        "eigvals, eigvecs = np.linalg.eig(Q)\n",
        "print(\"a)\")\n",
        "print(\"Giá trị riêng:\")\n",
        "print(np.round(eigvals, 3))\n",
        "print(\"\\nb)\")\n",
        "print(\"Vector riêng ứng với các giá trị riêng (cột là từng vector):\")\n",
        "print(np.round(eigvecs, 3))\n",
        "norm_vecs = eigvecs / np.linalg.norm(eigvecs, axis=0)\n",
        "print(\"\\nc)\")\n",
        "print(\"Vector riêng sau khi chuẩn hóa (mỗi vector có độ dài = 1):\")\n",
        "print(np.round(norm_vecs, 3))"
      ],
      "metadata": {
        "colab": {
          "base_uri": "https://localhost:8080/"
        },
        "id": "F9Oe04Sqnzww",
        "outputId": "8457fe40-b166-4df0-b23c-c01cb37e89b3"
      },
      "execution_count": 7,
      "outputs": [
        {
          "output_type": "stream",
          "name": "stdout",
          "text": [
            "a)\n",
            "Giá trị riêng:\n",
            "[6.355+0.j    2.822+1.077j 2.822-1.077j]\n",
            "\n",
            "b)\n",
            "Vector riêng ứng với các giá trị riêng (cột là từng vector):\n",
            "[[ 0.748+0.j    -0.374+0.342j -0.374-0.342j]\n",
            " [-0.189+0.j     0.095+0.574j  0.095-0.574j]\n",
            " [ 0.636+0.j     0.636+0.j     0.636-0.j   ]]\n",
            "\n",
            "c)\n",
            "Vector riêng sau khi chuẩn hóa (mỗi vector có độ dài = 1):\n",
            "[[ 0.748+0.j    -0.374+0.342j -0.374-0.342j]\n",
            " [-0.189+0.j     0.095+0.574j  0.095-0.574j]\n",
            " [ 0.636+0.j     0.636+0.j     0.636-0.j   ]]\n"
          ]
        }
      ]
    },
    {
      "cell_type": "markdown",
      "source": [
        "Câu 5: Ứng dụng thực tế - Hệ phương trình và phân tích (20\n",
        "điểm)"
      ],
      "metadata": {
        "id": "VzbQ4Gl1n3fF"
      }
    },
    {
      "cell_type": "code",
      "source": [
        "import numpy as np\n",
        "R = np.array([[4, -1, 2],\n",
        "              [1, 3, -2],\n",
        "              [0, 2, 5]])\n",
        "b = np.array([12, 5, 9])\n",
        "z = np.linalg.solve(R, b)\n",
        "print(\"a)\")\n",
        "print(\"Nghiệm z của phương trình Rz = b:\")\n",
        "print(np.round(z, 3))\n",
        "try:\n",
        "    R_inv = np.linalg.inv(R)\n",
        "    z_check = R_inv @ b\n",
        "    print(\"\\nb)\")\n",
        "    print(\"Ma trận nghịch đảo của R:\")\n",
        "    print(np.round(R_inv, 3))\n",
        "    print(\"Nghiệm tính lại bằng R⁻¹ · b:\")\n",
        "    print(np.round(z_check, 3))\n",
        "except np.linalg.LinAlgError:\n",
        "    print(\"\\nb)\")\n",
        "    print(\"Ma trận R không khả nghịch.\")\n",
        "fro_norm = np.linalg.norm(R, ord='fro')\n",
        "print(\"\\nc)\")\n",
        "print(\"Chuẩn Frobenius của ma trận R =\", round(fro_norm, 3))"
      ],
      "metadata": {
        "colab": {
          "base_uri": "https://localhost:8080/"
        },
        "id": "caqeTR6Yn4ao",
        "outputId": "ab2a6f3b-aac3-4444-da98-e5e0a8f7a7b0"
      },
      "execution_count": 6,
      "outputs": [
        {
          "output_type": "stream",
          "name": "stdout",
          "text": [
            "a)\n",
            "Nghiệm z của phương trình Rz = b:\n",
            "[2.788 1.529 1.188]\n",
            "\n",
            "b)\n",
            "Ma trận nghịch đảo của R:\n",
            "[[ 0.224  0.106 -0.047]\n",
            " [-0.059  0.235  0.118]\n",
            " [ 0.024 -0.094  0.153]]\n",
            "Nghiệm tính lại bằng R⁻¹ · b:\n",
            "[2.788 1.529 1.188]\n",
            "\n",
            "c)\n",
            "Chuẩn Frobenius của ma trận R = 8.0\n"
          ]
        }
      ]
    }
  ]
}