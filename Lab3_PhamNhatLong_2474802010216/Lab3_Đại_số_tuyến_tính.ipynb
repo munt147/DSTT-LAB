{
  "nbformat": 4,
  "nbformat_minor": 0,
  "metadata": {
    "colab": {
      "provenance": []
    },
    "kernelspec": {
      "name": "python3",
      "display_name": "Python 3"
    },
    "language_info": {
      "name": "python"
    }
  },
  "cells": [
    {
      "cell_type": "markdown",
      "source": [
        "1. Tóm tắt một số phép xử lý ma trận của NumPy và Scipy"
      ],
      "metadata": {
        "id": "aDu5_6e564QZ"
      }
    },
    {
      "cell_type": "markdown",
      "source": [
        "1.1. Một số phép xử lý ma trận của NumPy và Scipy"
      ],
      "metadata": {
        "id": "OT-NgQWS659s"
      }
    },
    {
      "cell_type": "code",
      "execution_count": 13,
      "metadata": {
        "id": "9g-J9jC26Zm-"
      },
      "outputs": [],
      "source": [
        "from scipy import linalg\n",
        "import numpy as np\n",
        "a = np.array([1, 2, 3])\n",
        "b = np.array([(1+9j, 2j, 3j), (4j, 5j, 6j)])\n",
        "c = np.array([[(0.5, 1.5, 10), (3, 2, 1)], [(6, 5, 4), (7, 8, 9)]])"
      ]
    },
    {
      "cell_type": "markdown",
      "source": [
        "Các kiểu khai báo và khởi tạo ma trận:"
      ],
      "metadata": {
        "id": "mFwgx2mp7_Uv"
      }
    },
    {
      "cell_type": "code",
      "source": [
        "A = np.matrix(np.random.random((2, 2)))\n",
        "B = np.asmatrix(b)\n",
        "C = np.asmatrix(np.random.random((10, 5)))\n",
        "D = np.asmatrix([[4, 3], [2, 6]])\n",
        "F = np.eye(3, k=1)"
      ],
      "metadata": {
        "id": "LnKZPofW73pA"
      },
      "execution_count": 14,
      "outputs": []
    },
    {
      "cell_type": "code",
      "source": [
        "F = np.eye(3, k=0)"
      ],
      "metadata": {
        "id": "H3TH34M37EOA"
      },
      "execution_count": 4,
      "outputs": []
    },
    {
      "cell_type": "code",
      "source": [
        "F = np.eye(3, k=-1)"
      ],
      "metadata": {
        "id": "CI68W9ui7HFM"
      },
      "execution_count": 5,
      "outputs": []
    },
    {
      "cell_type": "markdown",
      "source": [
        "Các phép xử lý đơn giản"
      ],
      "metadata": {
        "id": "LO2clby87sTX"
      }
    },
    {
      "cell_type": "code",
      "source": [
        "np.linalg.matrix_rank(C)"
      ],
      "metadata": {
        "colab": {
          "base_uri": "https://localhost:8080/"
        },
        "id": "7U4uSG3R7Lz8",
        "outputId": "a15732ef-6c1e-48e4-ec3d-0f2b86195bd3"
      },
      "execution_count": 6,
      "outputs": [
        {
          "output_type": "execute_result",
          "data": {
            "text/plain": [
              "np.int64(5)"
            ]
          },
          "metadata": {},
          "execution_count": 6
        }
      ]
    },
    {
      "cell_type": "code",
      "source": [
        "A.I"
      ],
      "metadata": {
        "colab": {
          "base_uri": "https://localhost:8080/"
        },
        "id": "fvGSmEJP7PWg",
        "outputId": "4d1c19fb-a4b9-43b2-c1a5-d66b438bb79b"
      },
      "execution_count": 7,
      "outputs": [
        {
          "output_type": "execute_result",
          "data": {
            "text/plain": [
              "matrix([[ 12.02645042, -24.45778215],\n",
              "        [ -6.9314425 ,  17.47563565]])"
            ]
          },
          "metadata": {},
          "execution_count": 7
        }
      ]
    },
    {
      "cell_type": "code",
      "source": [
        "linalg.inv(A)"
      ],
      "metadata": {
        "colab": {
          "base_uri": "https://localhost:8080/"
        },
        "id": "kwBbtw657QvY",
        "outputId": "7c71ceb6-a362-49f5-9d42-354a78148991"
      },
      "execution_count": 8,
      "outputs": [
        {
          "output_type": "execute_result",
          "data": {
            "text/plain": [
              "array([[ 12.02645042, -24.45778215],\n",
              "       [ -6.9314425 ,  17.47563565]])"
            ]
          },
          "metadata": {},
          "execution_count": 8
        }
      ]
    },
    {
      "cell_type": "code",
      "source": [
        " linalg.det(A)"
      ],
      "metadata": {
        "colab": {
          "base_uri": "https://localhost:8080/"
        },
        "id": "oHp-fmco7UVr",
        "outputId": "07c9dea5-38e9-46e9-ee15-00757eb89923"
      },
      "execution_count": 9,
      "outputs": [
        {
          "output_type": "execute_result",
          "data": {
            "text/plain": [
              "np.float64(0.024604994417262258)"
            ]
          },
          "metadata": {},
          "execution_count": 9
        }
      ]
    },
    {
      "cell_type": "code",
      "source": [
        "A.T"
      ],
      "metadata": {
        "colab": {
          "base_uri": "https://localhost:8080/"
        },
        "id": "umHU0ZbO7WDU",
        "outputId": "56c9ca69-81d1-4112-acc0-b7d388c01365"
      },
      "execution_count": 10,
      "outputs": [
        {
          "output_type": "execute_result",
          "data": {
            "text/plain": [
              "matrix([[0.42998792, 0.1705481 ],\n",
              "        [0.60178359, 0.29591075]])"
            ]
          },
          "metadata": {},
          "execution_count": 10
        }
      ]
    },
    {
      "cell_type": "code",
      "source": [
        "A.H"
      ],
      "metadata": {
        "colab": {
          "base_uri": "https://localhost:8080/"
        },
        "id": "pYl9LqFq7Xqr",
        "outputId": "0ef06cc2-df6c-40d9-d474-fb52e812e9aa"
      },
      "execution_count": 11,
      "outputs": [
        {
          "output_type": "execute_result",
          "data": {
            "text/plain": [
              "matrix([[0.42998792, 0.1705481 ],\n",
              "        [0.60178359, 0.29591075]])"
            ]
          },
          "metadata": {},
          "execution_count": 11
        }
      ]
    },
    {
      "cell_type": "markdown",
      "source": [
        "Giải các loại phương trình tuyến tính:"
      ],
      "metadata": {
        "id": "w_hPLjep7uqw"
      }
    },
    {
      "cell_type": "code",
      "source": [
        "linalg.solve(A, b)"
      ],
      "metadata": {
        "colab": {
          "base_uri": "https://localhost:8080/"
        },
        "id": "ZH-Y7sEI7wsR",
        "outputId": "e9d64984-49ff-457f-bbc2-02d5e144d006"
      },
      "execution_count": 12,
      "outputs": [
        {
          "output_type": "execute_result",
          "data": {
            "text/plain": [
              "array([[12.02645042 +10.4069252j ,  0.         -98.2360099j ,\n",
              "         0.        -110.66734163j],\n",
              "       [-6.9314425   +7.51956012j,  0.         +73.51529325j,\n",
              "         0.         +84.0594864j ]])"
            ]
          },
          "metadata": {},
          "execution_count": 12
        }
      ]
    },
    {
      "cell_type": "code",
      "source": [
        "E = np.asmatrix(a).T"
      ],
      "metadata": {
        "id": "g4iW7Yx58EFw"
      },
      "execution_count": 17,
      "outputs": []
    },
    {
      "cell_type": "code",
      "source": [
        "linalg.lstsq(F, E)"
      ],
      "metadata": {
        "colab": {
          "base_uri": "https://localhost:8080/"
        },
        "id": "chtsB3J38LcT",
        "outputId": "4d955b38-c66c-4257-c20c-8e6c63ab9460"
      },
      "execution_count": 18,
      "outputs": [
        {
          "output_type": "execute_result",
          "data": {
            "text/plain": [
              "(array([[0.],\n",
              "        [1.],\n",
              "        [2.]]),\n",
              " array([], dtype=float64),\n",
              " 2,\n",
              " array([1., 1., 0.]))"
            ]
          },
          "metadata": {},
          "execution_count": 18
        }
      ]
    },
    {
      "cell_type": "markdown",
      "source": [
        "Các hàm trên ma trận"
      ],
      "metadata": {
        "id": "LLwmJCcb8NHk"
      }
    },
    {
      "cell_type": "code",
      "source": [
        "np.add(A, D)"
      ],
      "metadata": {
        "colab": {
          "base_uri": "https://localhost:8080/"
        },
        "id": "WLrUycE08OYF",
        "outputId": "faf4a95a-fa56-4c3b-8075-5b3ac45ab8aa"
      },
      "execution_count": 19,
      "outputs": [
        {
          "output_type": "execute_result",
          "data": {
            "text/plain": [
              "matrix([[4.5740922 , 3.79059254],\n",
              "        [2.51083478, 6.04468695]])"
            ]
          },
          "metadata": {},
          "execution_count": 19
        }
      ]
    },
    {
      "cell_type": "code",
      "source": [
        "np.subtract(A, D)"
      ],
      "metadata": {
        "colab": {
          "base_uri": "https://localhost:8080/"
        },
        "id": "TPVxZHNC8Qh8",
        "outputId": "c0f342a3-3848-454e-9893-c3e8386dc24f"
      },
      "execution_count": 20,
      "outputs": [
        {
          "output_type": "execute_result",
          "data": {
            "text/plain": [
              "matrix([[-3.4259078 , -2.20940746],\n",
              "        [-1.48916522, -5.95531305]])"
            ]
          },
          "metadata": {},
          "execution_count": 20
        }
      ]
    },
    {
      "cell_type": "code",
      "source": [
        "np.divide(A, D)"
      ],
      "metadata": {
        "colab": {
          "base_uri": "https://localhost:8080/"
        },
        "id": "XRVO7ere8Sg-",
        "outputId": "603a413f-09d1-4b93-9102-75cbb2a1bd13"
      },
      "execution_count": 21,
      "outputs": [
        {
          "output_type": "execute_result",
          "data": {
            "text/plain": [
              "matrix([[0.14352305, 0.26353085],\n",
              "        [0.25541739, 0.00744782]])"
            ]
          },
          "metadata": {},
          "execution_count": 21
        }
      ]
    },
    {
      "cell_type": "code",
      "source": [
        "A @ D"
      ],
      "metadata": {
        "colab": {
          "base_uri": "https://localhost:8080/"
        },
        "id": "ulnBjeyZ8VtX",
        "outputId": "0bd3e540-a62c-4d7f-af7b-b5e4ce0e0c21"
      },
      "execution_count": 22,
      "outputs": [
        {
          "output_type": "execute_result",
          "data": {
            "text/plain": [
              "matrix([[3.87755388, 6.46583186],\n",
              "        [2.13271302, 1.80062604]])"
            ]
          },
          "metadata": {},
          "execution_count": 22
        }
      ]
    },
    {
      "cell_type": "code",
      "source": [
        "np.multiply(D, A)"
      ],
      "metadata": {
        "colab": {
          "base_uri": "https://localhost:8080/"
        },
        "id": "uPI9wyuV8WVM",
        "outputId": "90f06d6a-a3c1-4b81-ea4d-ba07a62a8e5e"
      },
      "execution_count": 23,
      "outputs": [
        {
          "output_type": "execute_result",
          "data": {
            "text/plain": [
              "matrix([[2.29636879, 2.37177763],\n",
              "        [1.02166956, 0.2681217 ]])"
            ]
          },
          "metadata": {},
          "execution_count": 23
        }
      ]
    },
    {
      "cell_type": "code",
      "source": [
        "np.dot(A, D)"
      ],
      "metadata": {
        "colab": {
          "base_uri": "https://localhost:8080/"
        },
        "id": "ejqqqnUf8X7n",
        "outputId": "cbe530cf-ef0e-4405-9c64-fc00ad142638"
      },
      "execution_count": 24,
      "outputs": [
        {
          "output_type": "execute_result",
          "data": {
            "text/plain": [
              "matrix([[3.87755388, 6.46583186],\n",
              "        [2.13271302, 1.80062604]])"
            ]
          },
          "metadata": {},
          "execution_count": 24
        }
      ]
    },
    {
      "cell_type": "code",
      "source": [
        "np.vdot(A, D)"
      ],
      "metadata": {
        "colab": {
          "base_uri": "https://localhost:8080/"
        },
        "id": "G-38bwks8afQ",
        "outputId": "e50e49b4-59f4-42d7-ca16-ec793b43ba0e"
      },
      "execution_count": 25,
      "outputs": [
        {
          "output_type": "execute_result",
          "data": {
            "text/plain": [
              "matrix([[2.29636879]])"
            ]
          },
          "metadata": {},
          "execution_count": 25
        }
      ]
    },
    {
      "cell_type": "markdown",
      "source": [
        "Hàm lũy thừa và logarith ma trận:"
      ],
      "metadata": {
        "id": "CPh8OmqG8cDs"
      }
    },
    {
      "cell_type": "code",
      "source": [
        "linalg.expm(A)"
      ],
      "metadata": {
        "colab": {
          "base_uri": "https://localhost:8080/"
        },
        "id": "oCA69aZ98cam",
        "outputId": "b4c75557-6c83-4b61-c36d-02f2ec0663eb"
      },
      "execution_count": 26,
      "outputs": [
        {
          "output_type": "execute_result",
          "data": {
            "text/plain": [
              "array([[2.08828941, 1.16438578],\n",
              "       [0.75235816, 1.30858064]])"
            ]
          },
          "metadata": {},
          "execution_count": 26
        }
      ]
    },
    {
      "cell_type": "code",
      "source": [
        "linalg.logm(A)"
      ],
      "metadata": {
        "colab": {
          "base_uri": "https://localhost:8080/"
        },
        "id": "T81JKQo68fTq",
        "outputId": "80e17356-9ccd-4d7a-c96a-53b6e9807c53"
      },
      "execution_count": 27,
      "outputs": [
        {
          "output_type": "execute_result",
          "data": {
            "text/plain": [
              "array([[-0.30006782+0.96681824j,  0.55579274-1.80391327j],\n",
              "       [ 0.35912084-1.16558352j, -0.67224384+2.17477442j]])"
            ]
          },
          "metadata": {},
          "execution_count": 27
        }
      ]
    },
    {
      "cell_type": "markdown",
      "source": [
        "2. Tích (nhân) ma trận với ma trận"
      ],
      "metadata": {
        "id": "JnVlWrVc87c7"
      }
    },
    {
      "cell_type": "markdown",
      "source": [
        "2.1. Nhân ma trận"
      ],
      "metadata": {
        "id": "YRexxSeS889r"
      }
    },
    {
      "cell_type": "markdown",
      "source": [
        "2.2. Ma trận khả nghịch"
      ],
      "metadata": {
        "id": "MTc_9LiQ877V"
      }
    },
    {
      "cell_type": "markdown",
      "source": [
        "2.3. Ma trận hội tụ"
      ],
      "metadata": {
        "id": "OFjsmXhw9AO0"
      }
    },
    {
      "cell_type": "markdown",
      "source": [
        "Ma trận phân kỳ:"
      ],
      "metadata": {
        "id": "lW2zS1oW9DNC"
      }
    },
    {
      "cell_type": "code",
      "source": [
        "import numpy as np\n",
        "A = np.array([ [0,1], [1,0]])\n",
        "print(A)"
      ],
      "metadata": {
        "colab": {
          "base_uri": "https://localhost:8080/"
        },
        "id": "stFCjY879CsQ",
        "outputId": "8509ffc3-d5c0-4db7-8272-7b7b136c0144"
      },
      "execution_count": 28,
      "outputs": [
        {
          "output_type": "stream",
          "name": "stdout",
          "text": [
            "[[0 1]\n",
            " [1 0]]\n"
          ]
        }
      ]
    },
    {
      "cell_type": "code",
      "source": [
        " temp = A.dot(A)\n",
        " print(temp)"
      ],
      "metadata": {
        "colab": {
          "base_uri": "https://localhost:8080/"
        },
        "id": "PLVH_4cG9CGr",
        "outputId": "86f37248-a336-4d2a-fc2f-7d9f4c0c9e08"
      },
      "execution_count": 29,
      "outputs": [
        {
          "output_type": "stream",
          "name": "stdout",
          "text": [
            "[[1 0]\n",
            " [0 1]]\n"
          ]
        }
      ]
    },
    {
      "cell_type": "code",
      "source": [
        "k= 6\n",
        "for i in range(k-1):\n",
        "  temp = temp.dot(A)\n",
        "  print (temp)\n",
        "  print('---')"
      ],
      "metadata": {
        "colab": {
          "base_uri": "https://localhost:8080/"
        },
        "id": "vlhK_ae39Q4W",
        "outputId": "f26366a3-efc6-43ff-a8c9-bf4d43eeee41"
      },
      "execution_count": 30,
      "outputs": [
        {
          "output_type": "stream",
          "name": "stdout",
          "text": [
            "[[0 1]\n",
            " [1 0]]\n",
            "---\n",
            "[[1 0]\n",
            " [0 1]]\n",
            "---\n",
            "[[0 1]\n",
            " [1 0]]\n",
            "---\n",
            "[[1 0]\n",
            " [0 1]]\n",
            "---\n",
            "[[0 1]\n",
            " [1 0]]\n",
            "---\n"
          ]
        }
      ]
    },
    {
      "cell_type": "code",
      "source": [
        " B = np.array([ [0,-1], [-1,0]])\n",
        " print(B)"
      ],
      "metadata": {
        "colab": {
          "base_uri": "https://localhost:8080/"
        },
        "id": "KHcf0Q7V9aID",
        "outputId": "e9b6a1e9-2180-4144-fbda-6036a2dba485"
      },
      "execution_count": 31,
      "outputs": [
        {
          "output_type": "stream",
          "name": "stdout",
          "text": [
            "[[ 0 -1]\n",
            " [-1  0]]\n"
          ]
        }
      ]
    },
    {
      "cell_type": "code",
      "source": [
        "temp = B.dot(B)"
      ],
      "metadata": {
        "id": "taXd_ws39fYp"
      },
      "execution_count": null,
      "outputs": []
    },
    {
      "cell_type": "code",
      "source": [
        " print(temp)"
      ],
      "metadata": {
        "colab": {
          "base_uri": "https://localhost:8080/"
        },
        "id": "m6OkfZza9gpl",
        "outputId": "d4aaadcd-4fb9-49cf-8cff-3a33956dab62"
      },
      "execution_count": 32,
      "outputs": [
        {
          "output_type": "stream",
          "name": "stdout",
          "text": [
            "[[0 1]\n",
            " [1 0]]\n"
          ]
        }
      ]
    },
    {
      "cell_type": "code",
      "source": [
        "k= 5\n",
        "for i in range(k-1):\n",
        "  temp = temp.dot(B)\n",
        "  print (temp)\n",
        "  print('---')"
      ],
      "metadata": {
        "colab": {
          "base_uri": "https://localhost:8080/"
        },
        "id": "8PWqOnWV9ier",
        "outputId": "e461fbf2-04a9-44af-eba0-2f3884b2eaa0"
      },
      "execution_count": 33,
      "outputs": [
        {
          "output_type": "stream",
          "name": "stdout",
          "text": [
            "[[-1  0]\n",
            " [ 0 -1]]\n",
            "---\n",
            "[[0 1]\n",
            " [1 0]]\n",
            "---\n",
            "[[-1  0]\n",
            " [ 0 -1]]\n",
            "---\n",
            "[[0 1]\n",
            " [1 0]]\n",
            "---\n"
          ]
        }
      ]
    },
    {
      "cell_type": "markdown",
      "source": [
        "Ma trận hội tụ - Convergent matrix:"
      ],
      "metadata": {
        "id": "VX1ENEsa9tFd"
      }
    },
    {
      "cell_type": "code",
      "source": [
        "C = np.array([ [1, 0, 0], [0, 0.5, 1], [0, 0, 0.5] ])\n",
        "print(C)"
      ],
      "metadata": {
        "colab": {
          "base_uri": "https://localhost:8080/"
        },
        "id": "-NGrZzJG9urL",
        "outputId": "3c3c9bfb-f0d6-4cb6-be3d-af16e0ee1b2a"
      },
      "execution_count": 34,
      "outputs": [
        {
          "output_type": "stream",
          "name": "stdout",
          "text": [
            "[[1.  0.  0. ]\n",
            " [0.  0.5 1. ]\n",
            " [0.  0.  0.5]]\n"
          ]
        }
      ]
    },
    {
      "cell_type": "code",
      "source": [
        "temp = C.dot(C)\n",
        "print(temp)"
      ],
      "metadata": {
        "colab": {
          "base_uri": "https://localhost:8080/"
        },
        "id": "AD4nYRCn9xgt",
        "outputId": "29c954e4-4020-4e19-8d4e-537a74625935"
      },
      "execution_count": 35,
      "outputs": [
        {
          "output_type": "stream",
          "name": "stdout",
          "text": [
            "[[1.   0.   0.  ]\n",
            " [0.   0.25 1.  ]\n",
            " [0.   0.   0.25]]\n"
          ]
        }
      ]
    },
    {
      "cell_type": "code",
      "source": [
        "k= 1000\n",
        "for i in range(k-1):\n",
        "  temp = temp.dot(C)\n",
        "print(temp)"
      ],
      "metadata": {
        "colab": {
          "base_uri": "https://localhost:8080/"
        },
        "id": "qSh7zsVR92me",
        "outputId": "49db84f0-0ef7-46ad-e6bf-498e776e4e22"
      },
      "execution_count": 36,
      "outputs": [
        {
          "output_type": "stream",
          "name": "stdout",
          "text": [
            "[[1.00000000e+000 0.00000000e+000 0.00000000e+000]\n",
            " [0.00000000e+000 4.66631809e-302 9.34196882e-299]\n",
            " [0.00000000e+000 0.00000000e+000 4.66631809e-302]]\n"
          ]
        }
      ]
    },
    {
      "cell_type": "code",
      "source": [
        "k= 1000\n",
        "for i in range(k-1):\n",
        " temp = temp.dot(C)\n",
        "print(temp)"
      ],
      "metadata": {
        "colab": {
          "base_uri": "https://localhost:8080/"
        },
        "id": "OrbS1diU9720",
        "outputId": "0ed6c20e-59e1-419e-9108-64739b9b2bde"
      },
      "execution_count": 37,
      "outputs": [
        {
          "output_type": "stream",
          "name": "stdout",
          "text": [
            "[[1. 0. 0.]\n",
            " [0. 0. 0.]\n",
            " [0. 0. 0.]]\n"
          ]
        }
      ]
    },
    {
      "cell_type": "markdown",
      "source": [
        "2.4. Ma trận Markov"
      ],
      "metadata": {
        "id": "Pq23fLD0-CCs"
      }
    },
    {
      "cell_type": "code",
      "source": [
        "M = np.array([ [0.8, 0.3], [0.2, 0.7]])\n",
        "MM = M.dot(M)\n",
        "print (MM)"
      ],
      "metadata": {
        "colab": {
          "base_uri": "https://localhost:8080/"
        },
        "id": "wtFe8dVW-ChE",
        "outputId": "b6f8ee61-d33d-4aa6-e7ba-a4430de51f0b"
      },
      "execution_count": 38,
      "outputs": [
        {
          "output_type": "stream",
          "name": "stdout",
          "text": [
            "[[0.7  0.45]\n",
            " [0.3  0.55]]\n"
          ]
        }
      ]
    },
    {
      "cell_type": "code",
      "source": [
        "MM = M.dot(M)\n",
        "print (MM)"
      ],
      "metadata": {
        "colab": {
          "base_uri": "https://localhost:8080/"
        },
        "id": "0ip6WCUA-GSQ",
        "outputId": "b77cf6ec-420a-4fcd-ae0f-ac5c9f35c63d"
      },
      "execution_count": 39,
      "outputs": [
        {
          "output_type": "stream",
          "name": "stdout",
          "text": [
            "[[0.7  0.45]\n",
            " [0.3  0.55]]\n"
          ]
        }
      ]
    },
    {
      "cell_type": "code",
      "source": [
        "for i in range(100):\n",
        " MM = MM.dot(M)\n",
        "print (MM)"
      ],
      "metadata": {
        "colab": {
          "base_uri": "https://localhost:8080/"
        },
        "id": "sVyEjNcW-MZK",
        "outputId": "ad3195cf-2e77-43df-8fa6-5b831b530c08"
      },
      "execution_count": 41,
      "outputs": [
        {
          "output_type": "stream",
          "name": "stdout",
          "text": [
            "[[0.6 0.6]\n",
            " [0.4 0.4]]\n"
          ]
        }
      ]
    },
    {
      "cell_type": "markdown",
      "source": [
        "3. Phương trình ma trận"
      ],
      "metadata": {
        "id": "vr-3Kftn-Wqr"
      }
    },
    {
      "cell_type": "markdown",
      "source": [
        "3.1. Khái niệm về tách ma trận"
      ],
      "metadata": {
        "id": "31GzG0wa-XDz"
      }
    },
    {
      "cell_type": "markdown",
      "source": [
        "3.2. Phân rã ma trận LU"
      ],
      "metadata": {
        "id": "KzxFiwoW-Y3-"
      }
    },
    {
      "cell_type": "code",
      "source": [
        "M = np.array([ [0.8, 0.3], [0.2, 0.7]])\n",
        "P, L, U = linalg.lu(M)\n",
        "print (P)"
      ],
      "metadata": {
        "colab": {
          "base_uri": "https://localhost:8080/"
        },
        "id": "K_9Rs0kK-axP",
        "outputId": "bdaa7658-a808-4f02-99b4-840a527baae7"
      },
      "execution_count": 42,
      "outputs": [
        {
          "output_type": "stream",
          "name": "stdout",
          "text": [
            "[[1. 0.]\n",
            " [0. 1.]]\n"
          ]
        }
      ]
    },
    {
      "cell_type": "code",
      "source": [
        "print (L)"
      ],
      "metadata": {
        "colab": {
          "base_uri": "https://localhost:8080/"
        },
        "id": "WvU4WoC0-fdw",
        "outputId": "c767a266-ad9b-4822-b8b8-ff1a2635c74f"
      },
      "execution_count": 43,
      "outputs": [
        {
          "output_type": "stream",
          "name": "stdout",
          "text": [
            "[[1.   0.  ]\n",
            " [0.25 1.  ]]\n"
          ]
        }
      ]
    },
    {
      "cell_type": "code",
      "source": [
        "print (U)"
      ],
      "metadata": {
        "colab": {
          "base_uri": "https://localhost:8080/"
        },
        "id": "rdSB55Cm-guX",
        "outputId": "bcf1a04f-e5a1-4281-a573-dd816fb7561c"
      },
      "execution_count": 44,
      "outputs": [
        {
          "output_type": "stream",
          "name": "stdout",
          "text": [
            "[[0.8   0.3  ]\n",
            " [0.    0.625]]\n"
          ]
        }
      ]
    },
    {
      "cell_type": "code",
      "source": [
        "L.dot(U)"
      ],
      "metadata": {
        "colab": {
          "base_uri": "https://localhost:8080/"
        },
        "id": "iCelQhy9-iZv",
        "outputId": "733b77e3-cc39-4aab-e9f0-c73b829b4ee3"
      },
      "execution_count": 45,
      "outputs": [
        {
          "output_type": "execute_result",
          "data": {
            "text/plain": [
              "array([[0.8, 0.3],\n",
              "       [0.2, 0.7]])"
            ]
          },
          "metadata": {},
          "execution_count": 45
        }
      ]
    },
    {
      "cell_type": "markdown",
      "source": [
        "4. Bài toán ứng dụng 1 – Căn bản về mật mã học, mã hóa thông tin, mật khẩu"
      ],
      "metadata": {
        "id": "YY6LKmND-kzl"
      }
    },
    {
      "cell_type": "markdown",
      "source": [
        "Giải thích tại sao ma trận phải khả nghịch trong phương pháp này:\n",
        "Ma trận phải khả nghịch (có ma trận nghịch đảo) để đảm bảo rằng quá trình giải mã có thể thực hiện được. Nếu ma trận không khả nghịch (tức là định thức của ma trận bằng 0), sẽ không thể tìm được ma trận nghịch đảo, từ đó không thể khôi phục lại thông điệp gốc từ mã hóa.\n",
        "\n",
        "Nói cách khác:\n",
        "\n",
        "Mã hóa: Mã hóa = Văn bản × Ma trận\n",
        "\n",
        "Giải mã: Văn bản = Mã hóa × Ma trận⁻¹\n",
        "Nếu không có Ma trận⁻¹, bạn không thể làm ngược lại quá trình mã hóa."
      ],
      "metadata": {
        "id": "4iusndZZ_AtL"
      }
    },
    {
      "cell_type": "markdown",
      "source": [
        "Kết quả 3 : [17, 34, 5] → [124, -22, -20]"
      ],
      "metadata": {
        "id": "VwFlHry7_CUA"
      }
    },
    {
      "cell_type": "markdown",
      "source": [
        "Kết quả 4 : [0, 6, 26] → [38, -32, -98]"
      ],
      "metadata": {
        "id": "nlFJmTXM_Mhq"
      }
    },
    {
      "cell_type": "markdown",
      "source": [
        "Kết quả 5 : [33, 0, 14] → [113, 19, -122]"
      ],
      "metadata": {
        "id": "lk-aJZig_S66"
      }
    },
    {
      "cell_type": "markdown",
      "source": [
        "Kết quả 6 : [12, 9, 34] → [88, -31, -151]"
      ],
      "metadata": {
        "id": "9KewSDnz_Vx4"
      }
    },
    {
      "cell_type": "markdown",
      "source": [
        "Kết quả 7 : [25, 35, 35] → [180, -45, -155]"
      ],
      "metadata": {
        "id": "exPD_m0y_Yyw"
      }
    },
    {
      "cell_type": "markdown",
      "source": [
        "5. Bài toán ứng dụng 2 – Bài toán loan tin"
      ],
      "metadata": {
        "id": "VdfCGbMJ_nFC"
      }
    },
    {
      "cell_type": "code",
      "source": [
        "A = np.array([ [0,1,0,1],[0,0,1,0],[1,0,0,1],[1,1,0,0]])\n",
        "temp = A.dot(A)\n",
        "print(temp)"
      ],
      "metadata": {
        "colab": {
          "base_uri": "https://localhost:8080/"
        },
        "id": "7ueh8k1U_nbV",
        "outputId": "c6e4fab1-9e90-4cc6-baaa-879f50ecee8c"
      },
      "execution_count": 46,
      "outputs": [
        {
          "output_type": "stream",
          "name": "stdout",
          "text": [
            "[[1 1 1 0]\n",
            " [1 0 0 1]\n",
            " [1 2 0 1]\n",
            " [0 1 1 1]]\n"
          ]
        }
      ]
    },
    {
      "cell_type": "code",
      "source": [
        " temp = temp.dot(A)\n",
        " print(temp)"
      ],
      "metadata": {
        "colab": {
          "base_uri": "https://localhost:8080/"
        },
        "id": "u0ci3Stf_3n8",
        "outputId": "8b456376-b96f-481a-e6dd-341cd4b2f562"
      },
      "execution_count": 47,
      "outputs": [
        {
          "output_type": "stream",
          "name": "stdout",
          "text": [
            "[[1 1 1 2]\n",
            " [1 2 0 1]\n",
            " [1 2 2 1]\n",
            " [2 1 1 1]]\n"
          ]
        }
      ]
    },
    {
      "cell_type": "code",
      "source": [
        "A = np.array([[0, 1, 0, 1],[0, 0, 1, 0],[1, 0, 0, 1],[1, 1, 0, 0]])\n",
        "sumA = A\n",
        "temp = A.dot(A)\n",
        "k = 3\n",
        "sumA = sumA + temp\n",
        "for i in range(1, k-1):\n",
        "    temp = temp.dot(A)\n",
        "    sumA = sumA + temp\n",
        "print(temp)\n",
        "print(sumA)"
      ],
      "metadata": {
        "colab": {
          "base_uri": "https://localhost:8080/"
        },
        "id": "hpgZKFBD_8Dg",
        "outputId": "b23b3b22-0b0e-47f2-8a17-529d6bae9824"
      },
      "execution_count": 48,
      "outputs": [
        {
          "output_type": "stream",
          "name": "stdout",
          "text": [
            "[[1 1 1 2]\n",
            " [1 2 0 1]\n",
            " [1 2 2 1]\n",
            " [2 1 1 1]]\n",
            "[[2 3 2 3]\n",
            " [2 2 1 2]\n",
            " [3 4 2 3]\n",
            " [3 3 2 2]]\n"
          ]
        }
      ]
    },
    {
      "cell_type": "markdown",
      "source": [
        "BÀI TẬP CHƯƠNG 3"
      ],
      "metadata": {
        "id": "hoopXV3lAMY0"
      }
    },
    {
      "cell_type": "markdown",
      "source": [
        "Câu 1:"
      ],
      "metadata": {
        "id": "4RQihL4sAvK7"
      }
    },
    {
      "cell_type": "code",
      "source": [
        "import numpy as np\n",
        "\n",
        "A = np.array([[2, 1, 1],\n",
        "              [1, 3, 2],\n",
        "              [1, 0, 1]])\n",
        "\n",
        "text = \"NGUYEN VAN A\"\n",
        "\n",
        "def char_to_num(c):\n",
        "    return 0 if c == ' ' else ord(c) - ord('A') + 1\n",
        "\n",
        "def num_to_char(n):\n",
        "    return ' ' if n == 0 else chr(n + ord('A') - 1)\n",
        "\n",
        "nums = [char_to_num(c) for c in text.upper()]\n",
        "while len(nums) % 3 != 0:\n",
        "    nums.append(0)\n",
        "\n",
        "vectors = [np.array(nums[i:i+3]) for i in range(0, len(nums), 3)]\n",
        "\n",
        "encoded = [A.dot(v) for v in vectors]\n",
        "print(\"Mã hóa:\", encoded)\n",
        "\n",
        "decoded = [np.round(np.linalg.inv(A).dot(v)).astype(int) for v in encoded]\n",
        "result = ''.join([num_to_char(n) for vec in decoded for n in vec])\n",
        "print(\"Giải mã:\", result)"
      ],
      "metadata": {
        "colab": {
          "base_uri": "https://localhost:8080/"
        },
        "id": "ro1HQbHTA0hm",
        "outputId": "28c1c55c-e8cc-41a7-96c4-70ba277541ec"
      },
      "execution_count": 49,
      "outputs": [
        {
          "output_type": "stream",
          "name": "stdout",
          "text": [
            "Mã hóa: [array([56, 77, 35]), array([69, 68, 39]), array([23, 68,  1]), array([29, 16, 15])]\n",
            "Giải mã: NGUYEN VAN A\n"
          ]
        }
      ]
    },
    {
      "cell_type": "markdown",
      "source": [
        "Câu 2:"
      ],
      "metadata": {
        "id": "xkMFH4qUA9S9"
      }
    },
    {
      "cell_type": "markdown",
      "source": [
        "a. Chương trình tính\n",
        "𝑝\n",
        "𝑛\n",
        "p\n",
        "n\n",
        "​\n",
        " ,\n",
        "𝑞\n",
        "𝑛\n",
        "q\n",
        "n"
      ],
      "metadata": {
        "id": "AZhd33IbBVY0"
      }
    },
    {
      "cell_type": "code",
      "source": [
        "import numpy as np\n",
        "\n",
        "def continued_fraction(c_list):\n",
        "    vec = np.array([[1], [0]])\n",
        "    for c in reversed(c_list):\n",
        "        mat = np.array([[c, 1],\n",
        "                        [1, 0]])\n",
        "        vec = np.matmul(mat, vec)\n",
        "    p_n = vec[0, 0]\n",
        "    q_n = vec[1, 0]\n",
        "    return p_n, q_n\n",
        "\n",
        "c = [3, 1, 2]\n",
        "pn, qn = continued_fraction(c)\n",
        "print(f\"p_n = {pn}, q_n = {qn}, phân số = {pn}/{qn}\")"
      ],
      "metadata": {
        "colab": {
          "base_uri": "https://localhost:8080/"
        },
        "id": "R1njuBgIA_ki",
        "outputId": "c32ffdc1-b426-4ea4-a76d-95475812ee18"
      },
      "execution_count": 54,
      "outputs": [
        {
          "output_type": "stream",
          "name": "stdout",
          "text": [
            "p_n = 11, q_n = 3, phân số = 11/3\n"
          ]
        }
      ]
    },
    {
      "cell_type": "markdown",
      "source": [
        "b. Chứng minh công thức"
      ],
      "metadata": {
        "id": "oA-jrEeKEIkR"
      }
    },
    {
      "cell_type": "markdown",
      "source": [
        "## Chứng minh công thức tính \\( p_n \\), \\( q_n \\) bằng phương pháp quy nạp\n",
        "\n",
        "Ta chứng minh bằng **quy nạp** theo \\( n \\).\n",
        "\n",
        "### Bước cơ sở: \\( n = 0 \\)\n",
        "\n",
        "\\[\n",
        "\\begin{pmatrix}\n",
        "c_0 & 1 \\\\\n",
        "1 & 0\n",
        "\\end{pmatrix}\n",
        "\\begin{pmatrix}\n",
        "1 \\\\\n",
        "0\n",
        "\\end{pmatrix}\n",
        "=\n",
        "\\begin{pmatrix}\n",
        "c_0 \\\\\n",
        "1\n",
        "\\end{pmatrix}\n",
        "\\Rightarrow p_0 = c_0, \\quad q_0 = 1\n",
        "\\]\n",
        "\n",
        "### Giả sử: Công thức đúng với \\( n = k \\), tức là:\n",
        "\n",
        "\\[\n",
        "\\prod_{i=0}^{k}\n",
        "\\begin{pmatrix}\n",
        "c_i & 1 \\\\\n",
        "1 & 0\n",
        "\\end{pmatrix}\n",
        "\\begin{pmatrix}\n",
        "1 \\\\\n",
        "0\n",
        "\\end{pmatrix}\n",
        "=\n",
        "\\begin{pmatrix}\n",
        "p_k \\\\\n",
        "q_k\n",
        "\\end{pmatrix}\n",
        "\\]\n",
        "\n",
        "### Bước suy luận: \\( n = k + 1 \\)\n",
        "\n",
        "Nhân thêm ma trận:\n",
        "\n",
        "\\[\n",
        "\\begin{pmatrix}\n",
        "c_{k+1} & 1 \\\\\n",
        "1 & 0\n",
        "\\end{pmatrix}\n",
        "\\begin{pmatrix}\n",
        "p_k \\\\\n",
        "q_k\n",
        "\\end{pmatrix}\n",
        "=\n",
        "\\begin{pmatrix}\n",
        "c_{k+1}p_k + q_k \\\\\n",
        "p_k\n",
        "\\end{pmatrix}\n",
        "=\n",
        "\\begin{pmatrix}\n",
        "p_{k+1} \\\\\n",
        "q_{k+1}\n",
        "\\end{pmatrix}\n",
        "\\]\n",
        "\n",
        "→ Công thức được chứng minh đúng với mọi \\( n \\in \\mathbb{N} \\).\n"
      ],
      "metadata": {
        "id": "IY1-JpHCELtK"
      }
    }
  ]
}