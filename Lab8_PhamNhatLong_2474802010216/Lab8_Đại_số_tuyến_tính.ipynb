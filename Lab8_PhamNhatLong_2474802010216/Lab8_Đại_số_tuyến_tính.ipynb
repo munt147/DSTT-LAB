{
  "nbformat": 4,
  "nbformat_minor": 0,
  "metadata": {
    "colab": {
      "provenance": []
    },
    "kernelspec": {
      "name": "python3",
      "display_name": "Python 3"
    },
    "language_info": {
      "name": "python"
    }
  },
  "cells": [
    {
      "cell_type": "markdown",
      "source": [
        "CHƯƠNG 8: KHÔNG GIAN VECTOR VÀ ÁNH XẠ TUYẾN TÍNH\n",
        "(PHẦN 2)"
      ],
      "metadata": {
        "id": "mTSFqx_pkJOR"
      }
    },
    {
      "cell_type": "markdown",
      "source": [
        "1. Các bài toán cơ bản về không gian vector"
      ],
      "metadata": {
        "id": "cALvWmYPkLjt"
      }
    },
    {
      "cell_type": "markdown",
      "source": [
        "1.1.Một số lưu ý"
      ],
      "metadata": {
        "id": "0H5JFtOlkNei"
      }
    },
    {
      "cell_type": "markdown",
      "source": [
        "1.2.Các bài toán tính toán"
      ],
      "metadata": {
        "id": "nlReblokkQec"
      }
    },
    {
      "cell_type": "markdown",
      "source": [
        "Bài tập 1:"
      ],
      "metadata": {
        "id": "n6KgHjnTkrCB"
      }
    },
    {
      "cell_type": "markdown",
      "source": [
        "a."
      ],
      "metadata": {
        "id": "5_tI5wJ2kt8e"
      }
    },
    {
      "cell_type": "code",
      "execution_count": 1,
      "metadata": {
        "colab": {
          "base_uri": "https://localhost:8080/"
        },
        "id": "2cntGRhWj9q5",
        "outputId": "5b4ea030-0d16-486e-cb53-26af0d31b00b"
      },
      "outputs": [
        {
          "output_type": "stream",
          "name": "stdout",
          "text": [
            "[ 18 -11   9  -8]\n"
          ]
        }
      ],
      "source": [
        "import numpy as np\n",
        "u = np.array([2, -1, 5, 0])\n",
        "v = np.array([4, 3, 1, -1])\n",
        "w = np.array([-6, 2, 0, 3])\n",
        "x = 2*u - (v + 3*w)\n",
        "print(x)"
      ]
    },
    {
      "cell_type": "markdown",
      "source": [
        "b."
      ],
      "metadata": {
        "id": "AiB7t7UbkvBK"
      }
    },
    {
      "cell_type": "code",
      "source": [
        "x = 0.5*(2*u-v-3*w)\n",
        "print (x)"
      ],
      "metadata": {
        "colab": {
          "base_uri": "https://localhost:8080/"
        },
        "id": "Tok9F4dwk3Up",
        "outputId": "008ad116-1ff4-492a-f9bb-547622f230e2"
      },
      "execution_count": 3,
      "outputs": [
        {
          "output_type": "stream",
          "name": "stdout",
          "text": [
            "[ 9.  -5.5  4.5 -4. ]\n"
          ]
        }
      ]
    },
    {
      "cell_type": "markdown",
      "source": [
        "Bài toán 2:"
      ],
      "metadata": {
        "id": "_ARhGSf-kwHj"
      }
    },
    {
      "cell_type": "code",
      "source": [
        "import numpy as np\n",
        "A = np.matrix([[0, -1, 3], [1, 1, 1], [4, 2, 2]])\n",
        "B = np.array([-1, -2, -2])\n",
        "X = np.linalg.solve(A, B)\n",
        "print(X)"
      ],
      "metadata": {
        "colab": {
          "base_uri": "https://localhost:8080/"
        },
        "id": "9K254jsHk83s",
        "outputId": "18a5fd56-c284-4671-ce93-985d825b532b"
      },
      "execution_count": 45,
      "outputs": [
        {
          "output_type": "stream",
          "name": "stdout",
          "text": [
            "[ 1. -2. -1.]\n"
          ]
        }
      ]
    },
    {
      "cell_type": "markdown",
      "source": [
        "Bài toán 3:"
      ],
      "metadata": {
        "id": "dCamNt0-lG9e"
      }
    },
    {
      "cell_type": "code",
      "source": [
        "A = np.matrix([[1, 0], [0, 0]])\n",
        "B = np.matrix([[0, 0], [0, 1]])\n",
        "from numpy import linalg as LA"
      ],
      "metadata": {
        "id": "uyFnn2belLg2"
      },
      "execution_count": 11,
      "outputs": []
    },
    {
      "cell_type": "code",
      "source": [
        "LA.inv(A)"
      ],
      "metadata": {
        "colab": {
          "base_uri": "https://localhost:8080/",
          "height": 301
        },
        "id": "F13VaN3Jll9b",
        "outputId": "27fbdd22-feca-4082-d305-347cba59050a"
      },
      "execution_count": 12,
      "outputs": [
        {
          "output_type": "error",
          "ename": "LinAlgError",
          "evalue": "Singular matrix",
          "traceback": [
            "\u001b[0;31m---------------------------------------------------------------------------\u001b[0m",
            "\u001b[0;31mLinAlgError\u001b[0m                               Traceback (most recent call last)",
            "\u001b[0;32m/tmp/ipython-input-12-3452915440.py\u001b[0m in \u001b[0;36m<cell line: 0>\u001b[0;34m()\u001b[0m\n\u001b[0;32m----> 1\u001b[0;31m \u001b[0mLA\u001b[0m\u001b[0;34m.\u001b[0m\u001b[0minv\u001b[0m\u001b[0;34m(\u001b[0m\u001b[0mA\u001b[0m\u001b[0;34m)\u001b[0m\u001b[0;34m\u001b[0m\u001b[0;34m\u001b[0m\u001b[0m\n\u001b[0m",
            "\u001b[0;32m/usr/local/lib/python3.11/dist-packages/numpy/linalg/_linalg.py\u001b[0m in \u001b[0;36minv\u001b[0;34m(a)\u001b[0m\n\u001b[1;32m    606\u001b[0m     with errstate(call=_raise_linalgerror_singular, invalid='call',\n\u001b[1;32m    607\u001b[0m                   over='ignore', divide='ignore', under='ignore'):\n\u001b[0;32m--> 608\u001b[0;31m         \u001b[0mainv\u001b[0m \u001b[0;34m=\u001b[0m \u001b[0m_umath_linalg\u001b[0m\u001b[0;34m.\u001b[0m\u001b[0minv\u001b[0m\u001b[0;34m(\u001b[0m\u001b[0ma\u001b[0m\u001b[0;34m,\u001b[0m \u001b[0msignature\u001b[0m\u001b[0;34m=\u001b[0m\u001b[0msignature\u001b[0m\u001b[0;34m)\u001b[0m\u001b[0;34m\u001b[0m\u001b[0;34m\u001b[0m\u001b[0m\n\u001b[0m\u001b[1;32m    609\u001b[0m     \u001b[0;32mreturn\u001b[0m \u001b[0mwrap\u001b[0m\u001b[0;34m(\u001b[0m\u001b[0mainv\u001b[0m\u001b[0;34m.\u001b[0m\u001b[0mastype\u001b[0m\u001b[0;34m(\u001b[0m\u001b[0mresult_t\u001b[0m\u001b[0;34m,\u001b[0m \u001b[0mcopy\u001b[0m\u001b[0;34m=\u001b[0m\u001b[0;32mFalse\u001b[0m\u001b[0;34m)\u001b[0m\u001b[0;34m)\u001b[0m\u001b[0;34m\u001b[0m\u001b[0;34m\u001b[0m\u001b[0m\n\u001b[1;32m    610\u001b[0m \u001b[0;34m\u001b[0m\u001b[0m\n",
            "\u001b[0;32m/usr/local/lib/python3.11/dist-packages/numpy/linalg/_linalg.py\u001b[0m in \u001b[0;36m_raise_linalgerror_singular\u001b[0;34m(err, flag)\u001b[0m\n\u001b[1;32m    102\u001b[0m \u001b[0;34m\u001b[0m\u001b[0m\n\u001b[1;32m    103\u001b[0m \u001b[0;32mdef\u001b[0m \u001b[0m_raise_linalgerror_singular\u001b[0m\u001b[0;34m(\u001b[0m\u001b[0merr\u001b[0m\u001b[0;34m,\u001b[0m \u001b[0mflag\u001b[0m\u001b[0;34m)\u001b[0m\u001b[0;34m:\u001b[0m\u001b[0;34m\u001b[0m\u001b[0;34m\u001b[0m\u001b[0m\n\u001b[0;32m--> 104\u001b[0;31m     \u001b[0;32mraise\u001b[0m \u001b[0mLinAlgError\u001b[0m\u001b[0;34m(\u001b[0m\u001b[0;34m\"Singular matrix\"\u001b[0m\u001b[0;34m)\u001b[0m\u001b[0;34m\u001b[0m\u001b[0;34m\u001b[0m\u001b[0m\n\u001b[0m\u001b[1;32m    105\u001b[0m \u001b[0;34m\u001b[0m\u001b[0m\n\u001b[1;32m    106\u001b[0m \u001b[0;32mdef\u001b[0m \u001b[0m_raise_linalgerror_nonposdef\u001b[0m\u001b[0;34m(\u001b[0m\u001b[0merr\u001b[0m\u001b[0;34m,\u001b[0m \u001b[0mflag\u001b[0m\u001b[0;34m)\u001b[0m\u001b[0;34m:\u001b[0m\u001b[0;34m\u001b[0m\u001b[0;34m\u001b[0m\u001b[0m\n",
            "\u001b[0;31mLinAlgError\u001b[0m: Singular matrix"
          ]
        }
      ]
    },
    {
      "cell_type": "markdown",
      "source": [
        "Ma trận không khả nghịch\n",
        "\n",
        "Không tồn tại ma trận nghịch đảo"
      ],
      "metadata": {
        "id": "UqM5aIVRpz-A"
      }
    },
    {
      "cell_type": "code",
      "source": [
        "LA.inv(B)"
      ],
      "metadata": {
        "colab": {
          "base_uri": "https://localhost:8080/",
          "height": 301
        },
        "id": "EYmzTO7amB6-",
        "outputId": "7f8438a8-a321-4834-a20d-4ebfe421a6e1"
      },
      "execution_count": 13,
      "outputs": [
        {
          "output_type": "error",
          "ename": "LinAlgError",
          "evalue": "Singular matrix",
          "traceback": [
            "\u001b[0;31m---------------------------------------------------------------------------\u001b[0m",
            "\u001b[0;31mLinAlgError\u001b[0m                               Traceback (most recent call last)",
            "\u001b[0;32m/tmp/ipython-input-13-2257676729.py\u001b[0m in \u001b[0;36m<cell line: 0>\u001b[0;34m()\u001b[0m\n\u001b[0;32m----> 1\u001b[0;31m \u001b[0mLA\u001b[0m\u001b[0;34m.\u001b[0m\u001b[0minv\u001b[0m\u001b[0;34m(\u001b[0m\u001b[0mB\u001b[0m\u001b[0;34m)\u001b[0m\u001b[0;34m\u001b[0m\u001b[0;34m\u001b[0m\u001b[0m\n\u001b[0m",
            "\u001b[0;32m/usr/local/lib/python3.11/dist-packages/numpy/linalg/_linalg.py\u001b[0m in \u001b[0;36minv\u001b[0;34m(a)\u001b[0m\n\u001b[1;32m    606\u001b[0m     with errstate(call=_raise_linalgerror_singular, invalid='call',\n\u001b[1;32m    607\u001b[0m                   over='ignore', divide='ignore', under='ignore'):\n\u001b[0;32m--> 608\u001b[0;31m         \u001b[0mainv\u001b[0m \u001b[0;34m=\u001b[0m \u001b[0m_umath_linalg\u001b[0m\u001b[0;34m.\u001b[0m\u001b[0minv\u001b[0m\u001b[0;34m(\u001b[0m\u001b[0ma\u001b[0m\u001b[0;34m,\u001b[0m \u001b[0msignature\u001b[0m\u001b[0;34m=\u001b[0m\u001b[0msignature\u001b[0m\u001b[0;34m)\u001b[0m\u001b[0;34m\u001b[0m\u001b[0;34m\u001b[0m\u001b[0m\n\u001b[0m\u001b[1;32m    609\u001b[0m     \u001b[0;32mreturn\u001b[0m \u001b[0mwrap\u001b[0m\u001b[0;34m(\u001b[0m\u001b[0mainv\u001b[0m\u001b[0;34m.\u001b[0m\u001b[0mastype\u001b[0m\u001b[0;34m(\u001b[0m\u001b[0mresult_t\u001b[0m\u001b[0;34m,\u001b[0m \u001b[0mcopy\u001b[0m\u001b[0;34m=\u001b[0m\u001b[0;32mFalse\u001b[0m\u001b[0;34m)\u001b[0m\u001b[0;34m)\u001b[0m\u001b[0;34m\u001b[0m\u001b[0;34m\u001b[0m\u001b[0m\n\u001b[1;32m    610\u001b[0m \u001b[0;34m\u001b[0m\u001b[0m\n",
            "\u001b[0;32m/usr/local/lib/python3.11/dist-packages/numpy/linalg/_linalg.py\u001b[0m in \u001b[0;36m_raise_linalgerror_singular\u001b[0;34m(err, flag)\u001b[0m\n\u001b[1;32m    102\u001b[0m \u001b[0;34m\u001b[0m\u001b[0m\n\u001b[1;32m    103\u001b[0m \u001b[0;32mdef\u001b[0m \u001b[0m_raise_linalgerror_singular\u001b[0m\u001b[0;34m(\u001b[0m\u001b[0merr\u001b[0m\u001b[0;34m,\u001b[0m \u001b[0mflag\u001b[0m\u001b[0;34m)\u001b[0m\u001b[0;34m:\u001b[0m\u001b[0;34m\u001b[0m\u001b[0;34m\u001b[0m\u001b[0m\n\u001b[0;32m--> 104\u001b[0;31m     \u001b[0;32mraise\u001b[0m \u001b[0mLinAlgError\u001b[0m\u001b[0;34m(\u001b[0m\u001b[0;34m\"Singular matrix\"\u001b[0m\u001b[0;34m)\u001b[0m\u001b[0;34m\u001b[0m\u001b[0;34m\u001b[0m\u001b[0m\n\u001b[0m\u001b[1;32m    105\u001b[0m \u001b[0;34m\u001b[0m\u001b[0m\n\u001b[1;32m    106\u001b[0m \u001b[0;32mdef\u001b[0m \u001b[0m_raise_linalgerror_nonposdef\u001b[0m\u001b[0;34m(\u001b[0m\u001b[0merr\u001b[0m\u001b[0;34m,\u001b[0m \u001b[0mflag\u001b[0m\u001b[0;34m)\u001b[0m\u001b[0;34m:\u001b[0m\u001b[0;34m\u001b[0m\u001b[0;34m\u001b[0m\u001b[0m\n",
            "\u001b[0;31mLinAlgError\u001b[0m: Singular matrix"
          ]
        }
      ]
    },
    {
      "cell_type": "markdown",
      "source": [
        "ma trận không khả nghịch"
      ],
      "metadata": {
        "id": "l2EuIsfNp3Te"
      }
    },
    {
      "cell_type": "code",
      "source": [
        "LA.inv(A+B)"
      ],
      "metadata": {
        "colab": {
          "base_uri": "https://localhost:8080/"
        },
        "id": "FExfSIMNqKUt",
        "outputId": "13281ec8-9da4-4d04-d2a4-d233e644ccb9"
      },
      "execution_count": 46,
      "outputs": [
        {
          "output_type": "execute_result",
          "data": {
            "text/plain": [
              "matrix([[ 0.        ,  0.        ,  0.33333333],\n",
              "        [-0.25      , -0.25      , -0.08333333],\n",
              "        [ 0.25      , -0.75      ,  0.08333333]])"
            ]
          },
          "metadata": {},
          "execution_count": 46
        }
      ]
    },
    {
      "cell_type": "code",
      "source": [
        "LA.det(A)"
      ],
      "metadata": {
        "colab": {
          "base_uri": "https://localhost:8080/"
        },
        "id": "yd6bM4dpqVAY",
        "outputId": "e0fa205e-ad9f-44c4-e8b3-ed23aa9c53d0"
      },
      "execution_count": 48,
      "outputs": [
        {
          "output_type": "execute_result",
          "data": {
            "text/plain": [
              "np.float64(-7.999999999999998)"
            ]
          },
          "metadata": {},
          "execution_count": 48
        }
      ]
    },
    {
      "cell_type": "code",
      "source": [
        "LA.det(B)"
      ],
      "metadata": {
        "colab": {
          "base_uri": "https://localhost:8080/"
        },
        "id": "cpsU3CxsmhRa",
        "outputId": "6ce4b973-686e-4b3f-ada0-3c0d00a34aa4"
      },
      "execution_count": 15,
      "outputs": [
        {
          "output_type": "execute_result",
          "data": {
            "text/plain": [
              "np.float64(0.0)"
            ]
          },
          "metadata": {},
          "execution_count": 15
        }
      ]
    },
    {
      "cell_type": "code",
      "source": [
        "LA.det(A+B)"
      ],
      "metadata": {
        "colab": {
          "base_uri": "https://localhost:8080/"
        },
        "id": "0lwPV_j1mjFj",
        "outputId": "9ef1fa45-5d13-4825-c238-69f00f6f8cfb"
      },
      "execution_count": 16,
      "outputs": [
        {
          "output_type": "execute_result",
          "data": {
            "text/plain": [
              "np.float64(1.0)"
            ]
          },
          "metadata": {},
          "execution_count": 16
        }
      ]
    },
    {
      "cell_type": "markdown",
      "source": [
        "Bài toán 4:"
      ],
      "metadata": {
        "id": "qqMhKDXOmlR5"
      }
    },
    {
      "cell_type": "code",
      "source": [
        "import sympy as sp\n",
        "x, y = sp.symbols('x y')\n",
        "A = sp.Matrix([[x, y], [y, x]])\n",
        "x1, y1 = sp.symbols('x1 y1')\n",
        "A1 = sp.Matrix([[x1, y1], [y1, x1]])\n",
        "x2, y2 = sp.symbols('x2 y2')\n",
        "A2 = sp.Matrix([[x2, y2], [y2, x2]])\n",
        "A1.T"
      ],
      "metadata": {
        "colab": {
          "base_uri": "https://localhost:8080/",
          "height": 58
        },
        "id": "nXl7JLBMmu4a",
        "outputId": "92f1d2e8-cf46-4a8e-894d-85b8ca9d3822"
      },
      "execution_count": 17,
      "outputs": [
        {
          "output_type": "execute_result",
          "data": {
            "text/plain": [
              "Matrix([\n",
              "[x1, y1],\n",
              "[y1, x1]])"
            ],
            "text/latex": "$\\displaystyle \\left[\\begin{matrix}x_{1} & y_{1}\\\\y_{1} & x_{1}\\end{matrix}\\right]$"
          },
          "metadata": {},
          "execution_count": 17
        }
      ]
    },
    {
      "cell_type": "code",
      "source": [
        "(A1+A2).T"
      ],
      "metadata": {
        "colab": {
          "base_uri": "https://localhost:8080/",
          "height": 58
        },
        "id": "w_Yfc8-fm2Da",
        "outputId": "a01f113c-0717-44f7-f1eb-b1b3db60ebec"
      },
      "execution_count": 18,
      "outputs": [
        {
          "output_type": "execute_result",
          "data": {
            "text/plain": [
              "Matrix([\n",
              "[x1 + x2, y1 + y2],\n",
              "[y1 + y2, x1 + x2]])"
            ],
            "text/latex": "$\\displaystyle \\left[\\begin{matrix}x_{1} + x_{2} & y_{1} + y_{2}\\\\y_{1} + y_{2} & x_{1} + x_{2}\\end{matrix}\\right]$"
          },
          "metadata": {},
          "execution_count": 18
        }
      ]
    },
    {
      "cell_type": "code",
      "source": [
        "((A1+A2).T).equals(A1+A2)"
      ],
      "metadata": {
        "colab": {
          "base_uri": "https://localhost:8080/"
        },
        "id": "y4ocGIhqm4ZB",
        "outputId": "b68f7ea4-975c-4812-e7ea-e379edb3d65d"
      },
      "execution_count": 19,
      "outputs": [
        {
          "output_type": "execute_result",
          "data": {
            "text/plain": [
              "True"
            ]
          },
          "metadata": {},
          "execution_count": 19
        }
      ]
    },
    {
      "cell_type": "code",
      "source": [
        "c = sp.symbols('c')\n",
        "print (c*A)"
      ],
      "metadata": {
        "colab": {
          "base_uri": "https://localhost:8080/"
        },
        "id": "qto6aMm1m6pF",
        "outputId": "5ec183b4-5faa-4605-c3ba-ce2205f7e696"
      },
      "execution_count": 20,
      "outputs": [
        {
          "output_type": "stream",
          "name": "stdout",
          "text": [
            "Matrix([[c*x, c*y], [c*y, c*x]])\n"
          ]
        }
      ]
    },
    {
      "cell_type": "code",
      "source": [
        "((c*A).T).equals(c*A)"
      ],
      "metadata": {
        "colab": {
          "base_uri": "https://localhost:8080/"
        },
        "id": "AHioFFgOm9uv",
        "outputId": "7a1d68ec-ba5b-44ea-8802-5b074532ced1"
      },
      "execution_count": 21,
      "outputs": [
        {
          "output_type": "execute_result",
          "data": {
            "text/plain": [
              "True"
            ]
          },
          "metadata": {},
          "execution_count": 21
        }
      ]
    },
    {
      "cell_type": "markdown",
      "source": [
        "Bài toán 5:"
      ],
      "metadata": {
        "id": "yns4kwjlnBLg"
      }
    },
    {
      "cell_type": "code",
      "source": [
        "import sympy as sp\n",
        "\n",
        "c1, c2, c3 = sp.symbols('c1 c2 c3')\n",
        "v1 = sp.Matrix([1, 2, 3])\n",
        "v2 = sp.Matrix([0, 1, 2])\n",
        "v3 = sp.Matrix([-1, 0, 1])"
      ],
      "metadata": {
        "id": "7N0nADTAnA4Y"
      },
      "execution_count": 26,
      "outputs": []
    },
    {
      "cell_type": "markdown",
      "source": [
        "a."
      ],
      "metadata": {
        "id": "Kz9PKVHenQ7x"
      }
    },
    {
      "cell_type": "code",
      "source": [
        "w1 = sp.Matrix([1, 1, 1])\n",
        "eq1 = sp.Eq(c1*v1 + c2*v2 + c3*v3, w1)\n",
        "sol1 = sp.solve(eq1, (c1, c2, c3))\n",
        "print(\"a. Nghiệm hệ: \", sol1)"
      ],
      "metadata": {
        "colab": {
          "base_uri": "https://localhost:8080/"
        },
        "id": "yrTELe_Andeb",
        "outputId": "a572c7fa-6314-4942-cb9e-69fc11ef9fe4"
      },
      "execution_count": 29,
      "outputs": [
        {
          "output_type": "stream",
          "name": "stdout",
          "text": [
            "a. Nghiệm hệ:  {c1: c3 + 1, c2: -2*c3 - 1}\n"
          ]
        }
      ]
    },
    {
      "cell_type": "markdown",
      "source": [
        "b."
      ],
      "metadata": {
        "id": "jTDfN6lHnd8X"
      }
    },
    {
      "cell_type": "code",
      "source": [
        "w2 = sp.Matrix([1, -2, 2])\n",
        "eq2 = sp.Eq(c1*v1 + c2*v2 + c3*v3, w2)\n",
        "sol2 = sp.solve(eq2, (c1, c2, c3))\n",
        "print(\"b. Nghiệm hệ: \", sol2)"
      ],
      "metadata": {
        "colab": {
          "base_uri": "https://localhost:8080/"
        },
        "id": "xBODyOtcnfs0",
        "outputId": "0b499812-db70-4e2e-9db6-a6b36316c48a"
      },
      "execution_count": 28,
      "outputs": [
        {
          "output_type": "stream",
          "name": "stdout",
          "text": [
            "b. Nghiệm hệ:  []\n"
          ]
        }
      ]
    },
    {
      "cell_type": "markdown",
      "source": [
        "Bài toán 6:"
      ],
      "metadata": {
        "id": "7rbHFJ--nutA"
      }
    },
    {
      "cell_type": "code",
      "source": [
        "import sympy as sp\n",
        "c1, c2, c3 = sp.symbols('c1 c2 c3')\n",
        "sp.solve([c1 - 2*c3, 2*c1 + c2, 3*c1 + 2*c2 + c3], [c1, c2, c3])"
      ],
      "metadata": {
        "colab": {
          "base_uri": "https://localhost:8080/"
        },
        "id": "RpvEQMxAn0Lw",
        "outputId": "92271d44-25cd-4091-835f-b22037258048"
      },
      "execution_count": 30,
      "outputs": [
        {
          "output_type": "execute_result",
          "data": {
            "text/plain": [
              "{c1: 0, c2: 0, c3: 0}"
            ]
          },
          "metadata": {},
          "execution_count": 30
        }
      ]
    },
    {
      "cell_type": "markdown",
      "source": [
        "Bài toán 7:"
      ],
      "metadata": {
        "id": "pkh57bjPn3ZM"
      }
    },
    {
      "cell_type": "code",
      "source": [
        "import sympy as sp\n",
        "c1, c2 = sp.symbols('c1 c2')\n",
        "u1, u2 = sp.symbols('u1 u2')\n",
        "sp.solve([c1 + c2 - u1, c1 - c2 - u2])"
      ],
      "metadata": {
        "colab": {
          "base_uri": "https://localhost:8080/"
        },
        "id": "3qf0AJe8n7mn",
        "outputId": "79ad259b-995a-4cff-94a6-81c641ee10f6"
      },
      "execution_count": 31,
      "outputs": [
        {
          "output_type": "execute_result",
          "data": {
            "text/plain": [
              "{c1: u1/2 + u2/2, c2: u1/2 - u2/2}"
            ]
          },
          "metadata": {},
          "execution_count": 31
        }
      ]
    },
    {
      "cell_type": "code",
      "source": [
        "u1 = 0\n",
        "u2 = 0\n",
        "sp.solve([c1 + c2 - u1, c1 - c2 - u2])"
      ],
      "metadata": {
        "colab": {
          "base_uri": "https://localhost:8080/"
        },
        "id": "o-31S5lsoAUa",
        "outputId": "55c3e1f6-3d37-4746-fee3-7ae23d408025"
      },
      "execution_count": 32,
      "outputs": [
        {
          "output_type": "execute_result",
          "data": {
            "text/plain": [
              "{c1: 0, c2: 0}"
            ]
          },
          "metadata": {},
          "execution_count": 32
        }
      ]
    },
    {
      "cell_type": "markdown",
      "source": [
        "2. Ánh xạ tuyến tính"
      ],
      "metadata": {
        "id": "JHdV2R6joCtA"
      }
    },
    {
      "cell_type": "markdown",
      "source": [
        "2.1.Định nghĩa, tính chất và biểu diễn ma trận ánh xạ tuyến tính"
      ],
      "metadata": {
        "id": "q3lOuCDUoEv2"
      }
    },
    {
      "cell_type": "markdown",
      "source": [
        "2.2.Bài toán ứng dụng: Ma trận biến đổi (ảnh/font chữ/…)"
      ],
      "metadata": {
        "id": "a1NEnXkxoGpy"
      }
    },
    {
      "cell_type": "markdown",
      "source": [
        "a."
      ],
      "metadata": {
        "id": "Wh7NLbqzoLUg"
      }
    },
    {
      "cell_type": "code",
      "source": [
        "import numpy as np\n",
        "P = np.array([[0, 0, 3, 3, 1, 1, 2, 2, 1, 1],\n",
        "              [0, 5, 5, 4, 4, 3, 3, 2, 2, 0]])\n",
        "vecdelta = np.array([4, 2])\n",
        "P_caua = (P.T + vecdelta).T\n",
        "print(P_caua)"
      ],
      "metadata": {
        "colab": {
          "base_uri": "https://localhost:8080/"
        },
        "id": "WI1CjcozoN4J",
        "outputId": "0b474a06-f3e9-47ee-cacb-c431c042c7ba"
      },
      "execution_count": 33,
      "outputs": [
        {
          "output_type": "stream",
          "name": "stdout",
          "text": [
            "[[4 4 7 7 5 5 6 6 5 5]\n",
            " [2 7 7 6 6 5 5 4 4 2]]\n"
          ]
        }
      ]
    },
    {
      "cell_type": "markdown",
      "source": [
        "b."
      ],
      "metadata": {
        "id": "jCLnCkpLoPBz"
      }
    },
    {
      "cell_type": "code",
      "source": [
        "import numpy as np\n",
        "P = np.array([[0, 0, 3, 3, 1, 1, 2, 2, 1, 1],\n",
        "              [0, 5, 5, 4, 4, 3, 3, 2, 2, 0]])\n",
        "vecdelta = np.array([4, -2])\n",
        "matran_biendoi = np.array([[1.0, 0.0],\n",
        "                           [0.0, 2.0]])\n",
        "P_caub = (P.T @ matran_biendoi + vecdelta).T\n",
        "print(P_caub)"
      ],
      "metadata": {
        "id": "XIyLTNYsoUKr"
      },
      "execution_count": null,
      "outputs": []
    },
    {
      "cell_type": "markdown",
      "source": [
        "c."
      ],
      "metadata": {
        "id": "4tsbz-4KoeOn"
      }
    },
    {
      "cell_type": "code",
      "source": [
        "import numpy as np\n",
        "P = np.array([[x1, x2, ..., xn],\n",
        "              [y1, y2, ..., yn]])\n",
        "mat_bien_doi = np.array([[-1, 0],\n",
        "                         [ 0, 1]])\n",
        "vec_tinh_tien = np.array([a, b])\n",
        "P_moi = (P.T @ mat_bien_doi + vec_tinh_tien).T\n",
        "print(P_moi)"
      ],
      "metadata": {
        "id": "MOjusEipofAL"
      },
      "execution_count": null,
      "outputs": []
    },
    {
      "cell_type": "markdown",
      "source": [
        "d."
      ],
      "metadata": {
        "id": "Le6zIgS-ol38"
      }
    },
    {
      "cell_type": "code",
      "source": [
        "import numpy as np\n",
        "P = np.array([[1, 2, 3],\n",
        "              [4, 5, 6]])\n",
        "p = 2\n",
        "q = -1\n",
        "a = 3\n",
        "b = 1\n",
        "mat_shearing = np.array([[1, p],\n",
        "                         [q, 1]])\n",
        "vec_tinhtien = np.array([a, b])\n",
        "P_moi = (P.T @ mat_shearing + vec_tinhtien).T\n",
        "print(P_moi)"
      ],
      "metadata": {
        "id": "UaCOtri6oqVv"
      },
      "execution_count": null,
      "outputs": []
    },
    {
      "cell_type": "code",
      "source": [
        "mat_doi_x = np.array([[-1, 0],\n",
        "                      [ 0, 1]])\n",
        "P_moi = mat_doi_x @ P\n",
        "print(P_moi)"
      ],
      "metadata": {
        "colab": {
          "base_uri": "https://localhost:8080/"
        },
        "id": "GySY-RAGo482",
        "outputId": "deed7ba0-aefe-4f12-bd6a-5652fecc8439"
      },
      "execution_count": 34,
      "outputs": [
        {
          "output_type": "stream",
          "name": "stdout",
          "text": [
            "[[ 0  0 -3 -3 -1 -1 -2 -2 -1 -1]\n",
            " [ 0  5  5  4  4  3  3  2  2  0]]\n"
          ]
        }
      ]
    },
    {
      "cell_type": "code",
      "source": [
        "mat_doi_yx = np.array([[0, 1],\n",
        "                       [1, 0]])\n",
        "P_moi = mat_doi_yx @ P\n",
        "print(P_moi)"
      ],
      "metadata": {
        "colab": {
          "base_uri": "https://localhost:8080/"
        },
        "id": "IldoSITHo7HF",
        "outputId": "23a8a96b-7c1a-48b7-b9d6-c88698957a0b"
      },
      "execution_count": 35,
      "outputs": [
        {
          "output_type": "stream",
          "name": "stdout",
          "text": [
            "[[0 5 5 4 4 3 3 2 2 0]\n",
            " [0 0 3 3 1 1 2 2 1 1]]\n"
          ]
        }
      ]
    },
    {
      "cell_type": "markdown",
      "source": [
        "3. [Đọc thêm] Kiểm lý thuyết về ánh xạ tuyến tính"
      ],
      "metadata": {
        "id": "p4Ig1rK2o-tn"
      }
    },
    {
      "cell_type": "markdown",
      "source": [
        "3.1.Kiểm tra một ánh xạ là ánh xạ tuyến tính"
      ],
      "metadata": {
        "id": "MBSaBMbrpA4e"
      }
    },
    {
      "cell_type": "code",
      "source": [
        "import sympy as sp\n",
        "from sympy import lambdify\n",
        "x1, x2, x3 = sp.symbols('x1 x2 x3')\n",
        "bieuthuc1 = x1 - x2 + x3\n",
        "f1 = lambdify([x1, x2, x3], bieuthuc1, 'numpy')\n",
        "a, b, c = sp.symbols('a b c')\n",
        "d, e, f = sp.symbols('d e f')\n",
        "f1(a, b, c)"
      ],
      "metadata": {
        "colab": {
          "base_uri": "https://localhost:8080/",
          "height": 38
        },
        "id": "lLj1U1fgpG8f",
        "outputId": "46d264b6-bf73-4abf-9d82-6ba2c208d41e"
      },
      "execution_count": 36,
      "outputs": [
        {
          "output_type": "execute_result",
          "data": {
            "text/plain": [
              "a - b + c"
            ],
            "text/latex": "$\\displaystyle a - b + c$"
          },
          "metadata": {},
          "execution_count": 36
        }
      ]
    },
    {
      "cell_type": "code",
      "source": [
        "f1(d, e, f)"
      ],
      "metadata": {
        "colab": {
          "base_uri": "https://localhost:8080/",
          "height": 38
        },
        "id": "gvSLF0EJpKRW",
        "outputId": "51a22188-aa6b-49a9-f0c5-8417aa8ca404"
      },
      "execution_count": 37,
      "outputs": [
        {
          "output_type": "execute_result",
          "data": {
            "text/plain": [
              "d - e + f"
            ],
            "text/latex": "$\\displaystyle d - e + f$"
          },
          "metadata": {},
          "execution_count": 37
        }
      ]
    },
    {
      "cell_type": "code",
      "source": [
        "f1(a+d, b+e, c+f)"
      ],
      "metadata": {
        "colab": {
          "base_uri": "https://localhost:8080/",
          "height": 38
        },
        "id": "GA4DLuxTpMCW",
        "outputId": "fda7119f-9eeb-41d8-ddd4-4ad33efbec32"
      },
      "execution_count": 39,
      "outputs": [
        {
          "output_type": "execute_result",
          "data": {
            "text/plain": [
              "a - b + c + d - e + f"
            ],
            "text/latex": "$\\displaystyle a - b + c + d - e + f$"
          },
          "metadata": {},
          "execution_count": 39
        }
      ]
    },
    {
      "cell_type": "code",
      "source": [
        "f1(a,b,c) + f1(d,e,f) == f1(a+d, b+e, c+f)"
      ],
      "metadata": {
        "colab": {
          "base_uri": "https://localhost:8080/"
        },
        "id": "OC0nnO4ApSZW",
        "outputId": "ed9648b6-8a31-44a1-b332-24a1b2fe1dc9"
      },
      "execution_count": 40,
      "outputs": [
        {
          "output_type": "execute_result",
          "data": {
            "text/plain": [
              "True"
            ]
          },
          "metadata": {},
          "execution_count": 40
        }
      ]
    },
    {
      "cell_type": "code",
      "source": [
        "(f1(a,b,c) + f1(d,e,f)).equals( f1(a+d, b+e, c+f))"
      ],
      "metadata": {
        "colab": {
          "base_uri": "https://localhost:8080/"
        },
        "id": "zs642_XupU61",
        "outputId": "65860e4f-2e90-41b5-d841-557609abd2cd"
      },
      "execution_count": 41,
      "outputs": [
        {
          "output_type": "execute_result",
          "data": {
            "text/plain": [
              "True"
            ]
          },
          "metadata": {},
          "execution_count": 41
        }
      ]
    },
    {
      "cell_type": "code",
      "source": [
        "q = sp.symbols('q')\n",
        "(q*f1(a,b,c) + f1(d,e,f)).equals(f1(q*a+d, q*b+e, q*c+f).expand())"
      ],
      "metadata": {
        "colab": {
          "base_uri": "https://localhost:8080/"
        },
        "id": "-R-RfuY6pYPY",
        "outputId": "453ee769-7ea4-452d-cc82-3656d2c1b4ca"
      },
      "execution_count": 42,
      "outputs": [
        {
          "output_type": "execute_result",
          "data": {
            "text/plain": [
              "True"
            ]
          },
          "metadata": {},
          "execution_count": 42
        }
      ]
    },
    {
      "cell_type": "code",
      "source": [
        "bieuthuc2 = 2*x2 + 3*x3\n",
        "f2 = lambdify([x1, x2, x3], bieuthuc2, 'numpy')\n",
        "(q*f2(a, b, c) + f2(d, e, f)).equals(f2(q*a + d, q*b + e, q*c + f).expand())"
      ],
      "metadata": {
        "colab": {
          "base_uri": "https://localhost:8080/"
        },
        "id": "TXiBsmF5pg31",
        "outputId": "bd484944-10ce-4779-e12b-b03a9d1d18f7"
      },
      "execution_count": 43,
      "outputs": [
        {
          "output_type": "execute_result",
          "data": {
            "text/plain": [
              "True"
            ]
          },
          "metadata": {},
          "execution_count": 43
        }
      ]
    },
    {
      "cell_type": "markdown",
      "source": [
        "3.2.Tìm tổ hợp tuyến tính cho một ánh xạ tuyến tính"
      ],
      "metadata": {
        "id": "LkiORYa1qcOF"
      }
    },
    {
      "cell_type": "code",
      "source": [
        "import sympy as sp\n",
        "alpha, beta = sp.symbols('alpha beta')\n",
        "he_pt = [\n",
        "    sp.Eq(alpha*1 + beta*3, 4),\n",
        "    sp.Eq(alpha*2 + beta*5, 5)\n",
        "]\n",
        "nghiem = sp.solve(he_pt, (alpha, beta))\n",
        "print(nghiem)\n",
        "f_u1 = sp.Matrix([1, 1, 2])\n",
        "f_u2 = sp.Matrix([4, 2, 1])\n",
        "f_u3 = nghiem[alpha]*f_u1 + nghiem[beta]*f_u2\n",
        "print(f_u3)"
      ],
      "metadata": {
        "id": "D8a_RkJSqkEh"
      },
      "execution_count": null,
      "outputs": []
    },
    {
      "cell_type": "markdown",
      "source": [
        "3.3.Tìm ánh xạ tuyến tính"
      ],
      "metadata": {
        "id": "w3M418_zqo-h"
      }
    },
    {
      "cell_type": "code",
      "source": [
        "import sympy as sp\n",
        "a, b = sp.symbols('a b')\n",
        "x, y = sp.symbols('x y')\n",
        "sp.solve([a + 3*b - x, 2*a + 5*b - y], [a, b])"
      ],
      "metadata": {
        "id": "YbPKMbcvqtmK"
      },
      "execution_count": null,
      "outputs": []
    },
    {
      "cell_type": "code",
      "source": [
        "fu1 = np.array([1, 1, 2])\n",
        "fu2 = np.array([4, 2, 1])\n",
        "fu = a * fu1 + b * fu2\n",
        "print(fu)"
      ],
      "metadata": {
        "colab": {
          "base_uri": "https://localhost:8080/"
        },
        "id": "eYygOHWYqya_",
        "outputId": "b2162b2d-db0b-47c1-91e6-c48a3c355b34"
      },
      "execution_count": 49,
      "outputs": [
        {
          "output_type": "stream",
          "name": "stdout",
          "text": [
            "[a + 4*b a + 2*b 2*a + b]\n"
          ]
        }
      ]
    },
    {
      "cell_type": "code",
      "source": [
        "fu = a.subs(a, -5*x + 3*y)*fu1 + b.subs(b, 2*x - y)*fu2\n",
        "print (fu)"
      ],
      "metadata": {
        "colab": {
          "base_uri": "https://localhost:8080/"
        },
        "id": "2UvzSVbqq1IT",
        "outputId": "d077fc14-1e85-4486-abf6-fb4c3e0cbe86"
      },
      "execution_count": 50,
      "outputs": [
        {
          "output_type": "stream",
          "name": "stdout",
          "text": [
            "[3*x - y -x + y -8*x + 5*y]\n"
          ]
        }
      ]
    },
    {
      "cell_type": "markdown",
      "source": [
        "3.4.Tìm nhân của ánh xạ tuyến tính"
      ],
      "metadata": {
        "id": "4N5kz3zeq6_6"
      }
    },
    {
      "cell_type": "code",
      "source": [
        "x1, x2, x3 = sp.symbols('x1 x2 x3')\n",
        "sp.solve([x1 + x2 - x3, 2*x1 + 3*x2 - x3, 3*x1 + 5*x2 - x3], [x1, x2, x3])"
      ],
      "metadata": {
        "colab": {
          "base_uri": "https://localhost:8080/"
        },
        "id": "EdgbwmEHrDD2",
        "outputId": "6bd5a206-4715-4ea1-9c41-29a1b86b7b37"
      },
      "execution_count": 51,
      "outputs": [
        {
          "output_type": "execute_result",
          "data": {
            "text/plain": [
              "{x1: 2*x3, x2: -x3}"
            ]
          },
          "metadata": {},
          "execution_count": 51
        }
      ]
    },
    {
      "cell_type": "markdown",
      "source": [
        "3.5.Tìm ảnh của ánh xạ tuyến tính"
      ],
      "metadata": {
        "id": "p5o2vz0NrFkN"
      }
    },
    {
      "cell_type": "markdown",
      "source": [
        "3.6. Ma trận của ánh xạ tuyến tính trong cặp cơ sở"
      ],
      "metadata": {
        "id": "VY3gOgWTrHca"
      }
    },
    {
      "cell_type": "code",
      "source": [
        "import sympy as sp\n",
        "x, y = sp.symbols('x y')\n",
        "def f(v):\n",
        "    return sp.Matrix([v[0] - v[1], v[0]])\n",
        "u1 = sp.Matrix([-1, 1])\n",
        "u2 = sp.Matrix([1, 0])\n",
        "v1 = sp.Matrix([1, 2])\n",
        "v2 = sp.Matrix([1, 3])\n",
        "fu1 = f(u1)\n",
        "fu2 = f(u2)\n",
        "a1, a2 = sp.symbols('a1 a2')\n",
        "he1 = [sp.Eq(fu1[0], a1*v1[0] + a2*v2[0]),\n",
        "       sp.Eq(fu1[1], a1*v1[1] + a2*v2[1])]\n",
        "nghiem1 = sp.linsolve(he1, (a1, a2))\n",
        "b1, b2 = sp.symbols('b1 b2')\n",
        "he2 = [sp.Eq(fu2[0], b1*v1[0] + b2*v2[0]),\n",
        "       sp.Eq(fu2[1], b1*v1[1] + b2*v2[1])]\n",
        "nghiem2 = sp.linsolve(he2, (b1, b2))\n",
        "vec1 = list(nghiem1)[0]\n",
        "vec2 = list(nghiem2)[0]\n",
        "A = sp.Matrix.hstack(sp.Matrix(vec1), sp.Matrix(vec2))\n",
        "sp.pprint(A)"
      ],
      "metadata": {
        "colab": {
          "base_uri": "https://localhost:8080/"
        },
        "id": "-VxAG8-zrV9s",
        "outputId": "ac5da568-a04d-4383-b7c3-e226b5e32dd6"
      },
      "execution_count": 53,
      "outputs": [
        {
          "output_type": "stream",
          "name": "stdout",
          "text": [
            "⎡-5  2 ⎤\n",
            "⎢      ⎥\n",
            "⎣3   -1⎦\n"
          ]
        }
      ]
    },
    {
      "cell_type": "code",
      "source": [
        "import numpy as np\n",
        "import math\n",
        "from scipy import linalg as LA\n",
        "B = np.matrix([[1.0/math.sqrt(2), 1.0/math.sqrt(2)],\n",
        "               [-1.0/math.sqrt(2), 1.0/math.sqrt(2)]])\n",
        "LA.orth(B)\n",
        "1.0 / math.sqrt(2)"
      ],
      "metadata": {
        "colab": {
          "base_uri": "https://localhost:8080/"
        },
        "id": "X-vj_yNTrr_B",
        "outputId": "5409bfcb-8b40-405d-e609-32c50c6a8ec0"
      },
      "execution_count": 54,
      "outputs": [
        {
          "output_type": "execute_result",
          "data": {
            "text/plain": [
              "0.7071067811865475"
            ]
          },
          "metadata": {},
          "execution_count": 54
        }
      ]
    },
    {
      "cell_type": "markdown",
      "source": [
        "4. Bài toán ứng dụng: Đường conic và các phép biến đổi"
      ],
      "metadata": {
        "id": "JXwRuN5fr2Fn"
      }
    },
    {
      "cell_type": "code",
      "source": [
        "import numpy as np\n",
        "theta = np.pi / 4\n",
        "cos_theta = np.cos(theta)\n",
        "sin_theta = np.sin(theta)\n",
        "R = np.array([[cos_theta, sin_theta],\n",
        "              [-sin_theta, cos_theta]])\n",
        "def rotate_coords(x, y):\n",
        "    coords = np.array([x, y])\n",
        "    new_coords = R @ coords\n",
        "    return new_coords\n",
        "def transform_conic_equation(xp, yp):\n",
        "    x = (xp - yp) / np.sqrt(2)\n",
        "    y = (xp + yp) / np.sqrt(2)\n",
        "    result = (5 * x**2\n",
        "              - 6 * x * y\n",
        "              + 5 * y**2\n",
        "              + 14 * np.sqrt(2) * x\n",
        "              - 2 * np.sqrt(2) * y\n",
        "              + 18)\n",
        "    return result\n",
        "xp, yp = 0, 0\n",
        "value = transform_conic_equation(xp, yp)\n",
        "print(\"Giá trị phương trình sau biến đổi tại (x'=0, y'=0):\", value)"
      ],
      "metadata": {
        "colab": {
          "base_uri": "https://localhost:8080/"
        },
        "id": "yfYMsOf0tGJ8",
        "outputId": "c7d49eff-7623-422c-e372-aebfc5bd5fd4"
      },
      "execution_count": 55,
      "outputs": [
        {
          "output_type": "stream",
          "name": "stdout",
          "text": [
            "Giá trị phương trình sau biến đổi tại (x'=0, y'=0): 18.0\n"
          ]
        }
      ]
    },
    {
      "cell_type": "markdown",
      "source": [
        "BÀI TẬP CHƯƠNG 8"
      ],
      "metadata": {
        "id": "lfZ4vYlytmvZ"
      }
    },
    {
      "cell_type": "markdown",
      "source": [
        "Câu 1:"
      ],
      "metadata": {
        "id": "wG65lFj9tsAn"
      }
    },
    {
      "cell_type": "markdown",
      "source": [
        "Ánh xạ không tuyến tính vì có thành phần hằng số\n",
        "+\n",
        "2\n",
        "+2"
      ],
      "metadata": {
        "id": "LAI47gSfuDXY"
      }
    },
    {
      "cell_type": "markdown",
      "source": [
        "Câu 2:"
      ],
      "metadata": {
        "id": "k_iahiamuKhZ"
      }
    },
    {
      "cell_type": "code",
      "source": [
        "import numpy as np\n",
        "A = np.array([[0, 1],\n",
        "              [1, -1]])\n",
        "\n",
        "F = np.array([[1, 1],\n",
        "              [2, 2],\n",
        "              [3, 1],\n",
        "              [4, 3]])\n",
        "F_transformed = F @ A.T\n",
        "print(F_transformed)"
      ],
      "metadata": {
        "colab": {
          "base_uri": "https://localhost:8080/"
        },
        "id": "ftxybj5LuO0a",
        "outputId": "1004b03a-3729-48ec-de6c-7c6aa23da421"
      },
      "execution_count": 56,
      "outputs": [
        {
          "output_type": "stream",
          "name": "stdout",
          "text": [
            "[[1 0]\n",
            " [2 0]\n",
            " [1 2]\n",
            " [3 1]]\n"
          ]
        }
      ]
    },
    {
      "cell_type": "markdown",
      "source": [
        "Câu 3:"
      ],
      "metadata": {
        "id": "k23GPu4wuRA8"
      }
    },
    {
      "cell_type": "markdown",
      "source": [],
      "metadata": {
        "id": "mpLC0cZ2vEgk"
      }
    },
    {
      "cell_type": "code",
      "source": [
        "from sympy import symbols, Matrix\n",
        "v1, v2, c = symbols('v1 v2 c')\n",
        "T = Matrix([v1 - v2, v1 + 2*v2])\n",
        "u1, u2 = symbols('u1 u2')\n",
        "U = Matrix([u1 - u2, u1 + 2*u2])\n",
        "T_sum = Matrix([(v1 + u1) - (v2 + u2), (v1 + u1) + 2*(v2 + u2)])\n",
        "sum_result = T + U\n",
        "scaled_T = Matrix([c*(v1 - v2), c*(v1 + 2*v2)])\n",
        "T_scaled = Matrix([(c*v1 - c*v2), (c*v1 + 2*c*v2)])\n",
        "print(T_sum.equals(sum_result))\n",
        "print(T_scaled.equals(scaled_T))"
      ],
      "metadata": {
        "colab": {
          "base_uri": "https://localhost:8080/"
        },
        "id": "JC-5RLcLuTyw",
        "outputId": "3c137b66-d675-4c4c-c489-f3381c24744c"
      },
      "execution_count": 57,
      "outputs": [
        {
          "output_type": "stream",
          "name": "stdout",
          "text": [
            "True\n",
            "True\n"
          ]
        }
      ]
    },
    {
      "cell_type": "markdown",
      "source": [
        "Câu 4:"
      ],
      "metadata": {
        "id": "sqXb8zXnvCyg"
      }
    },
    {
      "cell_type": "code",
      "source": [
        "import numpy as np\n",
        "A = np.array([[13, -5],\n",
        "              [-5, 13]])\n",
        "eigenvalues, eigenvectors = np.linalg.eig(A)\n",
        "theta_rad = np.arctan2(eigenvectors[1, 0], eigenvectors[0, 0])\n",
        "theta_deg = np.degrees(theta_rad) % 180\n",
        "print(\"Giá trị riêng:\", eigenvalues)\n",
        "print(\"Vector riêng:\", eigenvectors)\n",
        "print(\"Góc xoay (độ):\", theta_deg)"
      ],
      "metadata": {
        "colab": {
          "base_uri": "https://localhost:8080/"
        },
        "id": "fPavx0LMu-sF",
        "outputId": "dca2ea2a-8890-448f-9194-997fa529668f"
      },
      "execution_count": 58,
      "outputs": [
        {
          "output_type": "stream",
          "name": "stdout",
          "text": [
            "Giá trị riêng: [18.  8.]\n",
            "Vector riêng: [[ 0.70710678  0.70710678]\n",
            " [-0.70710678  0.70710678]]\n",
            "Góc xoay (độ): 135.0\n"
          ]
        }
      ]
    }
  ]
}