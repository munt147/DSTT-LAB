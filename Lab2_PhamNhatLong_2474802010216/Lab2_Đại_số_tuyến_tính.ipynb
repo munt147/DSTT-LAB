{
  "nbformat": 4,
  "nbformat_minor": 0,
  "metadata": {
    "colab": {
      "provenance": []
    },
    "kernelspec": {
      "name": "python3",
      "display_name": "Python 3"
    },
    "language_info": {
      "name": "python"
    }
  },
  "cells": [
    {
      "cell_type": "markdown",
      "source": [
        "1. Dẫn nhập – Một số hàm về xử lý vector với Python"
      ],
      "metadata": {
        "id": "DC1Ny1t4qxTX"
      }
    },
    {
      "cell_type": "code",
      "source": [
        "def scale(a, v):\n",
        "    return [a * vi for vi in v]\n",
        "\n",
        "v = [3, 5, 7]\n",
        "scale(10, v)"
      ],
      "metadata": {
        "colab": {
          "base_uri": "https://localhost:8080/"
        },
        "id": "5M45Xi-JsoLN",
        "outputId": "8514ec38-cda4-4c62-905f-9ecba51f02d8"
      },
      "execution_count": 13,
      "outputs": [
        {
          "output_type": "execute_result",
          "data": {
            "text/plain": [
              "[30, 50, 70]"
            ]
          },
          "metadata": {},
          "execution_count": 13
        }
      ]
    },
    {
      "cell_type": "code",
      "source": [
        "def sumvector(v, w):\n",
        "    return [vi + wi for (vi, wi) in zip(v, w)]\n",
        "\n",
        "v = [3, 5, 7]\n",
        "w = [2, 4, 6]\n",
        "sumvector(v, w)"
      ],
      "metadata": {
        "colab": {
          "base_uri": "https://localhost:8080/"
        },
        "id": "2CjJHaCws5_5",
        "outputId": "c93b1d4d-9a26-4f48-f7ed-81945925f905"
      },
      "execution_count": 14,
      "outputs": [
        {
          "output_type": "execute_result",
          "data": {
            "text/plain": [
              "[5, 9, 13]"
            ]
          },
          "metadata": {},
          "execution_count": 14
        }
      ]
    },
    {
      "cell_type": "code",
      "source": [
        "def dotvector(v, w):\n",
        "    return sum([vi * wi for (vi, wi) in zip(v, w)])\n",
        "\n",
        "dotvector(v, w)"
      ],
      "metadata": {
        "colab": {
          "base_uri": "https://localhost:8080/"
        },
        "id": "DHl4dAdBtB06",
        "outputId": "201c4b2e-0084-4efb-c6d7-5ec8e1ac0eff"
      },
      "execution_count": 15,
      "outputs": [
        {
          "output_type": "execute_result",
          "data": {
            "text/plain": [
              "68"
            ]
          },
          "metadata": {},
          "execution_count": 15
        }
      ]
    },
    {
      "cell_type": "code",
      "source": [
        "def lenvector(v):\n",
        "    return dotvector(v, v)\n",
        "\n",
        "lenvector(w)"
      ],
      "metadata": {
        "colab": {
          "base_uri": "https://localhost:8080/"
        },
        "id": "Ncs1Kem2tEGH",
        "outputId": "f2d5ab09-98fa-4c62-dd08-ca2a428f15c2"
      },
      "execution_count": 17,
      "outputs": [
        {
          "output_type": "execute_result",
          "data": {
            "text/plain": [
              "56"
            ]
          },
          "metadata": {},
          "execution_count": 17
        }
      ]
    },
    {
      "cell_type": "markdown",
      "source": [
        "2. Bài toán ứng dụng 1 – Phân loại tuyến tính"
      ],
      "metadata": {
        "id": "1VuUuU6QtJx2"
      }
    },
    {
      "cell_type": "code",
      "source": [
        "import numpy as np\n",
        "scores = np.array([-1, 1, 2, -3, 5, -4])"
      ],
      "metadata": {
        "id": "9K7UhgFctKXb"
      },
      "execution_count": 19,
      "outputs": []
    },
    {
      "cell_type": "code",
      "source": [
        "scores >= 0"
      ],
      "metadata": {
        "colab": {
          "base_uri": "https://localhost:8080/"
        },
        "id": "3OIGAqOAtSrK",
        "outputId": "770b1511-c998-4505-a091-0b8329baf61c"
      },
      "execution_count": 20,
      "outputs": [
        {
          "output_type": "execute_result",
          "data": {
            "text/plain": [
              "array([False,  True,  True, False,  True, False])"
            ]
          },
          "metadata": {},
          "execution_count": 20
        }
      ]
    },
    {
      "cell_type": "code",
      "source": [
        "scores < 0"
      ],
      "metadata": {
        "colab": {
          "base_uri": "https://localhost:8080/"
        },
        "id": "GbTER5gJtU2S",
        "outputId": "96825022-a2f7-40fa-c265-d9d44bea5f33"
      },
      "execution_count": 21,
      "outputs": [
        {
          "output_type": "execute_result",
          "data": {
            "text/plain": [
              "array([ True, False, False,  True, False,  True])"
            ]
          },
          "metadata": {},
          "execution_count": 21
        }
      ]
    },
    {
      "cell_type": "code",
      "source": [
        "import numpy as np\n",
        "\n",
        "scores = np.array([-1, 1, 2, -3, 5, -4])\n",
        "result = np.select(\n",
        "    [scores >= 0, scores < 0],\n",
        "    ['so duong', 'so am'],\n",
        "    default='khong xac dinh'\n",
        ")\n",
        "\n",
        "print(result)\n"
      ],
      "metadata": {
        "colab": {
          "base_uri": "https://localhost:8080/"
        },
        "id": "cmr6PbG_uHFD",
        "outputId": "4024a5f9-97d9-4e22-a090-dca7c8b2a48d"
      },
      "execution_count": 26,
      "outputs": [
        {
          "output_type": "stream",
          "name": "stdout",
          "text": [
            "['so am' 'so duong' 'so duong' 'so am' 'so duong' 'so am']\n"
          ]
        }
      ]
    },
    {
      "cell_type": "code",
      "source": [
        "scores = np.array([-1, 1, 2, 0, -3, 5, 0, -4])\n",
        "result = np.select(\n",
        "    [scores > 0, scores == 0, scores < 0],\n",
        "    ['so duong', 'so 0', 'so am'],\n",
        "    default='khong xac dinh'\n",
        ")\n",
        "\n",
        "print(result)"
      ],
      "metadata": {
        "colab": {
          "base_uri": "https://localhost:8080/"
        },
        "id": "lFzpF1PhuKj8",
        "outputId": "93653cfa-134a-4073-df80-518baf651919"
      },
      "execution_count": 27,
      "outputs": [
        {
          "output_type": "stream",
          "name": "stdout",
          "text": [
            "['so am' 'so duong' 'so duong' 'so 0' 'so am' 'so duong' 'so 0' 'so am']\n"
          ]
        }
      ]
    },
    {
      "cell_type": "markdown",
      "source": [
        "3. Thực hành xử lý ma trận"
      ],
      "metadata": {
        "id": "8Rm6ejO3uNyE"
      }
    },
    {
      "cell_type": "code",
      "source": [
        "import numpy as np\n",
        "from scipy import linalg, sparse"
      ],
      "metadata": {
        "id": "B6_2_6CQumhZ"
      },
      "execution_count": 44,
      "outputs": []
    },
    {
      "cell_type": "code",
      "source": [
        "D = np.asmatrix([[3, 4], [5, 6]])\n",
        "print(D)"
      ],
      "metadata": {
        "colab": {
          "base_uri": "https://localhost:8080/"
        },
        "id": "pCnvzF3tuoAS",
        "outputId": "60436cf8-74a7-4ce1-e357-d2c19246d1dc"
      },
      "execution_count": 43,
      "outputs": [
        {
          "output_type": "stream",
          "name": "stdout",
          "text": [
            "[[3 4]\n",
            " [5 6]]\n"
          ]
        }
      ]
    },
    {
      "cell_type": "code",
      "source": [
        "C = np.array(np.random.random((5, 7)))\n",
        "print(C)"
      ],
      "metadata": {
        "colab": {
          "base_uri": "https://localhost:8080/"
        },
        "id": "y9_RD2Z_vMGp",
        "outputId": "9f898170-8517-43cd-8575-86d28a2e6d0a"
      },
      "execution_count": 42,
      "outputs": [
        {
          "output_type": "stream",
          "name": "stdout",
          "text": [
            "[[0.2222322  0.91505403 0.91986512 0.52426328 0.8556015  0.81422507\n",
            "  0.86595471]\n",
            " [0.91952576 0.93958728 0.90490296 0.63159241 0.31509859 0.96679449\n",
            "  0.21282394]\n",
            " [0.73761274 0.33558301 0.00308639 0.14493538 0.44102929 0.76282529\n",
            "  0.49447032]\n",
            " [0.28644334 0.17573575 0.69863085 0.53527569 0.10325635 0.84949519\n",
            "  0.23653643]\n",
            " [0.09995184 0.53522889 0.69447402 0.93566238 0.8885241  0.26705194\n",
            "  0.08017128]]\n"
          ]
        }
      ]
    },
    {
      "cell_type": "code",
      "source": [
        "A = np.array(np.random.random((2, 2)))\n",
        "print(A)"
      ],
      "metadata": {
        "colab": {
          "base_uri": "https://localhost:8080/"
        },
        "id": "9LRCZgIVw_rH",
        "outputId": "fa9e6c6c-c1ee-41bb-a60f-15ce7bed733b"
      },
      "execution_count": 41,
      "outputs": [
        {
          "output_type": "stream",
          "name": "stdout",
          "text": [
            "[[0.64984964 0.54069566]\n",
            " [0.88802098 0.72455833]]\n"
          ]
        }
      ]
    },
    {
      "cell_type": "code",
      "source": [
        "b = np.array([[1+5j, 2j, 3j], [4, 5, 6]], dtype=complex)\n",
        "B = np.asmatrix(b)\n",
        "print(\"b =\")\n",
        "print(b)\n",
        "print(\"B =\")\n",
        "print(B)"
      ],
      "metadata": {
        "colab": {
          "base_uri": "https://localhost:8080/"
        },
        "id": "tKGmSwKXxKF0",
        "outputId": "040107b9-dc94-4994-f9db-bea6ce12665f"
      },
      "execution_count": 45,
      "outputs": [
        {
          "output_type": "stream",
          "name": "stdout",
          "text": [
            "b =\n",
            "[[1.+5.j 0.+2.j 0.+3.j]\n",
            " [4.+0.j 5.+0.j 6.+0.j]]\n",
            "B =\n",
            "[[1.+5.j 0.+2.j 0.+3.j]\n",
            " [4.+0.j 5.+0.j 6.+0.j]]\n"
          ]
        }
      ]
    },
    {
      "cell_type": "code",
      "source": [
        "print(\"A.T =\")\n",
        "print(A.T)"
      ],
      "metadata": {
        "colab": {
          "base_uri": "https://localhost:8080/"
        },
        "id": "91poMafbxRoP",
        "outputId": "0fefc4d9-aa11-48b1-e4b9-8e6e514ade02"
      },
      "execution_count": 46,
      "outputs": [
        {
          "output_type": "stream",
          "name": "stdout",
          "text": [
            "A.T =\n",
            "[[0.64984964 0.88802098]\n",
            " [0.54069566 0.72455833]]\n"
          ]
        }
      ]
    },
    {
      "cell_type": "code",
      "source": [
        "print(\"Nghịch đảo A bằng np.linalg.inv(A):\")\n",
        "print(np.linalg.inv(A))"
      ],
      "metadata": {
        "colab": {
          "base_uri": "https://localhost:8080/"
        },
        "id": "2mKnUgjjxTOt",
        "outputId": "684b1165-2c3c-4da2-cc2c-e126b22dfdd5"
      },
      "execution_count": 47,
      "outputs": [
        {
          "output_type": "stream",
          "name": "stdout",
          "text": [
            "Nghịch đảo A bằng np.linalg.inv(A):\n",
            "[[-77.95044455  58.1698739 ]\n",
            " [ 95.53631086 -69.91302991]]\n"
          ]
        }
      ]
    },
    {
      "cell_type": "code",
      "source": [
        "M = np.array([[-1, 3, 2], [0, -2, 1], [1, 5, -2]])\n",
        "M_lower = np.tril(M)\n",
        "print(\"Ma trận dưới:\")\n",
        "print(M_lower)"
      ],
      "metadata": {
        "colab": {
          "base_uri": "https://localhost:8080/"
        },
        "id": "UZsF4x4axU50",
        "outputId": "0e84c990-6da4-4cef-9024-474d3b7fdafa"
      },
      "execution_count": 48,
      "outputs": [
        {
          "output_type": "stream",
          "name": "stdout",
          "text": [
            "Ma trận dưới:\n",
            "[[-1  0  0]\n",
            " [ 0 -2  0]\n",
            " [ 1  5 -2]]\n"
          ]
        }
      ]
    },
    {
      "cell_type": "code",
      "source": [
        "M_upper = np.triu(M)\n",
        "print(\"Ma trận trên:\")\n",
        "print(M_upper)"
      ],
      "metadata": {
        "colab": {
          "base_uri": "https://localhost:8080/"
        },
        "id": "ePPkUrl4xXvH",
        "outputId": "3f9d9f66-7aad-471d-dda7-8951eb0c410f"
      },
      "execution_count": 49,
      "outputs": [
        {
          "output_type": "stream",
          "name": "stdout",
          "text": [
            "Ma trận trên:\n",
            "[[-1  3  2]\n",
            " [ 0 -2  1]\n",
            " [ 0  0 -2]]\n"
          ]
        }
      ]
    },
    {
      "cell_type": "code",
      "source": [
        "v_diag = np.diag(M)\n",
        "print(\"Vector đường chéo:\")\n",
        "print(v_diag)\n",
        "\n",
        "M_diag = np.diag(v_diag)\n",
        "print(\"Ma trận đường chéo:\")\n",
        "print(M_diag)"
      ],
      "metadata": {
        "colab": {
          "base_uri": "https://localhost:8080/"
        },
        "id": "1g7LJQsnxaIV",
        "outputId": "15d6eb15-d67f-44fe-93b5-ca89b19ffdc6"
      },
      "execution_count": 50,
      "outputs": [
        {
          "output_type": "stream",
          "name": "stdout",
          "text": [
            "Vector đường chéo:\n",
            "[-1 -2 -2]\n",
            "Ma trận đường chéo:\n",
            "[[-1  0  0]\n",
            " [ 0 -2  0]\n",
            " [ 0  0 -2]]\n"
          ]
        }
      ]
    },
    {
      "cell_type": "markdown",
      "source": [
        "Bài tập dẫn nhập"
      ],
      "metadata": {
        "id": "EY8BihNJ1FsY"
      }
    },
    {
      "cell_type": "code",
      "source": [
        "from sympy import symbols, Eq, solve\n",
        "\n",
        "x, y, z = symbols('x y z')\n",
        "\n",
        "eq1 = Eq(x + 2, 6)\n",
        "eq2 = Eq(x + z, 1)\n",
        "eq3 = Eq(2 * x, 8)\n",
        "eq4 = Eq(y + 4, 5)\n",
        "eq5 = Eq(-z, 8)\n",
        "\n",
        "sol = solve([eq1, eq2, eq3, eq4, eq5], (x, y, z))\n",
        "print(sol)\n"
      ],
      "metadata": {
        "colab": {
          "base_uri": "https://localhost:8080/"
        },
        "id": "r10aE91k1B8X",
        "outputId": "ccf0d806-f640-4414-f462-3be4d49d76f7"
      },
      "execution_count": 53,
      "outputs": [
        {
          "output_type": "stream",
          "name": "stdout",
          "text": [
            "[]\n"
          ]
        }
      ]
    },
    {
      "cell_type": "code",
      "source": [
        "import sympy as sp\n",
        "x = sp.Symbol('x')\n",
        "y = sp.Symbol('y')\n",
        "z = sp.Symbol('z')\n",
        "\n",
        "sp.solve([\n",
        "    x + 2 - 6,\n",
        "    y - 1 - 6,\n",
        "    x + z - 1,\n",
        "    2 * x - 8,\n",
        "    z + 4 - 5,\n",
        "    y - z - 8\n",
        "], [x, y, z])"
      ],
      "metadata": {
        "colab": {
          "base_uri": "https://localhost:8080/"
        },
        "id": "Kxbvwtv11KOm",
        "outputId": "519419b6-9420-4b24-94c1-1bb3e5c1f24e"
      },
      "execution_count": 52,
      "outputs": [
        {
          "output_type": "execute_result",
          "data": {
            "text/plain": [
              "[]"
            ]
          },
          "metadata": {},
          "execution_count": 52
        }
      ]
    },
    {
      "cell_type": "markdown",
      "source": [
        "3.2. Các phép biến đổi sơ cấp trên ma trận"
      ],
      "metadata": {
        "id": "4d-KS1pM1uKi"
      }
    },
    {
      "cell_type": "code",
      "source": [
        "import numpy as np\n",
        "\n",
        "A = np.reshape(np.arange(36.0), (6,6))\n",
        "print(A)"
      ],
      "metadata": {
        "colab": {
          "base_uri": "https://localhost:8080/"
        },
        "id": "xxIlQ5jm1u4f",
        "outputId": "5d164057-4a9b-42f8-cfd2-a24c7895b66d"
      },
      "execution_count": 54,
      "outputs": [
        {
          "output_type": "stream",
          "name": "stdout",
          "text": [
            "[[ 0.  1.  2.  3.  4.  5.]\n",
            " [ 6.  7.  8.  9. 10. 11.]\n",
            " [12. 13. 14. 15. 16. 17.]\n",
            " [18. 19. 20. 21. 22. 23.]\n",
            " [24. 25. 26. 27. 28. 29.]\n",
            " [30. 31. 32. 33. 34. 35.]]\n"
          ]
        }
      ]
    },
    {
      "cell_type": "code",
      "source": [
        "I6 = np.identity(6)\n",
        "print(I6)\n"
      ],
      "metadata": {
        "colab": {
          "base_uri": "https://localhost:8080/"
        },
        "id": "cYCVefl-14XG",
        "outputId": "cffc867b-bcf2-4f23-a1ba-6467b5816c2c"
      },
      "execution_count": 55,
      "outputs": [
        {
          "output_type": "stream",
          "name": "stdout",
          "text": [
            "[[1. 0. 0. 0. 0. 0.]\n",
            " [0. 1. 0. 0. 0. 0.]\n",
            " [0. 0. 1. 0. 0. 0.]\n",
            " [0. 0. 0. 1. 0. 0.]\n",
            " [0. 0. 0. 0. 1. 0.]\n",
            " [0. 0. 0. 0. 0. 1.]]\n"
          ]
        }
      ]
    },
    {
      "cell_type": "code",
      "source": [
        "A.size\n"
      ],
      "metadata": {
        "colab": {
          "base_uri": "https://localhost:8080/"
        },
        "id": "w3w72_YZ16CT",
        "outputId": "870e91bf-d80f-43b4-b539-bbb60a0a213a"
      },
      "execution_count": 56,
      "outputs": [
        {
          "output_type": "execute_result",
          "data": {
            "text/plain": [
              "36"
            ]
          },
          "metadata": {},
          "execution_count": 56
        }
      ]
    },
    {
      "cell_type": "code",
      "source": [
        "np.diagonal(A)\n"
      ],
      "metadata": {
        "colab": {
          "base_uri": "https://localhost:8080/"
        },
        "id": "VJGaUja418IV",
        "outputId": "0adf5966-a248-45f1-e6dd-ad0a595e9ec3"
      },
      "execution_count": 57,
      "outputs": [
        {
          "output_type": "execute_result",
          "data": {
            "text/plain": [
              "array([ 0.,  7., 14., 21., 28., 35.])"
            ]
          },
          "metadata": {},
          "execution_count": 57
        }
      ]
    },
    {
      "cell_type": "code",
      "source": [
        "A = A + I6\n",
        "print(A)\n"
      ],
      "metadata": {
        "colab": {
          "base_uri": "https://localhost:8080/"
        },
        "id": "-Ey71TQS19rj",
        "outputId": "75a08647-cdb3-4309-c8c0-73f2bd15ea49"
      },
      "execution_count": 58,
      "outputs": [
        {
          "output_type": "stream",
          "name": "stdout",
          "text": [
            "[[ 1.  1.  2.  3.  4.  5.]\n",
            " [ 6.  8.  8.  9. 10. 11.]\n",
            " [12. 13. 15. 15. 16. 17.]\n",
            " [18. 19. 20. 22. 22. 23.]\n",
            " [24. 25. 26. 27. 29. 29.]\n",
            " [30. 31. 32. 33. 34. 36.]]\n"
          ]
        }
      ]
    },
    {
      "cell_type": "code",
      "source": [
        "vecB = np.array([1., 2., 3., 4., 5., 6.])\n",
        "C = A.dot(vecB)\n",
        "print(C)\n"
      ],
      "metadata": {
        "colab": {
          "base_uri": "https://localhost:8080/"
        },
        "id": "Gd9sURLI1_M7",
        "outputId": "becd0fd6-f876-43fe-cf9b-3703a20495d0"
      },
      "execution_count": 59,
      "outputs": [
        {
          "output_type": "stream",
          "name": "stdout",
          "text": [
            "[ 71. 198. 325. 452. 579. 706.]\n"
          ]
        }
      ]
    },
    {
      "cell_type": "code",
      "source": [
        "D = np.array([[1., 2., 3., 4., 5., 6.], [1., 0., 1., 0., 1., 0.]])\n",
        "print(D)\n"
      ],
      "metadata": {
        "colab": {
          "base_uri": "https://localhost:8080/"
        },
        "id": "kRxzzmhh2AfB",
        "outputId": "a144f2b4-724e-406d-c8d3-3198091127fa"
      },
      "execution_count": 60,
      "outputs": [
        {
          "output_type": "stream",
          "name": "stdout",
          "text": [
            "[[1. 2. 3. 4. 5. 6.]\n",
            " [1. 0. 1. 0. 1. 0.]]\n"
          ]
        }
      ]
    },
    {
      "cell_type": "code",
      "source": [
        "E = A.dot(D.T)\n",
        "print(E)\n"
      ],
      "metadata": {
        "colab": {
          "base_uri": "https://localhost:8080/"
        },
        "id": "UHhLtEVu2Bhr",
        "outputId": "4c843d9c-2178-4450-8206-e3e86d35f06a"
      },
      "execution_count": 62,
      "outputs": [
        {
          "output_type": "stream",
          "name": "stdout",
          "text": [
            "[[ 71.   7.]\n",
            " [198.  24.]\n",
            " [325.  43.]\n",
            " [452.  60.]\n",
            " [579.  79.]\n",
            " [706.  96.]]\n"
          ]
        }
      ]
    },
    {
      "cell_type": "code",
      "source": [
        "F = np.array([\n",
        "    [1., 1.],\n",
        "    [2., 0.],\n",
        "    [3., 1.],\n",
        "    [4., 0.],\n",
        "    [5., 1.],\n",
        "    [6., 0.]\n",
        "])\n",
        "print(F)\n"
      ],
      "metadata": {
        "colab": {
          "base_uri": "https://localhost:8080/"
        },
        "id": "f3mgx4t62D-8",
        "outputId": "086be2b2-4fa1-4526-ba35-530c388159db"
      },
      "execution_count": 63,
      "outputs": [
        {
          "output_type": "stream",
          "name": "stdout",
          "text": [
            "[[1. 1.]\n",
            " [2. 0.]\n",
            " [3. 1.]\n",
            " [4. 0.]\n",
            " [5. 1.]\n",
            " [6. 0.]]\n"
          ]
        }
      ]
    },
    {
      "cell_type": "code",
      "source": [
        "G = A.dot(F)\n",
        "print(G)\n"
      ],
      "metadata": {
        "colab": {
          "base_uri": "https://localhost:8080/"
        },
        "id": "6bfAiyTX2GOg",
        "outputId": "c691a5f5-d84d-4f86-e7d2-945d2cde0068"
      },
      "execution_count": 64,
      "outputs": [
        {
          "output_type": "stream",
          "name": "stdout",
          "text": [
            "[[ 71.   7.]\n",
            " [198.  24.]\n",
            " [325.  43.]\n",
            " [452.  60.]\n",
            " [579.  79.]\n",
            " [706.  96.]]\n"
          ]
        }
      ]
    },
    {
      "cell_type": "code",
      "source": [
        "A_inv = np.linalg.inv(A)\n",
        "print(A_inv)\n"
      ],
      "metadata": {
        "colab": {
          "base_uri": "https://localhost:8080/"
        },
        "id": "Db8IuJnl2IAw",
        "outputId": "508509fa-c8ce-4309-a373-d48d783d2e52"
      },
      "execution_count": 65,
      "outputs": [
        {
          "output_type": "stream",
          "name": "stdout",
          "text": [
            "[[ 0.37022901 -0.45610687 -0.28244275 -0.10877863  0.0648855   0.23854962]\n",
            " [-0.44656489  0.65839695 -0.23664122 -0.13167939 -0.02671756  0.07824427]\n",
            " [-0.26335878 -0.22709924  0.80916031 -0.15458015 -0.11832061 -0.08206107]\n",
            " [-0.08015267 -0.11259542 -0.14503817  0.82251908 -0.20992366 -0.24236641]\n",
            " [ 0.10305344  0.0019084  -0.09923664 -0.20038168  0.69847328 -0.40267176]\n",
            " [ 0.28625954  0.11641221 -0.05343511 -0.22328244 -0.39312977  0.4370229 ]]\n"
          ]
        }
      ]
    },
    {
      "cell_type": "code",
      "source": [
        "np.linalg.inv(np.linalg.inv(A))\n"
      ],
      "metadata": {
        "colab": {
          "base_uri": "https://localhost:8080/"
        },
        "id": "etZXvwFN2KKn",
        "outputId": "b58d3f7a-c87b-429a-9115-234d65676151"
      },
      "execution_count": 66,
      "outputs": [
        {
          "output_type": "execute_result",
          "data": {
            "text/plain": [
              "array([[ 1.,  1.,  2.,  3.,  4.,  5.],\n",
              "       [ 6.,  8.,  8.,  9., 10., 11.],\n",
              "       [12., 13., 15., 15., 16., 17.],\n",
              "       [18., 19., 20., 22., 22., 23.],\n",
              "       [24., 25., 26., 27., 29., 29.],\n",
              "       [30., 31., 32., 33., 34., 36.]])"
            ]
          },
          "metadata": {},
          "execution_count": 66
        }
      ]
    },
    {
      "cell_type": "markdown",
      "source": [
        "4. Bài toán ứng dụng 2 – Tính toán dãy Fibonacci: Con đường tìm đến tỉ số vàng!"
      ],
      "metadata": {
        "id": "ZwhmayT52T_7"
      }
    },
    {
      "cell_type": "code",
      "source": [
        "import numpy as np\n",
        "A = np.array([[1,1], [1,0]])\n",
        "b = np.array([1, 0])\n",
        "n = 10\n",
        "for i in range(n):\n",
        "    b = A.dot(b)\n",
        "    print(b)\n"
      ],
      "metadata": {
        "colab": {
          "base_uri": "https://localhost:8080/"
        },
        "id": "IX-cHvCV2W_h",
        "outputId": "5a68f194-fa46-4ed0-e1b4-61a58774754f"
      },
      "execution_count": 67,
      "outputs": [
        {
          "output_type": "stream",
          "name": "stdout",
          "text": [
            "[1 1]\n",
            "[2 1]\n",
            "[3 2]\n",
            "[5 3]\n",
            "[8 5]\n",
            "[13  8]\n",
            "[21 13]\n",
            "[34 21]\n",
            "[55 34]\n",
            "[89 55]\n"
          ]
        }
      ]
    },
    {
      "cell_type": "markdown",
      "source": [
        "5. Cơ bản về hệ phương trình tuyến tính và ứng dụng minh họa"
      ],
      "metadata": {
        "id": "2cKd6gna2eHA"
      }
    },
    {
      "cell_type": "code",
      "source": [
        "import sympy as sp\n",
        "x1, x2, x3, x4 = sp.symbols('x1 x2 x3 x4')\n",
        "\n",
        "pt1 = x4 + 610 - 450 - x1\n",
        "pt2 = x1 + 400 - x2 - 640\n",
        "pt3 = x2 + 600 - x3\n",
        "pt4 = x3 - x4 - 520\n",
        "\n",
        "nghiem = sp.solve((pt1, pt2, pt3, pt4))\n",
        "print(nghiem)\n"
      ],
      "metadata": {
        "colab": {
          "base_uri": "https://localhost:8080/"
        },
        "id": "BiUehuLt2djE",
        "outputId": "a78d9b83-d4c7-4076-c08f-4b6d5fc68af2"
      },
      "execution_count": 68,
      "outputs": [
        {
          "output_type": "stream",
          "name": "stdout",
          "text": [
            "{x1: x4 + 160, x2: x4 - 80, x3: x4 + 520}\n"
          ]
        }
      ]
    },
    {
      "cell_type": "code",
      "source": [
        "from sympy import Symbol, solve\n",
        "\n",
        "x1 = Symbol('x1')\n",
        "x2 = Symbol('x2')\n",
        "x3 = Symbol('x3')\n",
        "x4 = Symbol('x4')\n",
        "\n",
        "pt1 = x4 + 610 - 450 - x1\n",
        "pt2 = x1 + 400 - x2 - 640\n",
        "pt3 = x2 + 600 - x3\n",
        "pt4 = x3 - x4 - 520\n",
        "\n",
        "nghiem = solve((pt1, pt2, pt3, pt4))\n",
        "print(nghiem)"
      ],
      "metadata": {
        "colab": {
          "base_uri": "https://localhost:8080/"
        },
        "id": "zFPKOpN22lyE",
        "outputId": "c7155922-42ae-4839-ae2b-8bf005dc757c"
      },
      "execution_count": 70,
      "outputs": [
        {
          "output_type": "stream",
          "name": "stdout",
          "text": [
            "{x1: x4 + 160, x2: x4 - 80, x3: x4 + 520}\n"
          ]
        }
      ]
    },
    {
      "cell_type": "code",
      "source": [
        "import numpy as np\n",
        "A = np.matrix([[-1,0,0,1],[1,-1,0,0],[0,1,-1,0],[0,0,1,-1]])"
      ],
      "metadata": {
        "id": "oCsb9S0q2_M2"
      },
      "execution_count": 75,
      "outputs": []
    },
    {
      "cell_type": "code",
      "source": [
        "import sympy as sp\n",
        "\n",
        "x1, x2, x3, x4 = sp.symbols('x1 x2 x3 x4')\n",
        "\n",
        "pt1 = x4 + 610 - 450 - x1\n",
        "pt2 = x1 + 400 - x2 - 640\n",
        "pt3 = x2 + 600 - x3\n",
        "pt4 = x3 - x4 - 520\n",
        "\n",
        "nghiem = sp.solve((pt1, pt2, pt3, pt4), (x1, x2, x3, x4), dict=True)\n",
        "print(nghiem)"
      ],
      "metadata": {
        "colab": {
          "base_uri": "https://localhost:8080/"
        },
        "id": "7yjpEIaS3BWu",
        "outputId": "93de2af0-405f-4d80-9427-6c5452b7a8b4"
      },
      "execution_count": 78,
      "outputs": [
        {
          "output_type": "stream",
          "name": "stdout",
          "text": [
            "[{x1: x4 + 160, x2: x4 - 80, x3: x4 + 520}]\n"
          ]
        }
      ]
    },
    {
      "cell_type": "markdown",
      "source": [
        "BÀI TẬP CHƯƠNG 2"
      ],
      "metadata": {
        "id": "sdr8agLs3k7t"
      }
    },
    {
      "cell_type": "markdown",
      "source": [
        "Câu 1:"
      ],
      "metadata": {
        "id": "b_OsvoMF3m6u"
      }
    },
    {
      "cell_type": "code",
      "source": [
        "#Vấn đề 1\n",
        "import numpy as np\n",
        "\n",
        "A = np.array([[1, -1], [2, 3]])\n",
        "B = np.array([2, 6])\n",
        "x = np.linalg.solve(A, B)\n",
        "print(\"Giao điểm:\", x)"
      ],
      "metadata": {
        "colab": {
          "base_uri": "https://localhost:8080/"
        },
        "id": "RybZtpju4Ekz",
        "outputId": "67e2ba40-f74d-43c1-a992-bd230ef81ce2"
      },
      "execution_count": 79,
      "outputs": [
        {
          "output_type": "stream",
          "name": "stdout",
          "text": [
            "Giao điểm: [2.4 0.4]\n"
          ]
        }
      ]
    },
    {
      "cell_type": "code",
      "source": [
        "#Vấn đề 2\n",
        "A = np.array([[1, -1, 0],\n",
        "              [2, -1, -1],\n",
        "              [1, 1, 1]])\n",
        "B = np.array([2, 3, 6])\n",
        "x = np.linalg.solve(A, B)\n",
        "print(\"Giao điểm:\", x)"
      ],
      "metadata": {
        "colab": {
          "base_uri": "https://localhost:8080/"
        },
        "id": "AuSjw0Qx4GM_",
        "outputId": "59daebc9-065c-4fce-de8e-7bf124d9a3fa"
      },
      "execution_count": 80,
      "outputs": [
        {
          "output_type": "stream",
          "name": "stdout",
          "text": [
            "Giao điểm: [3. 1. 2.]\n"
          ]
        }
      ]
    },
    {
      "cell_type": "code",
      "source": [
        "#Vấn đề 3\n",
        "A = np.array([[1, 1, 1],\n",
        "              [4, 2, 1],\n",
        "              [9, 3, 1]])\n",
        "B = np.array([4, 3, 4])\n",
        "x = np.linalg.solve(A, B)\n",
        "print(\"Hệ số đa thức (a, b, c):\", x)"
      ],
      "metadata": {
        "colab": {
          "base_uri": "https://localhost:8080/"
        },
        "id": "PA2A2zUO4HMl",
        "outputId": "03625802-a95d-4933-e8ba-4d6d2535a191"
      },
      "execution_count": 81,
      "outputs": [
        {
          "output_type": "stream",
          "name": "stdout",
          "text": [
            "Hệ số đa thức (a, b, c): [ 1. -4.  7.]\n"
          ]
        }
      ]
    },
    {
      "cell_type": "code",
      "source": [
        "#Vấn đề 4\n",
        "A = np.array([[1, 0, 1],\n",
        "              [1, 1, -2],\n",
        "              [-2, 2, 1]])\n",
        "B = np.array([1, -3, 0])\n",
        "x = np.linalg.solve(A, B)\n",
        "print(\"a, b, c =\", x)\n"
      ],
      "metadata": {
        "colab": {
          "base_uri": "https://localhost:8080/"
        },
        "id": "Xy3fSG9R4Jh0",
        "outputId": "e2ffd478-38b3-44f0-a03d-af98ea89052d"
      },
      "execution_count": 82,
      "outputs": [
        {
          "output_type": "stream",
          "name": "stdout",
          "text": [
            "a, b, c = [-0.11111111 -0.66666667  1.11111111]\n"
          ]
        }
      ]
    },
    {
      "cell_type": "markdown",
      "source": [
        "Câu 2:"
      ],
      "metadata": {
        "id": "27ssuZJU4a6E"
      }
    },
    {
      "cell_type": "code",
      "source": [
        "from sympy import symbols, Eq, solve\n",
        "\n",
        "x, y = symbols('x y')\n",
        "eq1 = Eq(x - y, 2)\n",
        "eq2 = Eq(2*x + 3*y, 6)\n",
        "sol = solve((eq1, eq2), (x, y))\n",
        "print(\"Nghiệm:\", sol)"
      ],
      "metadata": {
        "colab": {
          "base_uri": "https://localhost:8080/"
        },
        "id": "aenzb46I4cM_",
        "outputId": "0124ac98-f807-4ff2-ec46-802789f52b42"
      },
      "execution_count": 83,
      "outputs": [
        {
          "output_type": "stream",
          "name": "stdout",
          "text": [
            "Nghiệm: {x: 12/5, y: 2/5}\n"
          ]
        }
      ]
    },
    {
      "cell_type": "markdown",
      "source": [
        "Câu 3:"
      ],
      "metadata": {
        "id": "_yBtHyoA4fjY"
      }
    },
    {
      "cell_type": "code",
      "source": [
        "import numpy as np\n",
        "\n",
        "def fib_matrix(k):\n",
        "    F = np.array([[1, 1], [1, 0]])\n",
        "    result = np.linalg.matrix_power(F, k)\n",
        "    return result\n",
        "\n",
        "def fib(n):\n",
        "    if n == 0: return 0\n",
        "    elif n == 1: return 1\n",
        "    a, b = 0, 1\n",
        "    for _ in range(2, n + 1):\n",
        "        a, b = b, a + b\n",
        "    return b\n",
        "\n",
        "k = 5\n",
        "Fk = fib_matrix(k)\n",
        "expected = np.array([[fib(k+1), fib(k)],\n",
        "                     [fib(k), fib(k-1)]])\n",
        "print(\"F_k matrix:\\n\", Fk)\n",
        "print(\"Expected matrix:\\n\", expected)\n",
        "print(\"So khớp?\", np.array_equal(Fk, expected))"
      ],
      "metadata": {
        "colab": {
          "base_uri": "https://localhost:8080/"
        },
        "id": "WiMdIE4J4fKE",
        "outputId": "50376b7e-86a6-44f2-8921-82c9d84c7820"
      },
      "execution_count": 84,
      "outputs": [
        {
          "output_type": "stream",
          "name": "stdout",
          "text": [
            "F_k matrix:\n",
            " [[8 5]\n",
            " [5 3]]\n",
            "Expected matrix:\n",
            " [[8 5]\n",
            " [5 3]]\n",
            "So khớp? True\n"
          ]
        }
      ]
    }
  ]
}