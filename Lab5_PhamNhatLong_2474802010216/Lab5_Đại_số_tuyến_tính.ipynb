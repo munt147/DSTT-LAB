{
  "nbformat": 4,
  "nbformat_minor": 0,
  "metadata": {
    "colab": {
      "provenance": []
    },
    "kernelspec": {
      "name": "python3",
      "display_name": "Python 3"
    },
    "language_info": {
      "name": "python"
    }
  },
  "cells": [
    {
      "cell_type": "markdown",
      "source": [
        "1. Sử dụng array và matrix trong numpy"
      ],
      "metadata": {
        "id": "s6_VF6apa3JN"
      }
    },
    {
      "cell_type": "markdown",
      "source": [
        "1.1. Thông tin tóm gọn"
      ],
      "metadata": {
        "id": "ujp29p_JbBnV"
      }
    },
    {
      "cell_type": "code",
      "source": [
        "import numpy as np\n",
        "D = np.array([[1, 2], [3, 4]])\n",
        "E = np.empty_like(D)\n",
        "np.copyto(E, D)"
      ],
      "metadata": {
        "id": "25DHRjWsa1Um"
      },
      "execution_count": 5,
      "outputs": []
    },
    {
      "cell_type": "code",
      "source": [
        "E = np.array([[1,2],[3,5]])\n",
        "np.copyto(E, D)"
      ],
      "metadata": {
        "id": "jGvNXGRtbhGt"
      },
      "execution_count": 6,
      "outputs": []
    },
    {
      "cell_type": "code",
      "source": [
        "print(E)"
      ],
      "metadata": {
        "colab": {
          "base_uri": "https://localhost:8080/"
        },
        "id": "1Gsr1M60bnyE",
        "outputId": "7d5763fb-886d-4466-9736-e1cae7792dbe"
      },
      "execution_count": 7,
      "outputs": [
        {
          "output_type": "stream",
          "name": "stdout",
          "text": [
            "[[1 2]\n",
            " [3 4]]\n"
          ]
        }
      ]
    },
    {
      "cell_type": "markdown",
      "source": [
        "1.2. Nên và không nên sử dụng kiểu dữ liệu numpy.matrix"
      ],
      "metadata": {
        "id": "6G5sDZykb3yU"
      }
    },
    {
      "cell_type": "code",
      "source": [
        "import numpy as np\n",
        "C = np.matrix([[1,2],[3, 4]] )\n",
        "print(C)"
      ],
      "metadata": {
        "colab": {
          "base_uri": "https://localhost:8080/"
        },
        "id": "dTq38ewIb_LE",
        "outputId": "aa941124-69e2-4229-9e6f-26b20d7fe0cc"
      },
      "execution_count": 9,
      "outputs": [
        {
          "output_type": "stream",
          "name": "stdout",
          "text": [
            "[[1 2]\n",
            " [3 4]]\n"
          ]
        }
      ]
    },
    {
      "cell_type": "code",
      "source": [
        "A = np.matrix([[1,2],[3,4]])\n",
        "print(A)"
      ],
      "metadata": {
        "colab": {
          "base_uri": "https://localhost:8080/"
        },
        "id": "pQPepHtqcjTz",
        "outputId": "91be9809-dbff-40a9-8835-2fc82ec4d950"
      },
      "execution_count": 11,
      "outputs": [
        {
          "output_type": "stream",
          "name": "stdout",
          "text": [
            "[[1 2]\n",
            " [3 4]]\n"
          ]
        }
      ]
    },
    {
      "cell_type": "code",
      "source": [
        "A = np.array([[[1,2],[3,4]],[[5,6],[7,8]]])\n",
        "print(A)"
      ],
      "metadata": {
        "colab": {
          "base_uri": "https://localhost:8080/"
        },
        "id": "DAQUfP76cpGr",
        "outputId": "2b3cb454-9848-4c81-f31e-1775ee110c47"
      },
      "execution_count": 12,
      "outputs": [
        {
          "output_type": "stream",
          "name": "stdout",
          "text": [
            "[[[1 2]\n",
            "  [3 4]]\n",
            "\n",
            " [[5 6]\n",
            "  [7 8]]]\n"
          ]
        }
      ]
    },
    {
      "cell_type": "markdown",
      "source": [
        "1.3. Đối tượng matrix từ các hàm trong gói numpy.matlib"
      ],
      "metadata": {
        "id": "xCrIIBo5csyz"
      }
    },
    {
      "cell_type": "code",
      "source": [
        "from numpy import matlib\n",
        "G = matlib.identity(5)\n",
        "print(G)"
      ],
      "metadata": {
        "colab": {
          "base_uri": "https://localhost:8080/"
        },
        "id": "uJsNNQfucu_b",
        "outputId": "9b5230e1-af5b-4336-ff44-df9de6aabf53"
      },
      "execution_count": 13,
      "outputs": [
        {
          "output_type": "stream",
          "name": "stdout",
          "text": [
            "[[1. 0. 0. 0. 0.]\n",
            " [0. 1. 0. 0. 0.]\n",
            " [0. 0. 1. 0. 0.]\n",
            " [0. 0. 0. 1. 0.]\n",
            " [0. 0. 0. 0. 1.]]\n"
          ]
        }
      ]
    },
    {
      "cell_type": "code",
      "source": [
        "H = matlib.randn(3, 2)\n",
        "print(H)"
      ],
      "metadata": {
        "colab": {
          "base_uri": "https://localhost:8080/"
        },
        "id": "QiC5LiRHc99i",
        "outputId": "ece4784b-3fa9-4124-b72f-a0a0d427b89f"
      },
      "execution_count": 14,
      "outputs": [
        {
          "output_type": "stream",
          "name": "stdout",
          "text": [
            "[[ 1.41858676 -0.74110987]\n",
            " [ 0.05151385  0.49107174]\n",
            " [-0.33021122  1.06351115]]\n"
          ]
        }
      ]
    },
    {
      "cell_type": "code",
      "source": [
        "K = matlib.zeros([4, 4])\n",
        "print(K)"
      ],
      "metadata": {
        "colab": {
          "base_uri": "https://localhost:8080/"
        },
        "id": "oV6CUwZgdC1C",
        "outputId": "091dba43-a110-4b03-d16d-15cc9626504b"
      },
      "execution_count": 15,
      "outputs": [
        {
          "output_type": "stream",
          "name": "stdout",
          "text": [
            "[[0. 0. 0. 0.]\n",
            " [0. 0. 0. 0.]\n",
            " [0. 0. 0. 0.]\n",
            " [0. 0. 0. 0.]]\n"
          ]
        }
      ]
    },
    {
      "cell_type": "markdown",
      "source": [
        "2. Ứng dụng 2"
      ],
      "metadata": {
        "id": "uBRqaGS8dIQC"
      }
    },
    {
      "cell_type": "markdown",
      "source": [
        "2.1. Liên phân số"
      ],
      "metadata": {
        "id": "KN9_AX_mdLbR"
      }
    },
    {
      "cell_type": "markdown",
      "source": [
        "2.2. Liên phân số biểu diễn số Pi"
      ],
      "metadata": {
        "id": "fIAIO8pwdL57"
      }
    },
    {
      "cell_type": "code",
      "source": [
        "import numpy as np\n",
        "\n",
        "c = [3, 7, 15, 1, 292, 1, 1, 1, 2, 1, 3, 1, 14, 2]\n",
        "\n",
        "M = np.asmatrix([[1, 2], [3, 4]])\n",
        "\n",
        "for i in range(len(c)):\n",
        "    ci = np.asmatrix([[1, 1], [1, 0]])\n",
        "    ci[0, 0] = c[i]\n",
        "    if i == 0:\n",
        "        M = ci\n",
        "    else:\n",
        "        M = M.dot(ci)\n",
        "\n",
        "print(M)\n",
        "print(M[0, 0] / M[1, 0])"
      ],
      "metadata": {
        "colab": {
          "base_uri": "https://localhost:8080/"
        },
        "id": "bsDeHJSBdHti",
        "outputId": "59e9e6bf-4793-4d13-ad57-54712ed63784"
      },
      "execution_count": 17,
      "outputs": [
        {
          "output_type": "stream",
          "name": "stdout",
          "text": [
            "[[165707065  80143857]\n",
            " [ 52746197  25510582]]\n",
            "3.1415926535897936\n"
          ]
        }
      ]
    },
    {
      "cell_type": "markdown",
      "source": [
        "3. Về phân tích hồi quy tuyến tính"
      ],
      "metadata": {
        "id": "kOVt-hs8dhMh"
      }
    },
    {
      "cell_type": "markdown",
      "source": [
        "3.1. Dẫn nhập: khái niệm về sai số"
      ],
      "metadata": {
        "id": "qkfNtd3Qdinh"
      }
    },
    {
      "cell_type": "markdown",
      "source": [
        "3.2. Phương pháp bình phương cực tiểu (mô hình tuyến tính)"
      ],
      "metadata": {
        "id": "UoA2hvLIdkSR"
      }
    },
    {
      "cell_type": "code",
      "source": [
        "import numpy as np\n",
        "\n",
        "X = np.array([\n",
        "    [1, 0],\n",
        "    [1, 1],\n",
        "    [1, 2],\n",
        "    [1, 3]\n",
        "])\n",
        "\n",
        "Y = np.array([\n",
        "    [1],\n",
        "    [2],\n",
        "    [3],\n",
        "    [4]\n",
        "])"
      ],
      "metadata": {
        "id": "dqU7NPxTdo-R"
      },
      "execution_count": 18,
      "outputs": []
    },
    {
      "cell_type": "code",
      "source": [
        "XT = X.T"
      ],
      "metadata": {
        "id": "sunTlJGfeFBi"
      },
      "execution_count": 19,
      "outputs": []
    },
    {
      "cell_type": "code",
      "source": [
        "A1 = np.linalg.inv(XT.dot(X))\n",
        "A2 = XT.dot(Y)"
      ],
      "metadata": {
        "id": "9DIBx3dZeHDQ"
      },
      "execution_count": 20,
      "outputs": []
    },
    {
      "cell_type": "code",
      "source": [
        "A = A1.dot(A2)\n",
        "print(\"A =\", A)\n"
      ],
      "metadata": {
        "colab": {
          "base_uri": "https://localhost:8080/"
        },
        "id": "rtiP9Y1_eI0A",
        "outputId": "140bb72d-636c-404c-bf55-e2d3161a81a5"
      },
      "execution_count": 21,
      "outputs": [
        {
          "output_type": "stream",
          "name": "stdout",
          "text": [
            "A = [[1.]\n",
            " [1.]]\n"
          ]
        }
      ]
    },
    {
      "cell_type": "code",
      "source": [
        "Y_pred = X.dot(A)\n",
        "error = Y - Y_pred\n",
        "squared_error_sum = np.sum(np.square(error))\n",
        "print(\"Tổng sai số bình phương:\", squared_error_sum)"
      ],
      "metadata": {
        "colab": {
          "base_uri": "https://localhost:8080/"
        },
        "id": "f-p9e_lNeKnx",
        "outputId": "3880d6db-bbe3-48e9-bee4-36abed7c8421"
      },
      "execution_count": 22,
      "outputs": [
        {
          "output_type": "stream",
          "name": "stdout",
          "text": [
            "Tổng sai số bình phương: 1.1044052673094165e-29\n"
          ]
        }
      ]
    },
    {
      "cell_type": "markdown",
      "source": [
        "BÀI TẬP CHƯƠNG 5"
      ],
      "metadata": {
        "id": "sadNMFt3eNr5"
      }
    },
    {
      "cell_type": "markdown",
      "source": [
        "Câu 1:"
      ],
      "metadata": {
        "id": "3l5AODO5eOwA"
      }
    },
    {
      "cell_type": "code",
      "source": [
        "import numpy as np\n",
        "\n",
        "def bpcuctieu(a):\n",
        "    b = []\n",
        "    o1 = []\n",
        "    for i in range(len(a)):\n",
        "        o1.append(1.0)\n",
        "        b.append(i * 1.0)\n",
        "\n",
        "    x = np.array([o1, b])\n",
        "    u = np.dot(x, x.T)\n",
        "    y = np.array(a)\n",
        "\n",
        "    from numpy import linalg\n",
        "    u_1 = np.linalg.inv(u)\n",
        "    v = np.dot(u_1, x)\n",
        "    A = np.dot(v, y)\n",
        "\n",
        "    return A\n",
        "\n",
        "dulieu = [10.0, 8, 7, 5, 2]\n",
        "A = bpcuctieu(dulieu)\n",
        "\n",
        "print(f\"Phương trình tuyến tính: y = {A[0]:.2f} + {A[1]:.2f} * x\")\n"
      ],
      "metadata": {
        "colab": {
          "base_uri": "https://localhost:8080/"
        },
        "id": "mBKv5MpEeORw",
        "outputId": "f24474bc-a6eb-4212-9fcf-c543fa3b64fa"
      },
      "execution_count": 23,
      "outputs": [
        {
          "output_type": "stream",
          "name": "stdout",
          "text": [
            "Phương trình tuyến tính: y = 10.20 + -1.90 * x\n"
          ]
        }
      ]
    }
  ]
}